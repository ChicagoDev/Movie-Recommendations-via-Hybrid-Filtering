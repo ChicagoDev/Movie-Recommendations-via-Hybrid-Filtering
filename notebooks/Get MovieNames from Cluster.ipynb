{
 "cells": [
  {
   "cell_type": "code",
   "execution_count": 1,
   "metadata": {},
   "outputs": [],
   "source": [
    "from sklearn.datasets import fetch_20newsgroups\n",
    "from sklearn.decomposition import TruncatedSVD\n",
    "from sklearn.feature_extraction.text import TfidfVectorizer\n",
    "from sklearn.feature_extraction.text import HashingVectorizer\n",
    "from sklearn.feature_extraction.text import TfidfTransformer\n",
    "from sklearn.pipeline import make_pipeline\n",
    "from sklearn.preprocessing import Normalizer\n",
    "from sklearn import metrics\n",
    "\n",
    "from sklearn.cluster import KMeans, MiniBatchKMeans\n",
    "\n",
    "import logging\n",
    "from optparse import OptionParser\n",
    "import sys\n",
    "from time import time\n",
    "\n",
    "import numpy as np"
   ]
  },
  {
   "cell_type": "code",
   "execution_count": 2,
   "metadata": {},
   "outputs": [],
   "source": [
    "from sklearn.feature_extraction.text import CountVectorizer\n",
    "import pickle\n",
    "\n",
    "\n",
    "class nlp_preprocessor:\n",
    "   \n",
    "    def __init__(self, vectorizer=CountVectorizer(), tokenizer=None, cleaning_function=None, \n",
    "                 stemmer=None, model=None):\n",
    "        \"\"\"\n",
    "        A class for pipelining our data in NLP problems. The user provides a series of \n",
    "        tools, and this class manages all of the training, transforming, and modification\n",
    "        of the text data.\n",
    "        ---\n",
    "        Inputs:\n",
    "        vectorizer: the model to use for vectorization of text data\n",
    "        tokenizer: The tokenizer to use, if none defaults to split on spaces\n",
    "        cleaning_function: how to clean the data, if None, defaults to the in built class\n",
    "        \"\"\"\n",
    "        if not tokenizer:\n",
    "            tokenizer = self.splitter\n",
    "        if not cleaning_function:\n",
    "            cleaning_function = self.clean_text\n",
    "        self.stemmer = stemmer\n",
    "        self.tokenizer = tokenizer\n",
    "        self.model = model\n",
    "        self.cleaning_function = cleaning_function\n",
    "        self.vectorizer = vectorizer\n",
    "        self._is_fit = False\n",
    "        \n",
    "    def splitter(self, text):\n",
    "        \"\"\"\n",
    "        Default tokenizer that splits on spaces naively\n",
    "        \"\"\"\n",
    "        return text.split(' ')\n",
    "        \n",
    "    def clean_text(self, text, tokenizer, stemmer):\n",
    "        \"\"\"\n",
    "        A naive function to lowercase all works can clean them quickly.\n",
    "        This is the default behavior if no other cleaning function is specified\n",
    "        \"\"\"\n",
    "        cleaned_text = []\n",
    "        for post in text:\n",
    "            cleaned_words = []\n",
    "            for word in tokenizer(post):\n",
    "                low_word = word.lower()\n",
    "                if stemmer:\n",
    "                    low_word = stemmer.stem(low_word)\n",
    "                cleaned_words.append(low_word)\n",
    "            cleaned_text.append(' '.join(cleaned_words))\n",
    "        return cleaned_text\n",
    "    \n",
    "    def fit(self, text):\n",
    "        \"\"\"\n",
    "        Cleans the data and then fits the vectorizer with\n",
    "        the user provided text\n",
    "        \"\"\"\n",
    "        clean_text = self.cleaning_function(text, self.tokenizer, self.stemmer)\n",
    "        self.vectorizer.fit(clean_text)\n",
    "        self._is_fit = True\n",
    "        \n",
    "    def transform(self, text):\n",
    "        \"\"\"\n",
    "        Cleans any provided data and then transforms the data into\n",
    "        a vectorized format based on the fit function. Returns the\n",
    "        vectorized form of the data.\n",
    "        \"\"\"\n",
    "        if not self._is_fit:\n",
    "            raise ValueError(\"Must fit the models before transforming!\")\n",
    "        clean_text = self.cleaning_function(text, self.tokenizer, self.stemmer)\n",
    "        return self.vectorizer.transform(clean_text)\n",
    "    \n",
    "    def save_pipe(self, filename):\n",
    "        \"\"\"\n",
    "        Writes the attributes of the pipeline to a file\n",
    "        allowing a pipeline to be loaded later with the\n",
    "        pre-trained pieces in place.\n",
    "        \"\"\"\n",
    "        if type(filename) != str:\n",
    "            raise TypeError(\"filename must be a string\")\n",
    "        pickle.dump(self.__dict__, open(filename+\".mdl\",'wb'))\n",
    "        \n",
    "    def load_pipe(self, filename):\n",
    "        \"\"\"\n",
    "        Writes the attributes of the pipeline to a file\n",
    "        allowing a pipeline to be loaded later with the\n",
    "        pre-trained pieces in place.\n",
    "        \"\"\"\n",
    "        if type(filename) != str:\n",
    "            raise TypeError(\"filename must be a string\")\n",
    "        if filename[-4:] != '.mdl':\n",
    "            filename += '.mdl'\n",
    "        self.__dict__ = pickle.load(open(filename,'rb'))"
   ]
  },
  {
   "cell_type": "code",
   "execution_count": 3,
   "metadata": {},
   "outputs": [
    {
     "name": "stderr",
     "output_type": "stream",
     "text": [
      "/anaconda3/lib/python3.7/site-packages/IPython/core/interactiveshell.py:3020: DtypeWarning: Columns (10) have mixed types. Specify dtype option on import or set low_memory=False.\n",
      "  interactivity=interactivity, compiler=compiler, result=result)\n"
     ]
    }
   ],
   "source": [
    "import pandas as pd\n",
    "\n",
    "def convert_ids(ids_in_csv):\n",
    "    return pd.to_numeric(ids_in_csv, errors='coerce').astype('int64')\n",
    "\n",
    "movies_metadata_df = pd.read_csv('../data/the-movies-dataset/movies_metadata.csv'\n",
    "                        , converters={'id': lambda x: convert_ids(x), 'imdb_id': lambda x: convert_ids(x)}\n",
    "                       ,usecols=['id', 'original_title'\n",
    "                                 , 'genres', 'homepage'\n",
    "                                 ,'overview', 'popularity', 'poster_path'\n",
    "                                 , 'release_date', 'revenue', 'runtime'\n",
    "                                 ,'spoken_languages','tagline', 'title'\n",
    "                                 ,'vote_average', 'vote_count'])"
   ]
  },
  {
   "cell_type": "code",
   "execution_count": 4,
   "metadata": {},
   "outputs": [],
   "source": [
    "import re\n",
    "def clean(text, tokenizer, stemmer):\n",
    "    \"\"\"\n",
    "    Cleans Text with Regexes\n",
    "    :param text:\n",
    "    :return: text:\n",
    "    \"\"\"\n",
    "    doc = ''.join(text).lower()\n",
    "    doc = re.sub(r'[<>\\{}/;|\\[\\]-]', ' ', doc)\n",
    "    doc = re.sub(r'[0-9]', ' ', doc)\n",
    "    doc = re.sub(r'\\'', ' ', doc)\n",
    "    doc = re.sub(r'=', ' ', doc)\n",
    "    doc = re.sub(r':', ' ', doc)\n",
    "    doc = re.sub(r'\"', ' ', doc)\n",
    "    doc = re.sub(r'\\s+', ' ', doc)\n",
    "    doc = re.sub(r'\\(', ' ', doc)\n",
    "    doc = re.sub(r'\\)', ' ', doc)\n",
    "    doc = re.sub(r'\\s{2,}', ' ', doc)\n",
    "    doc = re.sub(r'\\.', '', doc)\n",
    "    doc = re.sub(r',', '', doc)\n",
    "\n",
    "    return doc"
   ]
  },
  {
   "cell_type": "code",
   "execution_count": 77,
   "metadata": {},
   "outputs": [],
   "source": [
    "from sklearn.feature_extraction.text import TfidfVectorizer\n",
    "\n",
    "nlp_pp = nlp_preprocessor(TfidfVectorizer(stop_words='english'), cleaning_function=clean)"
   ]
  },
  {
   "cell_type": "code",
   "execution_count": 78,
   "metadata": {},
   "outputs": [],
   "source": [
    "corpus = ' '\n",
    "sentences = [str(sentence) for sentence in movies_metadata_df.overview.tolist()]"
   ]
  },
  {
   "cell_type": "code",
   "execution_count": 86,
   "metadata": {},
   "outputs": [],
   "source": [
    "cv_tfidf = TfidfVectorizer(min_df=3, stop_words='english', ngram_range=(2,3))"
   ]
  },
  {
   "cell_type": "code",
   "execution_count": 87,
   "metadata": {},
   "outputs": [],
   "source": [
    "X_tfidf = cv_tfidf.fit_transform(sentences).toarray()"
   ]
  },
  {
   "cell_type": "code",
   "execution_count": 88,
   "metadata": {},
   "outputs": [],
   "source": [
    "#tfidf_model_df = pd.DataFrame(X_tfidf, columns=cv_tfidf.get_feature_names())"
   ]
  },
  {
   "cell_type": "code",
   "execution_count": 89,
   "metadata": {},
   "outputs": [],
   "source": [
    "from sklearn.decomposition import TruncatedSVD"
   ]
  },
  {
   "cell_type": "code",
   "execution_count": 142,
   "metadata": {},
   "outputs": [],
   "source": [
    "svd = TruncatedSVD(n_components=30)"
   ]
  },
  {
   "cell_type": "code",
   "execution_count": 143,
   "metadata": {},
   "outputs": [],
   "source": [
    "tfidf_model_df = pd.DataFrame(X_tfidf, columns=cv_tfidf.get_feature_names())"
   ]
  },
  {
   "cell_type": "code",
   "execution_count": 144,
   "metadata": {},
   "outputs": [],
   "source": [
    "X = svd.fit_transform(tfidf_model_df)"
   ]
  },
  {
   "cell_type": "code",
   "execution_count": 145,
   "metadata": {},
   "outputs": [],
   "source": [
    "#print(svd.explained_variance_ratio_.sum())"
   ]
  },
  {
   "cell_type": "code",
   "execution_count": 146,
   "metadata": {},
   "outputs": [
    {
     "name": "stdout",
     "output_type": "stream",
     "text": [
      "Topic 1:\n",
      "['new york', 'new york city', 'york city', 'year old', 'world war', 'falls love', 'war ii', 'world war ii', 'streets new york', 'streets new', 'high school', 'true story', 'young woman', 'young man', 'tells story', 'small town', 'los angeles', 'york times']\n",
      "Topic 2:\n",
      "['world war', 'war ii', 'world war ii', 'true story', 'year old', 'falls love', 'second world war', 'second world', 'based true', 'end world war', 'end world', 'based true story', 'united states', 'small town', 'tells story', 'german army', 'days world war', 'days world']\n",
      "Topic 3:\n",
      "['year old', 'old boy', 'year old boy', 'high school', 'year old girl', 'old girl', '12 year old', '12 year', 'falls love', '15 year old', '15 year', 'old son', 'year old son', 'year old daughter', 'old daughter', '17 year', '17 year old', '16 year']\n",
      "Topic 4:\n",
      "['falls love', 'high school', 'young woman', 'true story', 'young man', 'based true', 'based true story', 'small town', 'school student', 'high school student', 'school students', 'best friend', 'high school students', 'serial killer', 'los angeles', 'beautiful young', 'tells story', 'story young']\n",
      "Topic 5:\n",
      "['high school', 'true story', 'based true', 'based true story', 'school student', 'high school student', 'school students', 'high school students', 'school senior', 'high school senior', 'high school teacher', 'school teacher', 'high school girl', 'high school reunion', 'school reunion', 'group high school', 'group high', 'school football']\n",
      "Topic 6:\n",
      "['true story', 'based true', 'based true story', 'young woman', 'young man', 'serial killer', 'tells true story', 'tells true', 'inspired true story', 'inspired true', 'true events', 'based true events', 'story young', 'film based true', 'film based', 'united states', 'year old', 'tells story']\n",
      "Topic 7:\n",
      "['young woman', 'young man', 'high school', 'beautiful young woman', 'beautiful young', 'small town', 'attractive young woman', 'attractive young', 'serial killer', 'woman finds', 'los angeles', 'young woman finds', 'young woman named', 'troubled young', 'young woman tries', 'troubled young woman', 'meets young', 'young woman moves']\n",
      "Topic 8:\n",
      "['young man', 'small town', 'young man finds', 'story young man', 'man finds', 'story young', 'man named', 'young man named', 'young man struggles', 'man struggles', 'young man living', 'man love', 'troubled young man', 'man living', 'young man love', 'old man', 'young man returns', 'man woman']\n",
      "Topic 9:\n",
      "['small town', 'los angeles', 'big city', 'town girl', 'small town girl', 'serial killer', 'tells story', 'best friend', 'years later', 'united states', 'bank robbers', 'young girl', 'town newspaper', 'small town america', 'town america', 'years ago', 'small town newspaper', 'goes small town']\n",
      "Topic 10:\n",
      "['los angeles', 'united states', 'tells story', 'best friend', 'serial killer', 'streets los angeles', 'streets los', 'years later', 'city los angeles', 'city los', 'los angeles police', 'angeles police', 'teenage daughter', 'moves los', 'moves los angeles', 'las vegas', 'hong kong', 'goes los angeles']\n",
      "Topic 11:\n",
      "['tells story', 'united states', 'film tells', 'film tells story', 'years later', 'story young', 'president united states', 'president united', 'young girl', 'best friend', 'documentary film', 'tells story young', 'movie tells', 'movie tells story', 'film directed', 'story man', 'young boy', 'serial killer']\n",
      "Topic 12:\n",
      "['united states', 'president united states', 'president united', 'united states america', 'states america', 'history united states', 'history united', 'documentary film', 'soviet union', 'took place', 'cold war', 'armed forces', 'states soviet union', 'united states soviet', 'states soviet', 'years later', 'oil rig', 'civil war']\n",
      "Topic 13:\n",
      "['serial killer', 'best friend', 'young girl', 'young boy', 'years later', 'fbi agent', 'years ago', 'serial killers', 'police detective', 'killer loose', 'serial killer loose', 'young women', 'returns hometown', 'hunt serial', 'film follows', 'hunt serial killer', 'catch serial killer', 'catch serial']\n",
      "Topic 14:\n",
      "['best friend', 'young girl', 'new york', 'years later', 'fall love', 'road trip', 'true love', 'man best', 'man best friend', 'film follows', 'love life', 'returns home', 'years ago', 'best friends', 'security guard', 'police detective', 'love story', 'girlfriend best']\n",
      "Topic 15:\n",
      "['young girl', 'york city', 'new york city', 'girl named', 'helps young', 'story young', 'love young', 'young girl named', 'make way', 'young girl sent', 'story young girl', 'drama young', 'night stand', 'girl sent', 'coming age', 'young girl comes', 'beautiful young', 'girl comes']\n",
      "Topic 16:\n",
      "['new york', 'fall love', 'young girl', 'new york times', 'york times', 'years later', 'love story', 'new york apartment', 'york apartment', 'upstate new', 'upstate new york', 'serial killer', 'young boy', 'civil war', 'takes place', 'san francisco', '20 years', 'double crossed']\n",
      "Topic 17:\n",
      "['fall love', 'years later', 'love story', 'new york city', 'york city', 'civil war', 'meet fall', 'meet fall love', 'love woman', 'fall love woman', 'man woman', 'takes place', 'young men', 'years ago', 'hong kong', 'film directed', 'fall love girl', '20 years']\n",
      "Topic 18:\n",
      "['years later', 'civil war', 'young boy', 'takes place', 'spanish civil', 'spanish civil war', 'years ago', '20 years', 'love story', '20 years later', 'feature length', 'police officer', '10 years', 'documentary film', 'best friends', 'film directed', 'thirty years', 'rock star']\n",
      "Topic 19:\n",
      "['civil war', 'love story', 'spanish civil', 'spanish civil war', 'takes place', 'american civil war', 'american civil', 'documentary film', 'best friend', 'fall love', 'war veteran', 'russian civil', 'russian civil war', 'story set', 'union army', 'civil war veteran', 'coming age', 'returns home']\n",
      "Topic 20:\n",
      "['love story', 'story set', 'love story set', 'takes place', 'film follows', 'documentary film', 'feature length', 'film directed', 'young boy', 'story young', 'true love', 'length documentary', 'love story young', 'feature length documentary', 'romantic comedy', 'story follows', 'short film', 'based novel']\n",
      "Topic 21:\n",
      "['young boy', 'film follows', 'boy named', 'young boy named', 'martial arts', 'young couple', 'coming age', 'christmas eve', 'old boy', 'year old boy', 'story young', 'hong kong', 'documentary film', 'feature length', 'old man', 'boy living', 'young boy living', 'road trip']\n",
      "Topic 22:\n",
      "['feature length', 'length documentary', 'feature length documentary', 'documentary film', 'film follows', 'san francisco', 'length documentary film', 'real life', 'film directed', 'years ago', 'young couple', 'martial arts', 'short film', 'romantic comedy', 'award winning', 'life story', 'documentary making', 'length documentary making']\n",
      "Topic 23:\n",
      "['film follows', 'young couple', 'romantic comedy', 'road trip', 'kung fu', 'hong kong', 'martial arts', 'coming age', 'police officer', 'film follows life', 'married couple', 'follows life', 'real life', 'historical events', 'comedy centered', 'las vegas', 'japanese mafia', 'teenage girl']\n",
      "Topic 24:\n",
      "['martial arts', 'old boy', 'year old boy', 'hong kong', 'kung fu', 'takes place', 'film directed', 'years ago', 'story takes', 'story takes place', 'arts expert', 'martial arts expert', '11 year', '11 year old', 'kung fu master', 'fu master', 'arts master', 'martial arts master']\n",
      "Topic 25:\n",
      "['old boy', 'year old boy', 'film follows', 'years later', '11 year', '11 year old', 'feature length', 'fall love', 'love story', 'length documentary', 'feature length documentary', 'based true', '14 year', '14 year old', 'los angeles', 'best friend', 'romantic comedy', '10 year']\n",
      "Topic 26:\n",
      "['takes place', 'story takes', 'story takes place', 'years ago', 'middle aged', 'san francisco', 'film directed', 'new life', 'film takes', 'film takes place', 'short film', 'married couple', 'based true', 'young couple', 'story young', 'start new', '20th century', 'start new life']\n",
      "Topic 27:\n",
      "['road trip', 'young couple', 'best friends', 'middle aged', 'old boy', 'year old boy', 'romantic comedy', 'true love', 'young men', 'embark road trip', 'embark road', 'old friends', 'las vegas', 'lost love', 'christmas eve', 'young people', 'cross country', 'car accident']\n",
      "Topic 28:\n"
     ]
    },
    {
     "name": "stdout",
     "output_type": "stream",
     "text": [
      "['based true', 'based true story', 'true events', 'based true events', 'film based', 'film directed', 'short film', 'romantic comedy', 'police officer', 'real life', 'life story', 'film based true', 'second world', 'second world war', 'world war', 'old man', 'feature film', 'award winning']\n",
      "Topic 29:\n",
      "['san francisco', 'new life', 'years ago', 'start new', 'start new life', 'police officer', 'best friends', 'middle aged', 'life story', 'true love', 'short film', '20 years', 'new year', 'returns home', 'based true', 'single mother', 'car accident', 'old boy']\n",
      "Topic 30:\n",
      "['middle aged', 'years ago', 'middle aged man', 'aged man', 'based true', 'kung fu', 'based true story', 'christmas eve', 'film follows', 'single mother', 'life story', 'small time', 'middle aged woman', 'aged woman', 'teenage girl', 'middle aged couple', 'aged couple', 'feature length']\n",
      "Topic 31:\n",
      "['film directed', 'documentary film', 'middle aged', 'short film', 'romantic comedy', 'best friends', 'based novel', 'comedy film', 'drama film', 'real life', 'feature film', 'film based', 'true story', 'film festival', 'comedy film directed', 'drama film directed', 'true love', 'life story']\n",
      "Topic 32:\n",
      "['years ago', 'young couple', 'film directed', 'old man', '20 years', '12 year', '12 year old', 'new year', '30 years', 'years old', '20 years ago', 'married couple', 'new year eve', 'year eve', 'fbi agent', 'group people', 'documentary film', 'based novel']\n",
      "Topic 33:\n",
      "['young couple', 'san francisco', 'middle aged', 'hong kong', 'kung fu', 'new year', 'police officer', 'middle aged man', 'aged man', 'young women', 'year eve', 'new year eve', 'teenage girl', 'years later', 'old man', 'christmas eve', 'las vegas', 'feature length']\n",
      "Topic 34:\n",
      "['new life', 'hong kong', 'start new', 'start new life', 'young couple', 'police officer', 'middle aged', 'true love', '19th century', 'best friends', 'car accident', 'feature length', 'second world', 'second world war', 'life death', 'real life', 'school student', 'world war']\n",
      "Topic 35:\n",
      "['best friends', 'hong kong', 'true love', 'teenage girl', '20th century', 'new year', 'life death', 'old girl', 'year old girl', 'romantic comedy', 'years ago', 'year eve', 'new year eve', 'love life', '16 year', '16 year old', 'san francisco', 'early 20th']\n",
      "Topic 36:\n",
      "['hong kong', 'new year', 'road trip', 'year eve', 'new year eve', '19th century', 'police officer', '20 years', 'years ago', 'las vegas', 'old girl', 'year old girl', 'based novel', 'film follows', 'film directed', 'war ii', 'world war ii', 'married couple']\n",
      "Topic 37:\n",
      "['new year', 'teenage girl', 'year eve', 'new year eve', 'las vegas', 'martial arts', 'best friends', 'school student', 'high school student', 'new life', 'young women', 'real life', 'college student', 'young people', 'gets involved', 'old girl', 'life story', 'year old girl']\n",
      "Topic 38:\n",
      "['12 year', '12 year old', 'old son', 'year old son', 'new year', 'year eve', 'new year eve', '20th century', 'returns home', 'romantic comedy', 'best friends', 'young men', 'old daughter', 'year old daughter', 'san francisco', 'kung fu', 'second world', 'second world war']\n",
      "Topic 39:\n",
      "['teenage girl', '12 year', '12 year old', 'coming age', 'old son', 'year old son', 'hong kong', 'documentary film', 'young men', 'police officer', 'car accident', 'small time', 'coming age story', 'age story', '19th century', '20 years', 'fbi agent', 'film directed']\n",
      "Topic 40:\n",
      "['documentary film', 'police officer', 'las vegas', 'best friends', 'war ii', 'world war ii', 'kung fu', '17 year', '17 year old', 'new life', 'middle aged', 'rise fall', 'santa claus', 'young men', 'feature documentary', 'man woman', 'american documentary', 'documentary film directed']\n",
      "Topic 41:\n",
      "['old man', 'second world', 'second world war', 'young men', 'short film', 'world war', 'married couple', 'young women', 'las vegas', 'year old man', 'teenage girl', '20th century', 'documentary film', 'boarding school', 'kung fu', 'long time', 'years old', 'school student']\n",
      "Topic 42:\n",
      "['real life', 'true love', 'old man', 'documentary film', '20th century', 'modern day', 'life story', 'based real', 'based real life', 'young men', 'coming age', 'cat mouse', 'second world', 'school student', 'second world war', 'young women', 'real life story', 'early 20th']\n",
      "Topic 43:\n",
      "['true love', 'las vegas', 'documentary film', 'war ii', 'world war ii', 'film directed', 'school student', 'small time', 'finds true', 'finds true love', '19th century', 'high school student', 'ex girlfriend', 'new year', 'martial arts', 'based true', 'based true story', '20 years']\n",
      "Topic 44:\n",
      "['police officer', 'second world', 'second world war', 'romantic comedy', 'world war', 'film directed', 'christmas eve', 'group people', 'young women', 'old girl', 'year old girl', 'returns home', 'man woman', 'little girl', 'small time', 'long time', '16 year', '16 year old']\n",
      "Topic 45:\n",
      "['romantic comedy', 'police officer', '20th century', 'old man', 'modern day', 'christmas eve', 'early 20th', 'early 20th century', 'small time', '19th century', 'war ii', 'world war ii', 'returns home', 'falling love', 'ex girlfriend', 'younger brother', '15 year', 'old son']\n",
      "Topic 46:\n",
      "['short film', '20th century', 'returns home', 'old girl', 'year old girl', '19th century', 'car accident', '12 year', '12 year old', 'early 20th century', 'early 20th', 'documentary film', 'award winning', 'cat mouse', 'fbi agent', 'modern day', 'feature film', 'las vegas']\n",
      "Topic 47:\n",
      "['returns home', '15 year', '15 year old', 'man woman', 'las vegas', 'young men', 'romantic comedy', 'christmas eve', 'falling love', 'hip hop', 'coming age', 'life death', 'rock roll', 'small time', 'little girl', 'married couple', 'turned upside', 'documentary film']\n",
      "Topic 48:\n",
      "['coming age', '12 year', '12 year old', 'christmas eve', 'small time', 'years old', 'coming age story', 'age story', 'modern day', 'old man', 'las vegas', 'old girl', 'year old girl', 'romantic comedy', 'kung fu', 'young people', 'hit man', 'real life']\n",
      "Topic 49:\n",
      "['las vegas', 'years old', 'christmas eve', '19th century', 'small time', 'award winning', 'cat mouse', '20 years', 'ex wife', 'kung fu', 'film directed', 'old daughter', 'year old daughter', 'game cat', 'game cat mouse', '20th century', '16 year', '16 year old']\n",
      "Topic 50:\n",
      "['christmas eve', '19th century', 'romantic comedy', '15 year', '15 year old', 'life story', 'documentary film', '12 year', '12 year old', 'falling love', 'man woman', 'award winning', 'kung fu', 'middle class', 'group people', 'modern day', 'hip hop', '16 year']\n"
     ]
    }
   ],
   "source": [
    "### Simpler Model, no NGrams, Less Components\n",
    "for idx, topic in enumerate(svd.components_):\n",
    "    print(\"Topic %d:\" % (idx + 1))\n",
    "    #print(topic)\n",
    "    print([(cv_tfidf.get_feature_names()[i]) for i in topic.argsort()[:-18 - 1:-1]])"
   ]
  },
  {
   "cell_type": "code",
   "execution_count": 76,
   "metadata": {
    "collapsed": true
   },
   "outputs": [
    {
     "name": "stdout",
     "output_type": "stream",
     "text": [
      "Topic 1:\n",
      "['nan', 'kid', 'love', 'jay', 'hae', 'myung', 'lin', 'star', 'xiang', 'life', 'xiao', 'set', 'implores', 'hua', 'guy kibbee', 'railroaded', 'women', 'kibbee', 'monastery', 'sylvia', 'walters', 'blackpool', 'gary cooper', 'rackets', 'embark road', 'downhill', 'village', 'cohorts', 'hall', 'racketeer']\n",
      "Topic 2:\n",
      "['life', 'young', 'man', 'love', 'new', 'family', 'film', 'story', 'world', 'old', 'woman', 'father', 'year', 'time', 'girl', 'years', 'town', 'war', 'mother', 'wife', 'lives', 'school', 'finds', 'home', 'friends', 'son', 'day', 'year old', 'daughter', 'people']\n",
      "Topic 3:\n",
      "['overview', 'overview available', 'available', 'movie overview', 'movie', 'terrence', '2005', 'plot', 'new world', 'accomplishments', 'org', 'rock legends', 'punk', 'sweeping', 'making', 'ongoing', 'space', 'vile', 'add', 'punk rock', 'legends', 'humanity', 'activities', 'shocking', 'russell', 'planet', 'notorious', 'plans', 'rock', 'future']\n",
      "Topic 4:\n",
      "['film', 'war', 'documentary', 'world', 'story', 'world war', 'based', 'directed', 'movie', 'ii', 'director', 'american', 'war ii', 'feature', 'history', 'people', 'film directed', 'films', 'tells', 'short', 'footage', 'set', 'documentary film', 'german', 'follows', 'true', 'music', 'group', 'true story', 'tells story']\n",
      "Topic 5:\n",
      "['young', 'woman', 'man', 'love', 'young woman', 'young man', 'falls', 'story', 'falls love', 'war', 'film', 'husband', 'world war', 'beautiful', 'wife', 'war ii', 'ii', 'fall love', 'true', 'affair', 'married', 'love story', 'fall', 'based', 'men', 'young girl', 'lover', 'women', 'story young', 'meets']\n",
      "Topic 6:\n",
      "['new', 'york', 'new york', 'city', 'york city', 'woman', 'town', 'police', 'killer', 'detective', 'cop', 'small', 'young', 'murder', 'young woman', 'job', 'drug', 'apartment', 'husband', 'gang', 'girlfriend', 'small town', 'streets', 'group', 'special', 'wife', 'big', 'partner', 'new life', 'gets']\n",
      "Topic 7:\n",
      "['film', 'love', 'life', 'year', 'old', 'new', 'year old', 'new york', 'york', 'story', 'falls', 'falls love', 'woman', 'directed', 'documentary', 'director', 'young', 'movie', 'man', 'girl', 'based', 'comedy', 'film directed', 'relationship', 'short', 'tells', 'mother', 'york city', 'feature', 'music']\n",
      "Topic 8:\n",
      "['school', 'high', 'high school', 'love', 'students', 'student', 'teacher', 'falls', 'falls love', 'group', 'girl', 'friends', 'girls', 'college', 'story', 'school student', 'school students', 'team', 'class', 'fall', 'true', 'best', 'popular', 'fall love', 'school teacher', 'football', 'senior', 'coach', 'teachers', 'night']\n",
      "Topic 9:\n",
      "['love', 'war', 'new', 'world', 'story', 'york', 'new york', 'falls', 'world war', 'falls love', 'war ii', 'ii', 'year', 'year old', 'old', 'york city', 'city', 'true', 'love story', 'girl', 'fall', 'fall love', 'true story', 'boy', 'german', 'tells', 'meets', 'tells story', 'true love', 'civil war']\n",
      "Topic 10:\n",
      "['young', 'man', 'woman', 'old', 'year', 'year old', 'school', 'young woman', 'young man', 'film', 'high', 'world', 'high school', 'new', 'new york', 'york', 'war', 'world war', 'group', 'boy', 'city', 'students', 'girl', 'war ii', 'york city', 'ii', 'documentary', 'young girl', 'teacher', 'old man']\n",
      "Topic 11:\n",
      "['town', 'small', 'small town', 'love', 'film', 'falls', 'falls love', 'old', 'year', 'year old', 'girl', 'story', 'local', 'sheriff', 'woman', 'police', 'murder', 'gang', 'city', 'boy', 'group', 'set', 'killer', 'fall love', 'people', 'fall', 'directed', 'village', 'based', 'community']\n",
      "Topic 12:\n",
      "['family', 'young', 'film', 'woman', 'father', 'mother', 'young woman', 'school', 'war', 'home', 'son', 'high school', 'high', 'town', 'boy', 'world war', 'husband', 'house', 'children', 'ii', 'war ii', 'girl', 'small', 'new', 'daughter', 'child', 'parents', 'young girl', 'young boy', 'sister']\n",
      "Topic 13:\n",
      "['story', 'town', 'life', 'true', 'small', 'true story', 'young', 'man', 'based', 'small town', 'family', 'tells', 'tells story', 'based true', 'young man', 'school', 'high school', 'story young', 'high', 'boy', 'city', 'people', 'new', 'life story', 'young woman', 'new york', 'york', 'events', 'age', 'lives']\n",
      "Topic 14:\n",
      "['life', 'woman', 'town', 'small', 'world', 'young woman', 'small town', 'young', 'documentary', 'time', 'people', 'friends', 'year', 'day', 'lives', 'year old', 'old', 'women', 'new life', 'way', 'make', 'meets', 'live', 'change', 'group', 'living', 'dreams', 'look', 'human', 'career']\n",
      "Topic 15:\n",
      "['man', 'town', 'small', 'young man', 'small town', 'family', 'film', 'war', 'life', 'world', 'love', 'school', 'world war', 'falls', 'war ii', 'ii', 'high school', 'falls love', 'high', 'new', 'old man', 'documentary', 'sheriff', 'big', 'home', 'hit man', 'new york', 'wife', 'york', 'civil war']\n",
      "Topic 16:\n",
      "['young', 'girl', 'group', 'boy', 'friends', 'people', 'young girl', 'young man', 'earth', 'world', 'time', 'way', 'father', 'evil', 'love', 'lives', 'documentary', 'make', 'young boy', 'island', 'save', 'journey', 'men', 'planet', 'band', 'comedy', 'human', 'live', 'discover', 'music']\n",
      "Topic 17:\n",
      "['father', 'girl', 'mother', 'life', 'young', 'boy', 'son', 'war', 'film', 'death', 'young girl', 'police', 'murder', 'daughter', 'killer', 'wife', 'detective', 'young boy', 'teenage', 'serial', 'world war', 'serial killer', 'tries', 'york', 'new york', 'brother', 'crime', 'war ii', 'ii', 'case']\n",
      "Topic 18:\n",
      "['family', 'killer', 'police', 'life', 'murder', 'young', 'serial', 'serial killer', 'detective', 'girl', 'love', 'falls', 'crime', 'falls love', 'case', 'cop', 'gang', 'officer', 'year old', 'agent', 'year', 'los', 'angeles', 'los angeles', 'young girl', 'drug', 'police detective', 'documentary', 'criminal', 'investigation']\n",
      "Topic 19:\n",
      "['documentary', 'father', 'son', 'years', 'mother', 'people', 'death', 'love', 'falls', 'los', 'falls love', 'angeles', 'los angeles', 'daughter', 'city', 'human', 'high', 'american', 'earth', 'history', 'band', 'high school', 'school', 'interviews', 'filmmaker', 'black', 'music', 'footage', 'boy', 'documentary film']\n",
      "Topic 20:\n",
      "['documentary', 'wife', 'war', 'girl', 'young', 'lives', 'women', 'couple', 'american', 'friends', 'men', 'murder', 'husband', 'night', 'house', 'children', 'relationship', 'music', 'comedy', 'married', 'work', 'country', 'gets', 'years', 'home', 'killer', 'rock', 'interviews', 'best', 'young girl']\n",
      "Topic 21:\n",
      "['world', 'killer', 'serial', 'serial killer', 'girl', 'murder', 'detective', 'lives', 'documentary', 'husband', 'mother', 'boy', 'world war', 'mysterious', 'case', 'day', 'war ii', 'strange', 'ii', 'best', 'woman', 'house', 'night', 'begins', 'human', 'little', 'christmas', 'murders', 'police', 'discovers']\n",
      "Topic 22:\n",
      "['killer', 'group', 'lives', 'years', 'serial', 'serial killer', 'friends', 'love', 'house', 'film', 'people', 'couple', 'mother', 'women', 'day', 'young', 'children', 'night', 'war', 'home', 'life', 'death', 'later', 'son', 'wife', 'years later', 'island', 'discover', 'stories', 'different']\n",
      "Topic 23:\n",
      "['girl', 'wife', 'years', 'husband', 'earth', 'young girl', 'house', 'daughter', 'planet', 'children', 'later', 'evil', 'island', 'new', 'finds', 'years later', 'space', 'human', 'alien', 'people', 'group', 'falls', 'mysterious', 'dr', 'dead', 'crew', 'teenage girl', 'ago', 'battle', 'falls love']\n",
      "Topic 24:\n",
      "['friend', 'best', 'friends', 'years', 'best friend', 'death', 'killer', 'american', 'boy', 'new', 'woman', 'returns', 'documentary', 'serial', 'serial killer', 'father', 'war', 'earth', 'best friends', 'college', 'movie', 'later', 'mother', 'girl', 'childhood', 'band', 'mysterious', 'years later', 'past', 'based']\n",
      "Topic 25:\n",
      "['young', 'movie', 'time', 'wife', 'couple', 'years', 'based', 'new', 'team', 'home', 'finds', 'boy', 'young man', 'star', 'prison', 'young boy', 'world', 'love', 'christmas', 'town', 'work', 'young couple', 'novel', 'game', 'director', 'agent', 'year', 'true', 'play', 'doctor']\n",
      "Topic 26:\n",
      "['years', 'time', 'prison', 'later', 'police', 'years later', 'brother', 'friends', 'ago', 'murder', 'years ago', 'men', 'women', 'crime', 'city', 'gang', 'film', 'drug', '20', 'united', 'states', 'lives', 'day', '20 years', 'united states', 'released', 'returns', 'girl', 'years old', 'way']\n",
      "Topic 27:\n",
      "['comedy', 'movie', 'time', 'los', 'los angeles', 'angeles', 'daughter', 'mother', 'years', 'killer', 'house', 'special', 'star', 'girl', 'serial', 'serial killer', 'woman', 'stand', 'christmas', 'live', 'war', 'man', 'american', 'set', 'romantic', 'team', 'black', 'romantic comedy', 'hollywood', 'comedian']\n",
      "Topic 28:\n"
     ]
    },
    {
     "name": "stdout",
     "output_type": "stream",
     "text": [
      "['los', 'angeles', 'los angeles', 'wife', 'friends', 'world', 'group', 'daughter', 'husband', 'years', 'murder', 'best', 'lives', 'team', 'set', 'teenage', 'death', 'son', 'help', 'young', 'girl', 'past', 'band', 'affair', 'drama', 'relationship', 'true', 'friend', 'men', 'town']\n",
      "Topic 29:\n",
      "['home', 'los', 'angeles', 'los angeles', 'friends', 'documentary', 'house', 'war', 'boy', 'story', 'way', 'returns', 'film', 'gets', 'soon', 'trip', 'car', 'true', 'finds', 'dead', 'new', 'girlfriend', 'returns home', 'road', 'make', 'college', 'time', 'night', 'begins', 'brother']\n",
      "Topic 30:\n",
      "['time', 'wife', 'father', 'women', 'killer', 'men', 'girl', 'friends', 'documentary', 'serial', 'serial killer', 'house', 'day', 'falls', 'family', 'village', 'small', 'son', 'big', 'falls love', 'small time', 'woman', 'century', 'mysterious', 'evil', 'save', 'takes', 'business', 'beautiful', 'young girl']\n",
      "Topic 31:\n",
      "['movie', 'brother', 'gang', 'group', 'home', 'men', 'wife', 'village', 'police', 'friends', 'boy', 'star', 'goes', 'woman', 'death', 'band', 'story', 'rock', 'girl', 'tells', 'set', 'sister', 'revenge', 'brothers', 'big', 'king', 'killed', 'children', 'world', 'returns']\n",
      "Topic 32:\n",
      "['lives', 'people', 'friend', 'village', 'home', 'earth', 'comedy', 'los', 'angeles', 'los angeles', 'war', 'death', 'couple', 'based', 'help', 'brother', 'best', 'city', 'father', 'documentary', 'best friend', 'save', 'christmas', 'men', 'john', 'fight', 'just', 'planet', 'human', 'returns']\n",
      "Topic 33:\n",
      "['men', 'women', 'day', 'daughter', 'murder', 'documentary', 'new', 'finds', 'father', 'mother', 'movie', 'true', 'tries', 'brother', 'soon', 'town', 'dead', 'home', 'crew', 'brothers', 'love', 'just', 'past', 'earth', 'fall', 'house', 'army', 'discover', 'beautiful', 'true story']\n",
      "Topic 34:\n",
      "['daughter', 'movie', 'killer', 'people', 'help', 'serial', 'money', 'serial killer', 'years', 'make', 'story', 'gang', 'gets', 'work', 'tries', 'order', 'women', 'friend', 'village', 'decides', 'job', 'mother', 'wants', 'prison', 'tells', 'earth', 'star', 'wife', 'forced', 'tells story']\n",
      "Topic 35:\n",
      "['movie', 'son', 'friends', 'finds', 'lives', 'boy', 'night', 'new', 'secret', 'mysterious', 'day', 'british', 'couple', 'documentary', 'agent', 'years', 'series', 'job', 'team', 'book', 'war', 'soon', 'college', 'tells', 'student', 'los', 'angeles', 'los angeles', 'family', 'french']\n",
      "Topic 36:\n",
      "['takes', 'father', 'people', 'years', 'home', 'son', 'place', 'job', 'group', 'world', 'gets', 'movie', 'falls', 'country', 'finds', 'takes place', 'girl', 'returns', 'village', 'make', 'money', 'look', 'student', 'men', 'falls love', 'trip', 'based', 'college', 'murder', 'house']\n",
      "Topic 37:\n",
      "['city', 'couple', 'money', 'children', 'movie', 'secret', 'american', 'agent', 'falls', 'way', 'father', 'york city', 'country', 'boy', 'house', 'men', 'falls love', 'trip', 'big', 'world', 'journey', 'killer', 'years', 'road', 'parents', 'search', 'bank', 'serial', 'serial killer', 'life']\n",
      "Topic 38:\n",
      "['day', 'daughter', 'death', 'takes', 'night', 'city', 'christmas', 'music', 'friend', 'evil', 'band', 'young', 'king', 'place', 'past', 'son', 'rock', 'game', 'best', 'turns', 'job', 'help', 'story', 'set', 'mysterious', 'trip', 'falls', 'country', 'dark', 'people']\n",
      "Topic 39:\n",
      "['house', 'death', 'children', 'based', 'money', 'day', 'king', 'brother', 'true', 'tries', 'falls', 'college', 'group', 'christmas', 'make', 'falls love', 'evil', 'true story', 'based true', 'murder', 'jack', 'novel', 'help', 'people', 'student', 'play', 'game', 'wants', 'book', 'years']\n",
      "Topic 40:\n",
      "['couple', 'movie', 'american', 'home', 'day', 'village', 'set', 'mother', 'time', 'gets', 'children', 'gang', 'world', 'based', 'friends', 'married', 'true', 'new', 'women', 'girl', 'young couple', 'police', 'people', 'marriage', 'murder', 'son', 'team', 'detective', 'relationship', 'involved']\n"
     ]
    }
   ],
   "source": [
    "for idx, topic in enumerate(svd.components_):\n",
    "    print(\"Topic %d:\" % (idx + 1))\n",
    "    #print(topic)\n",
    "    print([(cv_tfidf.get_feature_names()[i]) for i in topic.argsort()[:-30 - 1:-1]])"
   ]
  },
  {
   "cell_type": "code",
   "execution_count": 186,
   "metadata": {},
   "outputs": [
    {
     "data": {
      "text/plain": [
       "KMeans(algorithm='auto', copy_x=True, init='k-means++', max_iter=450,\n",
       "    n_clusters=300, n_init=10, n_jobs=-1, precompute_distances='auto',\n",
       "    random_state=None, tol=0.0001, verbose=0)"
      ]
     },
     "execution_count": 186,
     "metadata": {},
     "output_type": "execute_result"
    }
   ],
   "source": [
    "km = KMeans(n_clusters=300, init='k-means++', max_iter=450, n_jobs=-1,)\n",
    "km.fit(X)"
   ]
  },
  {
   "cell_type": "code",
   "execution_count": 195,
   "metadata": {},
   "outputs": [
    {
     "data": {
      "text/plain": [
       "KMeans(algorithm='auto', copy_x=True, init='k-means++', max_iter=450,\n",
       "    n_clusters=500, n_init=10, n_jobs=-1, precompute_distances='auto',\n",
       "    random_state=None, tol=0.0001, verbose=0)"
      ]
     },
     "execution_count": 195,
     "metadata": {},
     "output_type": "execute_result"
    }
   ],
   "source": [
    "km2 = KMeans(n_clusters=500, init='k-means++', max_iter=450, n_jobs=-1)\n",
    "km2.fit(X)"
   ]
  },
  {
   "cell_type": "code",
   "execution_count": 201,
   "metadata": {},
   "outputs": [
    {
     "data": {
      "text/plain": [
       "KMeans(algorithm='auto', copy_x=True, init='k-means++', max_iter=450,\n",
       "    n_clusters=150, n_init=10, n_jobs=-1, precompute_distances='auto',\n",
       "    random_state=51, tol=0.0001, verbose=0)"
      ]
     },
     "execution_count": 201,
     "metadata": {},
     "output_type": "execute_result"
    }
   ],
   "source": [
    "km3 = KMeans(n_clusters=150, init='k-means++', max_iter=450, n_jobs=-1, random_state=51)\n",
    "km3.fit(X)"
   ]
  },
  {
   "cell_type": "code",
   "execution_count": 187,
   "metadata": {},
   "outputs": [],
   "source": [
    "clustered = zip(km.labels_, movies_metadata_df['id'])#zip(tfidf_model_df.index.values, km.labels_)"
   ]
  },
  {
   "cell_type": "code",
   "execution_count": 188,
   "metadata": {},
   "outputs": [],
   "source": [
    "#### Needs Functionalization/Abstraction\n",
    "from collections import defaultdict\n",
    "movie_summaries_clustered = defaultdict(list)\n",
    "\n",
    "for cluster, movie_id in clustered:\n",
    "    movie_summaries_clustered[cluster].append(movie_id)\n",
    "####"
   ]
  },
  {
   "cell_type": "code",
   "execution_count": 112,
   "metadata": {},
   "outputs": [],
   "source": [
    "#cluster_distribution = [len(movies) for (clust, movies) in movie_summaries_clustered.items()]"
   ]
  },
  {
   "cell_type": "code",
   "execution_count": 113,
   "metadata": {},
   "outputs": [],
   "source": [
    "def get_cluster_number(movie, cluster_zip):\n",
    "\n",
    "    for cluster, movie_id in cluster_zip:\n",
    "        \n",
    "        if movie_id == movie:\n",
    "            return cluster\n",
    "    \n",
    "    raise Exception('Movie not found in cluster')"
   ]
  },
  {
   "cell_type": "code",
   "execution_count": 114,
   "metadata": {},
   "outputs": [
    {
     "data": {
      "text/plain": [
       "18"
      ]
     },
     "execution_count": 114,
     "metadata": {},
     "output_type": "execute_result"
    }
   ],
   "source": [
    "#### Find the cluster of a movie by movie id\n",
    "clustered = zip(km.labels_, movies_metadata_df['id'])#zip(tfidf_model_df.index.values, km.labels_)\n",
    "get_cluster_number(862, clustered)\n",
    "####"
   ]
  },
  {
   "cell_type": "code",
   "execution_count": 115,
   "metadata": {},
   "outputs": [],
   "source": [
    "def get_movie_name(movie_id):\n",
    "    return movies_metadata_df[movies_metadata_df.id == movie_id]['original_title'].iloc[0]\n",
    "\n",
    "def get_all_movies_in_cluster(cluster_number, cluster_dict):\n",
    "    \n",
    "    movies = cluster_dict[cluster_number]\n",
    "    return [get_movie_name(mov) for mov in movies]"
   ]
  },
  {
   "cell_type": "code",
   "execution_count": 190,
   "metadata": {},
   "outputs": [
    {
     "data": {
      "text/plain": [
       "['The Journey of August King',\n",
       " 'Heidi Fleiss: Hollywood Madam',\n",
       " 'Feast of July',\n",
       " 'A Simple Twist of Fate',\n",
       " 'De eso no se habla',\n",
       " 'Beauty and the Beast',\n",
       " 'Moll Flanders',\n",
       " 'Tarantella',\n",
       " 'Le Hussard sur le toit',\n",
       " 'That Darn Cat!',\n",
       " 'Raw Deal',\n",
       " 'Identificazione di una donna',\n",
       " 'Lethal Weapon',\n",
       " 'Shadow of a Doubt',\n",
       " 'Jamaica Inn',\n",
       " 'Shattered Image',\n",
       " 'The Theory of Flight',\n",
       " \"The Mummy's Ghost\",\n",
       " 'The Bedroom Window',\n",
       " 'Stigmata',\n",
       " \"L'ennui\",\n",
       " 'Coma',\n",
       " 'The Ape',\n",
       " 'Mansfield Park',\n",
       " 'The Crow: Salvation',\n",
       " 'Possession',\n",
       " 'Daughter of Dr. Jekyll',\n",
       " 'The In Crowd',\n",
       " 'The Gift',\n",
       " 'Bread and Roses',\n",
       " 'Another Woman',\n",
       " 'The Vanishing',\n",
       " \"Don't Say a Word\",\n",
       " 'Keetje Tippel',\n",
       " 'Lásky jedné plavovlásky',\n",
       " 'Scarlet Street',\n",
       " 'Divorcing Jack',\n",
       " 'Oh Heavenly Dog',\n",
       " 'Homicidal',\n",
       " 'The Mystic Masseur',\n",
       " 'The Sleepy Time Gal',\n",
       " 'Tmavomodrý svět',\n",
       " 'Secretary',\n",
       " 'May',\n",
       " 'Starstruck',\n",
       " 'César et Rosalie',\n",
       " 'Éxtasis',\n",
       " 'Le Divorce',\n",
       " 'Dans ma peau',\n",
       " 'Rabid',\n",
       " 'The Black Pirate',\n",
       " 'EuroTrip',\n",
       " '幻の光',\n",
       " 'Efter repetitionen',\n",
       " 'The Hi-Line',\n",
       " 'Plain Dirty',\n",
       " 'Our Hospitality',\n",
       " 'The Terror',\n",
       " 'The Cameraman',\n",
       " 'Yellow Sky',\n",
       " 'Emmanuelle',\n",
       " 'GhostWatcher',\n",
       " 'A Love Song for Bobby Long',\n",
       " '살인의 추억',\n",
       " 'Thriller - en grym film',\n",
       " 'The Uninvited',\n",
       " '쓰리, 몬스터',\n",
       " 'Baby Face',\n",
       " 'The Girl in the Café',\n",
       " 'Nadie hablará de nosotras cuando hayamos muerto',\n",
       " 'Il bidone',\n",
       " 'V for Vendetta',\n",
       " 'Lisbela e o Prisioneiro',\n",
       " 'Evil Aliens',\n",
       " 'Lady in the Water',\n",
       " 'Zui hao de shi guang',\n",
       " 'The Grudge 2',\n",
       " 'The Dead Girl',\n",
       " 'Black Snake Moan',\n",
       " \"Fauteuils d'orchestre\",\n",
       " 'Requiem',\n",
       " 'Auf der anderen Seite',\n",
       " 'Du levande',\n",
       " 'The Woman in White',\n",
       " 'The Klansman',\n",
       " '苹果',\n",
       " 'The Midnight Meat Train',\n",
       " 'Luci del varietà',\n",
       " 'Дама с собачкой',\n",
       " 'Loft',\n",
       " 'Terrified',\n",
       " 'The Fast and the Furious',\n",
       " 'Loulou',\n",
       " '好男好女',\n",
       " \"Muriel, ou le Temps d'un retour\",\n",
       " 'Lieksa!',\n",
       " 'Heart of Midnight',\n",
       " 'Il tuo vizio è una stanza chiusa e solo io ne ho la chiave',\n",
       " 'Русалка',\n",
       " 'How About You...',\n",
       " 'The Girl of the Golden West',\n",
       " '夢二',\n",
       " 'Fear and Desire',\n",
       " 'Chori Chori Chupke Chupke',\n",
       " 'Blood and Concrete',\n",
       " \"It's Alive\",\n",
       " 'Emmas Glück',\n",
       " 'Svinalängorna',\n",
       " 'Le Nom des gens',\n",
       " 'O Estranho Caso de Angélica',\n",
       " '오! 수정',\n",
       " 'Messiah of Evil',\n",
       " 'The Temptress',\n",
       " 'The Merry Widow',\n",
       " 'Colombiana',\n",
       " 'Due soldi di speranza',\n",
       " 'Floods of Fear',\n",
       " 'Rat Pfink a Boo Boo',\n",
       " 'Stagecoach',\n",
       " 'Paris nous appartient',\n",
       " 'Verbo',\n",
       " \"Passione d'amore\",\n",
       " 'Outer Space',\n",
       " 'The Perfect Roommate',\n",
       " 'Intohimon vallassa',\n",
       " 'Opfergang',\n",
       " \"Employees' Entrance\",\n",
       " 'A Safe Place',\n",
       " 'Sapphire',\n",
       " '愛の渇き',\n",
       " 'Hypnotisören',\n",
       " 'Puhdistus',\n",
       " 'A Season for Miracles',\n",
       " 'Cirque du Soleil: Worlds Away',\n",
       " 'True Blue',\n",
       " 'Evil Dead',\n",
       " 'Sushi Girl',\n",
       " 'Mutluluk',\n",
       " 'Dream Demon',\n",
       " 'Vares – Kaidan tien kulkijat',\n",
       " '座頭市血笑旅',\n",
       " 'Crawlspace',\n",
       " 'Puerta de Hierro, el exilio de Perón',\n",
       " 'Curse of Chucky',\n",
       " 'They Only Kill Their Masters',\n",
       " 'The Truth About Emanuel',\n",
       " 'چهارشنبه سوری',\n",
       " 'عمر',\n",
       " 'Highway',\n",
       " 'Barefoot',\n",
       " 'The Quiet Ones',\n",
       " \"Boys' Night Out\",\n",
       " 'g@me.',\n",
       " 'Maleficent',\n",
       " 'Pour une femme',\n",
       " 'A Beast at Bay',\n",
       " 'Når dyrene drømmer',\n",
       " 'The Girl on the Train',\n",
       " 'The Initiation',\n",
       " 'The Magic of Ordinary Days',\n",
       " 'Hard Sun',\n",
       " '30 Nights of Paranormal Activity With the Devil Inside the Girl With the Dragon Tattoo',\n",
       " 'Cliente',\n",
       " \"The Sign of Four: Sherlock Holmes' Greatest Case\",\n",
       " 'In Secret',\n",
       " 'Last Passenger',\n",
       " 'Yamim Kfuim',\n",
       " 'Stockholm Stories',\n",
       " 'Endure',\n",
       " 'Jessabelle',\n",
       " 'Seijû gakuen',\n",
       " 'The Walking Stick',\n",
       " 'Beck 27 - Rum 302',\n",
       " 'Midnight Mary',\n",
       " 'Snow Queen',\n",
       " 'Loose Ankles',\n",
       " 'One Is a Lonely Number',\n",
       " 'Psych:9',\n",
       " 'The Reptile',\n",
       " 'Older Than America',\n",
       " 'The Last Flight',\n",
       " 'Hercules and the Lost Kingdom',\n",
       " 'Lizzie',\n",
       " 'Amador',\n",
       " 'The Diary of Preston Plummer',\n",
       " 'Z for Zachariah',\n",
       " 'Anita',\n",
       " 'Backroads',\n",
       " 'Sette ore di violenza per una soluzione imprevista',\n",
       " 'Petting Zoo',\n",
       " \"L'iguana dalla lingua di fuoco\",\n",
       " 'Un fiocco nero per Deborah',\n",
       " 'To Write Love on Her Arms',\n",
       " 'Assassin',\n",
       " \"India's Daughter\",\n",
       " 'The Tenant of Wildfell Hall',\n",
       " 'The Final Girls',\n",
       " 'The Naked Cage',\n",
       " \"Manuale d'amore 3\",\n",
       " 'Pretty Smart',\n",
       " 'Passi di danza su una lama di rasoio',\n",
       " 'Dudes',\n",
       " 'La morte accarezza a mezzanotte',\n",
       " 'Winter People',\n",
       " 'Rangeela',\n",
       " 'La religieuse',\n",
       " 'Ginger',\n",
       " 'Gunnm',\n",
       " 'ຈັນທະລີ',\n",
       " 'Jackson County Jail',\n",
       " 'Dance Me to My Song',\n",
       " 'Old Fashioned',\n",
       " 'Dial a Prayer',\n",
       " 'Morning Star',\n",
       " '88',\n",
       " 'La France',\n",
       " \"Une histoire d'eau\",\n",
       " 'The New Year',\n",
       " 'Bella addormentata',\n",
       " 'Mademoiselle',\n",
       " 'Kiss the Abyss',\n",
       " '우리들의 행복한 시간',\n",
       " 'The Crucifer of Blood',\n",
       " 'Nancy Drew... Reporter',\n",
       " 'Nancy Drew',\n",
       " 'Sexy Evil Genius',\n",
       " 'La belle saison',\n",
       " '...ing',\n",
       " 'Snowglobe',\n",
       " '運命じゃない人',\n",
       " 'Tout le plaisir est pour moi',\n",
       " 'Alraune',\n",
       " 'Blood Punch',\n",
       " 'War Story',\n",
       " 'Crescendo',\n",
       " 'La signora gioca bene a scopa?',\n",
       " 'Hee Porgi Kunachi',\n",
       " 'Últimas imágenes del naufragio',\n",
       " 'Eros',\n",
       " 'Tumbledown',\n",
       " 'Elves',\n",
       " 'ジョゼと虎と魚たち',\n",
       " 'Headless',\n",
       " 'Namastey London',\n",
       " 'Comforting Skin',\n",
       " 'The Abandoned',\n",
       " 'Miracle in Harlem',\n",
       " 'Somnambuul',\n",
       " 'Insiang',\n",
       " '7 Ans',\n",
       " 'Félix et Lola',\n",
       " '32A',\n",
       " 'Boris Sans Béatrice',\n",
       " 'La Ragazza dal Pigiama Giallo',\n",
       " \"De l'amour\",\n",
       " 'You Are Not I',\n",
       " 'Bleeding Heart',\n",
       " 'Rogue River',\n",
       " 'The Rich Are Always with Us',\n",
       " 'Decay',\n",
       " '風の大陸',\n",
       " 'Sacrifice',\n",
       " \"Tonite Let's All Make Love in London\",\n",
       " 'The Dead the Damned and the Darkness',\n",
       " 'Love on the Sidelines',\n",
       " 'Daughter of Darkness',\n",
       " 'Blackway',\n",
       " 'Redemption Trail',\n",
       " 'Cries in the Night',\n",
       " 'La buena vida',\n",
       " 'River',\n",
       " \"Belle et Sébastien, l'aventure continue\",\n",
       " 'Fjällbackamorden 04 - Ljusets drottning',\n",
       " 'Des nouvelles de la planète mars',\n",
       " \"Avant l'hiver\",\n",
       " 'Я тоже хочу',\n",
       " 'The Good Humor Man',\n",
       " 'Já, Olga Hepnarová',\n",
       " 'セブンス・コード',\n",
       " 'Kertu',\n",
       " 'Lista de espera',\n",
       " 'Bound & Babysitting',\n",
       " 'El Club de los Incomprendidos',\n",
       " 'Kaze ni nureta onna',\n",
       " 'Female Werewolf',\n",
       " 'Yes, My Darling Daughter',\n",
       " 'This Beautiful Fantastic',\n",
       " 'Av Mevsimi',\n",
       " 'Noces',\n",
       " 'Μια Τρελλή Τρελλή Οικογένεια',\n",
       " 'Beauty and the Beast',\n",
       " 'Orpheline',\n",
       " 'The Frontier',\n",
       " 'The Escape',\n",
       " 'Cat Sick Blues',\n",
       " 'Era uma vez eu, Verônica',\n",
       " 'Lady Macbeth',\n",
       " 'The Discovery',\n",
       " 'Beyond',\n",
       " 'Август. Восьмого',\n",
       " \"The Thing That Couldn't Die\",\n",
       " 'Mohamed Dubois',\n",
       " 'Malenkaya Vera',\n",
       " 'The Mender of Nets',\n",
       " 'Havenhurst',\n",
       " 'Abduction',\n",
       " 'Columbus',\n",
       " 'Ki – nie polubisz jej']"
      ]
     },
     "execution_count": 190,
     "metadata": {},
     "output_type": "execute_result"
    }
   ],
   "source": [
    "#### List all the movies in a cluster \n",
    "get_all_movies_in_cluster(9, movie_summaries_clustered)\n",
    "####"
   ]
  },
  {
   "cell_type": "markdown",
   "metadata": {},
   "source": [
    "## Trying Agglomorative Clustering"
   ]
  },
  {
   "cell_type": "code",
   "execution_count": 123,
   "metadata": {},
   "outputs": [],
   "source": [
    "from sklearn.cluster import AgglomerativeClustering"
   ]
  },
  {
   "cell_type": "code",
   "execution_count": 177,
   "metadata": {},
   "outputs": [],
   "source": [
    "ac = AgglomerativeClustering(n_clusters=300, linkage='average', affinity='cosine')"
   ]
  },
  {
   "cell_type": "code",
   "execution_count": 178,
   "metadata": {},
   "outputs": [],
   "source": [
    "hacked_X = X + .000000000000000000000001\n",
    "#for val in hacked_X:\n",
    "#    print(val)"
   ]
  },
  {
   "cell_type": "code",
   "execution_count": 179,
   "metadata": {},
   "outputs": [
    {
     "data": {
      "text/plain": [
       "AgglomerativeClustering(affinity='cosine', compute_full_tree='auto',\n",
       "            connectivity=None, linkage='average', memory=None,\n",
       "            n_clusters=300, pooling_func='deprecated')"
      ]
     },
     "execution_count": 179,
     "metadata": {},
     "output_type": "execute_result"
    }
   ],
   "source": [
    "# 0:8:30 Train time with (n_clusters=5, linkage='average', affinity='cosine')\n",
    "# Less than 0:40: Train time with (n_clusters=25, linkage='average', affinity='cosine')\n",
    "ac.fit(hacked_X)"
   ]
  },
  {
   "cell_type": "code",
   "execution_count": 180,
   "metadata": {},
   "outputs": [],
   "source": [
    "clustered_ac = zip(ac.labels_, movies_metadata_df['id'])\n",
    "#### Needs Functionalization/Abstraction\n",
    "from collections import defaultdict\n",
    "movie_summaries_clustered = defaultdict(list)\n",
    "\n",
    "for cluster, movie_id in clustered_ac:\n",
    "    movie_summaries_clustered[cluster].append(movie_id)\n",
    "####"
   ]
  },
  {
   "cell_type": "code",
   "execution_count": 185,
   "metadata": {},
   "outputs": [
    {
     "data": {
      "text/plain": [
       "['Wolves',\n",
       " 'Americathon',\n",
       " 'Sweet Karma',\n",
       " 'Reel Injun',\n",
       " 'Snake River Desperadoes',\n",
       " 'Ambush at Cimarron Pass',\n",
       " 'Roar: Tigers of the Sundarbans',\n",
       " 'Die Söhne der großen Bärin',\n",
       " 'A Ghost in Monte Carlo',\n",
       " 'Texas Rising']"
      ]
     },
     "execution_count": 185,
     "metadata": {},
     "output_type": "execute_result"
    }
   ],
   "source": [
    "#### List all the movies in a cluster \n",
    "get_all_movies_in_cluster(140, movie_summaries_clustered)\n",
    "####"
   ]
  },
  {
   "cell_type": "markdown",
   "metadata": {},
   "source": [
    "## Comparing KMeans and Agglomoration"
   ]
  },
  {
   "cell_type": "code",
   "execution_count": 192,
   "metadata": {},
   "outputs": [],
   "source": [
    "from sklearn.metrics import silhouette_score"
   ]
  },
  {
   "cell_type": "code",
   "execution_count": 199,
   "metadata": {},
   "outputs": [
    {
     "name": "stdout",
     "output_type": "stream",
     "text": [
      "Silhouette score for KMeans, n=300 is 0.26716533390124225\n"
     ]
    }
   ],
   "source": [
    "print(f'Silhouette score for KMeans, n=300 is {silhouette_score(X, km.labels_)}')"
   ]
  },
  {
   "cell_type": "code",
   "execution_count": 198,
   "metadata": {},
   "outputs": [
    {
     "name": "stdout",
     "output_type": "stream",
     "text": [
      "Silhouette score for AGClustering, type average, n=300 is -0.3955892904699971\n"
     ]
    }
   ],
   "source": [
    "print(f'Silhouette score for AGClustering, type average, n=300 is {silhouette_score(X, ac.labels_)}')"
   ]
  },
  {
   "cell_type": "code",
   "execution_count": 200,
   "metadata": {},
   "outputs": [
    {
     "name": "stdout",
     "output_type": "stream",
     "text": [
      "Silhouette score for KMeans, n=500 is 0.23794972918128876\n"
     ]
    }
   ],
   "source": [
    "print(f'Silhouette score for KMeans, n=500 is {silhouette_score(X, km2.labels_)}')"
   ]
  },
  {
   "cell_type": "code",
   "execution_count": 202,
   "metadata": {},
   "outputs": [
    {
     "name": "stdout",
     "output_type": "stream",
     "text": [
      "Silhouette score for KMeans, n=150 is 0.5047943348736282\n"
     ]
    }
   ],
   "source": [
    "print(f'Silhouette score for KMeans, n=150 is {silhouette_score(X, km3.labels_)}')"
   ]
  },
  {
   "cell_type": "code",
   "execution_count": null,
   "metadata": {},
   "outputs": [],
   "source": []
  }
 ],
 "metadata": {
  "kernelspec": {
   "display_name": "Python3 OSX",
   "language": "python",
   "name": "base"
  },
  "language_info": {
   "codemirror_mode": {
    "name": "ipython",
    "version": 3
   },
   "file_extension": ".py",
   "mimetype": "text/x-python",
   "name": "python",
   "nbconvert_exporter": "python",
   "pygments_lexer": "ipython3",
   "version": "3.7.1"
  },
  "toc": {
   "base_numbering": 1,
   "nav_menu": {},
   "number_sections": true,
   "sideBar": true,
   "skip_h1_title": false,
   "title_cell": "Table of Contents",
   "title_sidebar": "Contents",
   "toc_cell": false,
   "toc_position": {},
   "toc_section_display": true,
   "toc_window_display": false
  },
  "varInspector": {
   "cols": {
    "lenName": 16,
    "lenType": 16,
    "lenVar": 40
   },
   "kernels_config": {
    "python": {
     "delete_cmd_postfix": "",
     "delete_cmd_prefix": "del ",
     "library": "var_list.py",
     "varRefreshCmd": "print(var_dic_list())"
    },
    "r": {
     "delete_cmd_postfix": ") ",
     "delete_cmd_prefix": "rm(",
     "library": "var_list.r",
     "varRefreshCmd": "cat(var_dic_list()) "
    }
   },
   "types_to_exclude": [
    "module",
    "function",
    "builtin_function_or_method",
    "instance",
    "_Feature"
   ],
   "window_display": false
  }
 },
 "nbformat": 4,
 "nbformat_minor": 2
}
