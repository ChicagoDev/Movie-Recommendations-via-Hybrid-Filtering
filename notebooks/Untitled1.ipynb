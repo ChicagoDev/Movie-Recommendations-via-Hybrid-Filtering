{
 "cells": [
  {
   "cell_type": "code",
   "execution_count": 1,
   "metadata": {},
   "outputs": [
    {
     "name": "stderr",
     "output_type": "stream",
     "text": [
      "/anaconda3/lib/python3.7/site-packages/IPython/core/interactiveshell.py:3020: DtypeWarning: Columns (10) have mixed types. Specify dtype option on import or set low_memory=False.\n",
      "  interactivity=interactivity, compiler=compiler, result=result)\n"
     ]
    }
   ],
   "source": [
    "test = True\n",
    "import time\n",
    "import pprint\n",
    "import numpy as np\n",
    "import pandas as pd\n",
    "import networkx as nx\n",
    "import pickle\n",
    "import matplotlib.pyplot as plt\n",
    "\n",
    "cast_df = None\n",
    "\n",
    "with open('../data/the-movies-dataset/cast_for_network.pkl', 'rb') as fl:\n",
    "    cast_df = pickle.load(fl)\n",
    "    \n",
    "def convert_ids(ids_in_csv):\n",
    "    return pd.to_numeric(ids_in_csv, errors='coerce').astype('int64')\n",
    "names_for_movies_df = pd.read_csv('../data/the-movies-dataset/movies_metadata.csv'\n",
    "                        , converters={'id': lambda x: convert_ids(x), 'imdb_id': lambda x: convert_ids(x)}\n",
    "                       ,usecols=['id', 'original_title'\n",
    "                                 , 'popularity', 'overview', 'genres'\n",
    "                                 , 'revenue', 'vote_average' \n",
    "                                 ,'runtime', 'tagline'\n",
    "                                 ,'homepage','poster_path'\n",
    "                                 , 'release_date'\n",
    "                                 ,'title', 'spoken_languages'\n",
    "                                 ])\n",
    "\n",
    "cast_df = cast_df.drop_duplicates()\n",
    "\n",
    "names_for_movies_df = names_for_movies_df.drop_duplicates()\n",
    "\n",
    "actors_and_movie_info_df = cast_df.merge(names_for_movies_df\n",
    "                                        , how='inner'\n",
    "                                        , left_on='movie'\n",
    "                                        , right_on='id')\n",
    "\n",
    "actors_and_movie_info_df = actors_and_movie_info_df.rename(columns={'id_x': 'id_actor', 'id_y': 'id_movie'})\n",
    "\n",
    "actors_filmography_group = actors_and_movie_info_df.groupby('name')\n",
    "\n",
    "##### Test Data\n",
    "test_df = actors_and_movie_info_df[(actors_and_movie_info_df.original_title == 'Toy Story') | (actors_and_movie_info_df.original_title == 'Big')]\n",
    "test_group = test_df.groupby('name')\n",
    "if test == True:\n",
    "    actors_filmography_group = test_group\n",
    "####\n",
    "\n",
    "master_graph = nx.MultiGraph()\n",
    "\n",
    "for filmography in actors_filmography_group:\n",
    "#for filmography in test_group:\n",
    "#     print('@@@@@@@@@@@@@@@@@@@@@@@BEGIN@@@@@@@@@@@@@@@@@@@@@@@@@@@@@@@@@@@')\n",
    "#     print('This is the Graph creation for %s :' % (actor_edge['name']))\n",
    "    \n",
    "    name = filmography[0]\n",
    "    films_df = filmography[1]\n",
    "    \n",
    "    ## Need to store attribuetes of actors in a list, not dictionary based on constraints of NetworkX\n",
    "    ## When accessing an edge, index 0 is Name, 1 is Actor_id, 2 is profile_path\n",
    "    actor_edge_attrs = [name,  films_df['id_actor'].iloc[0], films_df['profile_path'].iloc[0]]   \n",
    "    \n",
    "    films = films_df[['id_movie', 'original_title', 'profile_path', 'popularity', 'genres', 'vote_average' \n",
    "                       ,'overview', 'poster_path', 'release_date', 'revenue'\n",
    "                       ,'runtime', 'spoken_languages', 'tagline', 'title']].to_dict(orient='records')\n",
    "    \n",
    "    \n",
    "    \n",
    "    nodes_for_stargraph = [film['title'] for film in films]\n",
    "    node_attributes = {film['title']: film for film in films}\n",
    "    \n",
    "    #pprint.pprint(node_attributes)\n",
    "    \n",
    "    actor_stargraph = nx.star_graph(nodes_for_stargraph, nx.MultiGraph)\n",
    "    \n",
    "    nx.set_node_attributes(actor_stargraph, node_attributes)\n",
    "    nx.set_edge_attributes(actor_stargraph, actor_edge_attrs, 'actor')\n",
    "    \n",
    " \n",
    "    \n",
    "    master_graph = nx.compose(master_graph, actor_stargraph)\n",
    "\n"
   ]
  },
  {
   "cell_type": "code",
   "execution_count": null,
   "metadata": {},
   "outputs": [],
   "source": []
  },
  {
   "cell_type": "code",
   "execution_count": null,
   "metadata": {},
   "outputs": [],
   "source": []
  }
 ],
 "metadata": {
  "kernelspec": {
   "display_name": "Python3 OSX",
   "language": "python",
   "name": "base"
  },
  "language_info": {
   "codemirror_mode": {
    "name": "ipython",
    "version": 3
   },
   "file_extension": ".py",
   "mimetype": "text/x-python",
   "name": "python",
   "nbconvert_exporter": "python",
   "pygments_lexer": "ipython3",
   "version": "3.7.1"
  },
  "toc": {
   "base_numbering": 1,
   "nav_menu": {},
   "number_sections": true,
   "sideBar": true,
   "skip_h1_title": false,
   "title_cell": "Table of Contents",
   "title_sidebar": "Contents",
   "toc_cell": false,
   "toc_position": {},
   "toc_section_display": true,
   "toc_window_display": false
  },
  "varInspector": {
   "cols": {
    "lenName": 16,
    "lenType": 16,
    "lenVar": 40
   },
   "kernels_config": {
    "python": {
     "delete_cmd_postfix": "",
     "delete_cmd_prefix": "del ",
     "library": "var_list.py",
     "varRefreshCmd": "print(var_dic_list())"
    },
    "r": {
     "delete_cmd_postfix": ") ",
     "delete_cmd_prefix": "rm(",
     "library": "var_list.r",
     "varRefreshCmd": "cat(var_dic_list()) "
    }
   },
   "types_to_exclude": [
    "module",
    "function",
    "builtin_function_or_method",
    "instance",
    "_Feature"
   ],
   "window_display": false
  }
 },
 "nbformat": 4,
 "nbformat_minor": 2
}
