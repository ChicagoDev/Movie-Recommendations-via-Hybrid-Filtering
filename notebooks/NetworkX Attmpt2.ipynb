{
 "cells": [
  {
   "cell_type": "code",
   "execution_count": 1,
   "metadata": {},
   "outputs": [],
   "source": [
    "import numpy as np\n",
    "import pandas as pd\n",
    "import networkx as nx\n",
    "import pickle\n",
    "import matplotlib.pyplot as plt"
   ]
  },
  {
   "cell_type": "code",
   "execution_count": 2,
   "metadata": {},
   "outputs": [],
   "source": [
    "cast_df = None\n",
    "\n",
    "with open('../data/the-movies-dataset/cast_for_network.pkl', 'rb') as fl:\n",
    "    cast_df = pickle.load(fl)"
   ]
  },
  {
   "cell_type": "code",
   "execution_count": 53,
   "metadata": {},
   "outputs": [],
   "source": [
    "def convert_ids(ids_in_csv):\n",
    "    return pd.to_numeric(ids_in_csv, errors='coerce').astype('int64')\n",
    "names_for_movies_df = pd.read_csv('../data/the-movies-dataset/movies_metadata.csv'\n",
    "                        , converters={'id': lambda x: convert_ids(x), 'imdb_id': lambda x: convert_ids(x)}\n",
    "                       ,usecols=['id', 'original_title'])"
   ]
  },
  {
   "cell_type": "code",
   "execution_count": 94,
   "metadata": {},
   "outputs": [
    {
     "data": {
      "text/html": [
       "<div>\n",
       "<style scoped>\n",
       "    .dataframe tbody tr th:only-of-type {\n",
       "        vertical-align: middle;\n",
       "    }\n",
       "\n",
       "    .dataframe tbody tr th {\n",
       "        vertical-align: top;\n",
       "    }\n",
       "\n",
       "    .dataframe thead th {\n",
       "        text-align: right;\n",
       "    }\n",
       "</style>\n",
       "<table border=\"1\" class=\"dataframe\">\n",
       "  <thead>\n",
       "    <tr style=\"text-align: right;\">\n",
       "      <th></th>\n",
       "      <th>movie</th>\n",
       "      <th>name</th>\n",
       "      <th>id</th>\n",
       "    </tr>\n",
       "  </thead>\n",
       "  <tbody>\n",
       "    <tr>\n",
       "      <th>0</th>\n",
       "      <td>862</td>\n",
       "      <td>Tom Hanks</td>\n",
       "      <td>31.0</td>\n",
       "    </tr>\n",
       "    <tr>\n",
       "      <th>1</th>\n",
       "      <td>862</td>\n",
       "      <td>Tim Allen</td>\n",
       "      <td>12898.0</td>\n",
       "    </tr>\n",
       "    <tr>\n",
       "      <th>2</th>\n",
       "      <td>862</td>\n",
       "      <td>Don Rickles</td>\n",
       "      <td>7167.0</td>\n",
       "    </tr>\n",
       "    <tr>\n",
       "      <th>3</th>\n",
       "      <td>862</td>\n",
       "      <td>Jim Varney</td>\n",
       "      <td>12899.0</td>\n",
       "    </tr>\n",
       "    <tr>\n",
       "      <th>4</th>\n",
       "      <td>862</td>\n",
       "      <td>Wallace Shawn</td>\n",
       "      <td>12900.0</td>\n",
       "    </tr>\n",
       "  </tbody>\n",
       "</table>\n",
       "</div>"
      ],
      "text/plain": [
       "   movie           name       id\n",
       "0    862      Tom Hanks     31.0\n",
       "1    862      Tim Allen  12898.0\n",
       "2    862    Don Rickles   7167.0\n",
       "3    862     Jim Varney  12899.0\n",
       "4    862  Wallace Shawn  12900.0"
      ]
     },
     "execution_count": 94,
     "metadata": {},
     "output_type": "execute_result"
    }
   ],
   "source": [
    "cast_df = cast_df.drop_duplicates()\n",
    "names_for_movies_df = names_for_movies_df.drop_duplicates()\n",
    "cast_df[['movie', 'name', 'id']].head()"
   ]
  },
  {
   "cell_type": "code",
   "execution_count": 95,
   "metadata": {},
   "outputs": [],
   "source": [
    "merged_with_mov_names = cast_df[['movie', 'name', 'id']].merge(names_for_movies_df\n",
    "                                        , how='inner'\n",
    "                                        , left_on='movie'\n",
    "                                        , right_on='id')"
   ]
  },
  {
   "cell_type": "code",
   "execution_count": 76,
   "metadata": {},
   "outputs": [
    {
     "data": {
      "text/plain": [
       "(72, 9)"
      ]
     },
     "execution_count": 76,
     "metadata": {},
     "output_type": "execute_result"
    }
   ],
   "source": [
    "cast_df[cast_df.name == 'Tom Hanks'].shape"
   ]
  },
  {
   "cell_type": "code",
   "execution_count": 84,
   "metadata": {},
   "outputs": [
    {
     "name": "stdout",
     "output_type": "stream",
     "text": [
      "<class 'pandas.core.frame.DataFrame'>\n",
      "Int64Index: 563112 entries, 0 to 563111\n",
      "Data columns (total 5 columns):\n",
      "movie             563112 non-null int64\n",
      "name              563112 non-null object\n",
      "id_x              563112 non-null float64\n",
      "id_y              563112 non-null int64\n",
      "original_title    563112 non-null object\n",
      "dtypes: float64(1), int64(2), object(2)\n",
      "memory usage: 25.8+ MB\n"
     ]
    }
   ],
   "source": [
    "merged_with_mov_names.info()"
   ]
  },
  {
   "cell_type": "code",
   "execution_count": null,
   "metadata": {},
   "outputs": [],
   "source": []
  },
  {
   "cell_type": "code",
   "execution_count": 23,
   "metadata": {},
   "outputs": [],
   "source": [
    "movie_grouby = cast_df[['movie', 'name', 'id']].groupby('movie')"
   ]
  },
  {
   "cell_type": "code",
   "execution_count": 25,
   "metadata": {},
   "outputs": [],
   "source": [
    "actor_groupby = cast_df[['movie', 'name', 'id']].groupby('name')"
   ]
  },
  {
   "cell_type": "code",
   "execution_count": 47,
   "metadata": {
    "scrolled": true
   },
   "outputs": [],
   "source": [
    "stop = True\n",
    "x = 0\n",
    "test_df = None\n",
    "for group_name, group in actor_groupby:\n",
    "\n",
    "    test_df = group\n",
    "    \n",
    "    if x == 14567:\n",
    "        break\n",
    "    x+=1\n",
    "    #if stop:\n",
    "    #    break"
   ]
  },
  {
   "cell_type": "code",
   "execution_count": 49,
   "metadata": {},
   "outputs": [
    {
     "data": {
      "text/html": [
       "<div>\n",
       "<style scoped>\n",
       "    .dataframe tbody tr th:only-of-type {\n",
       "        vertical-align: middle;\n",
       "    }\n",
       "\n",
       "    .dataframe tbody tr th {\n",
       "        vertical-align: top;\n",
       "    }\n",
       "\n",
       "    .dataframe thead th {\n",
       "        text-align: right;\n",
       "    }\n",
       "</style>\n",
       "<table border=\"1\" class=\"dataframe\">\n",
       "  <thead>\n",
       "    <tr style=\"text-align: right;\">\n",
       "      <th></th>\n",
       "      <th>movie</th>\n",
       "      <th>name</th>\n",
       "      <th>id</th>\n",
       "    </tr>\n",
       "  </thead>\n",
       "  <tbody>\n",
       "    <tr>\n",
       "      <th>2</th>\n",
       "      <td>11571</td>\n",
       "      <td>Arlene Dahl</td>\n",
       "      <td>44881.0</td>\n",
       "    </tr>\n",
       "    <tr>\n",
       "      <th>16</th>\n",
       "      <td>41465</td>\n",
       "      <td>Arlene Dahl</td>\n",
       "      <td>44881.0</td>\n",
       "    </tr>\n",
       "    <tr>\n",
       "      <th>73</th>\n",
       "      <td>33740</td>\n",
       "      <td>Arlene Dahl</td>\n",
       "      <td>44881.0</td>\n",
       "    </tr>\n",
       "    <tr>\n",
       "      <th>2</th>\n",
       "      <td>253250</td>\n",
       "      <td>Arlene Dahl</td>\n",
       "      <td>44881.0</td>\n",
       "    </tr>\n",
       "    <tr>\n",
       "      <th>3</th>\n",
       "      <td>42767</td>\n",
       "      <td>Arlene Dahl</td>\n",
       "      <td>44881.0</td>\n",
       "    </tr>\n",
       "    <tr>\n",
       "      <th>3</th>\n",
       "      <td>212713</td>\n",
       "      <td>Arlene Dahl</td>\n",
       "      <td>44881.0</td>\n",
       "    </tr>\n",
       "    <tr>\n",
       "      <th>2</th>\n",
       "      <td>135312</td>\n",
       "      <td>Arlene Dahl</td>\n",
       "      <td>44881.0</td>\n",
       "    </tr>\n",
       "    <tr>\n",
       "      <th>1</th>\n",
       "      <td>249264</td>\n",
       "      <td>Arlene Dahl</td>\n",
       "      <td>44881.0</td>\n",
       "    </tr>\n",
       "    <tr>\n",
       "      <th>2</th>\n",
       "      <td>151310</td>\n",
       "      <td>Arlene Dahl</td>\n",
       "      <td>44881.0</td>\n",
       "    </tr>\n",
       "    <tr>\n",
       "      <th>0</th>\n",
       "      <td>37462</td>\n",
       "      <td>Arlene Dahl</td>\n",
       "      <td>44881.0</td>\n",
       "    </tr>\n",
       "    <tr>\n",
       "      <th>1</th>\n",
       "      <td>73313</td>\n",
       "      <td>Arlene Dahl</td>\n",
       "      <td>44881.0</td>\n",
       "    </tr>\n",
       "    <tr>\n",
       "      <th>5</th>\n",
       "      <td>107999</td>\n",
       "      <td>Arlene Dahl</td>\n",
       "      <td>44881.0</td>\n",
       "    </tr>\n",
       "    <tr>\n",
       "      <th>3</th>\n",
       "      <td>27635</td>\n",
       "      <td>Arlene Dahl</td>\n",
       "      <td>44881.0</td>\n",
       "    </tr>\n",
       "    <tr>\n",
       "      <th>1</th>\n",
       "      <td>38395</td>\n",
       "      <td>Arlene Dahl</td>\n",
       "      <td>44881.0</td>\n",
       "    </tr>\n",
       "    <tr>\n",
       "      <th>1</th>\n",
       "      <td>184351</td>\n",
       "      <td>Arlene Dahl</td>\n",
       "      <td>44881.0</td>\n",
       "    </tr>\n",
       "    <tr>\n",
       "      <th>2</th>\n",
       "      <td>25506</td>\n",
       "      <td>Arlene Dahl</td>\n",
       "      <td>44881.0</td>\n",
       "    </tr>\n",
       "    <tr>\n",
       "      <th>6</th>\n",
       "      <td>113843</td>\n",
       "      <td>Arlene Dahl</td>\n",
       "      <td>44881.0</td>\n",
       "    </tr>\n",
       "  </tbody>\n",
       "</table>\n",
       "</div>"
      ],
      "text/plain": [
       "     movie         name       id\n",
       "2    11571  Arlene Dahl  44881.0\n",
       "16   41465  Arlene Dahl  44881.0\n",
       "73   33740  Arlene Dahl  44881.0\n",
       "2   253250  Arlene Dahl  44881.0\n",
       "3    42767  Arlene Dahl  44881.0\n",
       "3   212713  Arlene Dahl  44881.0\n",
       "2   135312  Arlene Dahl  44881.0\n",
       "1   249264  Arlene Dahl  44881.0\n",
       "2   151310  Arlene Dahl  44881.0\n",
       "0    37462  Arlene Dahl  44881.0\n",
       "1    73313  Arlene Dahl  44881.0\n",
       "5   107999  Arlene Dahl  44881.0\n",
       "3    27635  Arlene Dahl  44881.0\n",
       "1    38395  Arlene Dahl  44881.0\n",
       "1   184351  Arlene Dahl  44881.0\n",
       "2    25506  Arlene Dahl  44881.0\n",
       "6   113843  Arlene Dahl  44881.0"
      ]
     },
     "execution_count": 49,
     "metadata": {},
     "output_type": "execute_result"
    }
   ],
   "source": [
    "test_df"
   ]
  },
  {
   "cell_type": "code",
   "execution_count": 15,
   "metadata": {},
   "outputs": [],
   "source": [
    "G = nx.MultiGraph(movie='Star Wars')"
   ]
  },
  {
   "cell_type": "code",
   "execution_count": 16,
   "metadata": {},
   "outputs": [
    {
     "data": {
      "text/plain": [
       "{'movie': 'Star Wars'}"
      ]
     },
     "execution_count": 16,
     "metadata": {},
     "output_type": "execute_result"
    }
   ],
   "source": [
    "G.graph"
   ]
  },
  {
   "cell_type": "code",
   "execution_count": 17,
   "metadata": {},
   "outputs": [],
   "source": [
    "G.add_node(11)"
   ]
  },
  {
   "cell_type": "code",
   "execution_count": 18,
   "metadata": {},
   "outputs": [
    {
     "data": {
      "text/plain": [
       "[0, 0, 0, 0]"
      ]
     },
     "execution_count": 18,
     "metadata": {},
     "output_type": "execute_result"
    }
   ],
   "source": [
    "G.add_edges_from([(11,2.0, {'name': 'Mark Hammil'}), (11, 5.0, {'name': 'Peter Cushing'})\n",
    "                 , (11, 4.0, {'name': 'Carrie Fisher'}), (11, 15152, {'name': 'James Earl Jones'})])"
   ]
  },
  {
   "cell_type": "code",
   "execution_count": 19,
   "metadata": {},
   "outputs": [
    {
     "data": {
      "image/png": "[encoded data removed]",
      "text/plain": [
       "<Figure size 432x288 with 1 Axes>"
      ]
     },
     "metadata": {},
     "output_type": "display_data"
    }
   ],
   "source": [
    "nx.draw(G)\n",
    "#nx.draw_networkx_labels(G, pos=nx.spring_layout(G))"
   ]
  },
  {
   "cell_type": "code",
   "execution_count": 20,
   "metadata": {},
   "outputs": [],
   "source": [
    "G.add_node(47)"
   ]
  },
  {
   "cell_type": "code",
   "execution_count": 21,
   "metadata": {},
   "outputs": [
    {
     "data": {
      "text/plain": [
       "[0]"
      ]
     },
     "execution_count": 21,
     "metadata": {},
     "output_type": "execute_result"
    }
   ],
   "source": [
    "G.add_edges_from([(47,2.0, {'name': 'Mark Hammil'})])"
   ]
  },
  {
   "cell_type": "code",
   "execution_count": 22,
   "metadata": {},
   "outputs": [
    {
     "data": {
      "image/png": "[encoded data removed]",
      "text/plain": [
       "<Figure size 432x288 with 1 Axes>"
      ]
     },
     "metadata": {},
     "output_type": "display_data"
    }
   ],
   "source": [
    "nx.draw(G)"
   ]
  },
  {
   "cell_type": "code",
   "execution_count": null,
   "metadata": {},
   "outputs": [],
   "source": [
    "If some edges connect nodes not yet in the graph, the nodes are added automatically. If an edge already exists, an additional edge is created and stored using a key to identify the edge. By default the key is the lowest unused integer.\n",
    "\n",
    ">>>\n",
    ">>> keys = G.add_edges_from([(4,5,{'route':28}), (4,5,{'route':37})])\n",
    ">>> G[4]\n",
    "AdjacencyView({3: {0: {}}, 5: {0: {}, 1: {'route': 28}, 2: {'route': 37}}})"
   ]
  },
  {
   "cell_type": "code",
   "execution_count": 24,
   "metadata": {},
   "outputs": [
    {
     "data": {
      "text/plain": [
       "'Name: \\nType: MultiGraph\\nNumber of nodes: 6\\nNumber of edges: 5\\nAverage degree:   1.6667'"
      ]
     },
     "execution_count": 24,
     "metadata": {},
     "output_type": "execute_result"
    }
   ],
   "source": [
    "nx.info(G)"
   ]
  },
  {
   "cell_type": "code",
   "execution_count": 99,
   "metadata": {},
   "outputs": [
    {
     "data": {
      "text/html": [
       "<div>\n",
       "<style scoped>\n",
       "    .dataframe tbody tr th:only-of-type {\n",
       "        vertical-align: middle;\n",
       "    }\n",
       "\n",
       "    .dataframe tbody tr th {\n",
       "        vertical-align: top;\n",
       "    }\n",
       "\n",
       "    .dataframe thead th {\n",
       "        text-align: right;\n",
       "    }\n",
       "</style>\n",
       "<table border=\"1\" class=\"dataframe\">\n",
       "  <thead>\n",
       "    <tr style=\"text-align: right;\">\n",
       "      <th></th>\n",
       "      <th>movie</th>\n",
       "      <th>name</th>\n",
       "      <th>id_x</th>\n",
       "      <th>id_y</th>\n",
       "      <th>original_title</th>\n",
       "    </tr>\n",
       "  </thead>\n",
       "  <tbody>\n",
       "    <tr>\n",
       "      <th>0</th>\n",
       "      <td>862</td>\n",
       "      <td>Tom Hanks</td>\n",
       "      <td>31.0</td>\n",
       "      <td>862</td>\n",
       "      <td>Toy Story</td>\n",
       "    </tr>\n",
       "    <tr>\n",
       "      <th>1</th>\n",
       "      <td>862</td>\n",
       "      <td>Tim Allen</td>\n",
       "      <td>12898.0</td>\n",
       "      <td>862</td>\n",
       "      <td>Toy Story</td>\n",
       "    </tr>\n",
       "    <tr>\n",
       "      <th>2</th>\n",
       "      <td>862</td>\n",
       "      <td>Don Rickles</td>\n",
       "      <td>7167.0</td>\n",
       "      <td>862</td>\n",
       "      <td>Toy Story</td>\n",
       "    </tr>\n",
       "    <tr>\n",
       "      <th>3</th>\n",
       "      <td>862</td>\n",
       "      <td>Jim Varney</td>\n",
       "      <td>12899.0</td>\n",
       "      <td>862</td>\n",
       "      <td>Toy Story</td>\n",
       "    </tr>\n",
       "    <tr>\n",
       "      <th>4</th>\n",
       "      <td>862</td>\n",
       "      <td>Wallace Shawn</td>\n",
       "      <td>12900.0</td>\n",
       "      <td>862</td>\n",
       "      <td>Toy Story</td>\n",
       "    </tr>\n",
       "  </tbody>\n",
       "</table>\n",
       "</div>"
      ],
      "text/plain": [
       "   movie           name     id_x  id_y original_title\n",
       "0    862      Tom Hanks     31.0   862      Toy Story\n",
       "1    862      Tim Allen  12898.0   862      Toy Story\n",
       "2    862    Don Rickles   7167.0   862      Toy Story\n",
       "3    862     Jim Varney  12899.0   862      Toy Story\n",
       "4    862  Wallace Shawn  12900.0   862      Toy Story"
      ]
     },
     "execution_count": 99,
     "metadata": {},
     "output_type": "execute_result"
    }
   ],
   "source": [
    "merged_with_mov_names.head()"
   ]
  },
  {
   "cell_type": "code",
   "execution_count": 100,
   "metadata": {},
   "outputs": [],
   "source": [
    "actors_grouped = merged_with_mov_names.groupby('name')"
   ]
  },
  {
   "cell_type": "code",
   "execution_count": 242,
   "metadata": {},
   "outputs": [],
   "source": [
    "actors_iter = actors_grouped.__iter__()"
   ]
  },
  {
   "cell_type": "code",
   "execution_count": 254,
   "metadata": {},
   "outputs": [],
   "source": [
    "actor_grp = actors_iter.__next__()"
   ]
  },
  {
   "cell_type": "code",
   "execution_count": 257,
   "metadata": {},
   "outputs": [],
   "source": [
    "for i in range(1, 3655):\n",
    "    actor_grp = actors_iter.__next__()"
   ]
  },
  {
   "cell_type": "code",
   "execution_count": 258,
   "metadata": {
    "scrolled": true
   },
   "outputs": [
    {
     "data": {
      "text/plain": [
       "('Keira Knightley',          movie             name   id_x    id_y  \\\n",
       " 43638     1893  Keira Knightley  116.0    1893   \n",
       " 101248     455  Keira Knightley  116.0     455   \n",
       " 105967      22  Keira Knightley  116.0      22   \n",
       " 112021     508  Keira Knightley  116.0     508   \n",
       " 130056    9477  Keira Knightley  116.0    9477   \n",
       " 150117     467  Keira Knightley  116.0     467   \n",
       " 151174   18072  Keira Knightley  116.0   18072   \n",
       " 152521    9667  Keira Knightley  116.0    9667   \n",
       " 166478    9923  Keira Knightley  116.0    9923   \n",
       " 169000    4348  Keira Knightley  116.0    4348   \n",
       " 175982      58  Keira Knightley  116.0      58   \n",
       " 189282     285  Keira Knightley  116.0     285   \n",
       " 192598   84242  Keira Knightley  116.0   84242   \n",
       " 192757    4347  Keira Knightley  116.0    4347   \n",
       " 194066   14753  Keira Knightley  116.0   14753   \n",
       " 204559   14061  Keira Knightley  116.0   14061   \n",
       " 206754   12783  Keira Knightley  116.0   12783   \n",
       " 245915   42188  Keira Knightley  116.0   42188   \n",
       " 249350   48838  Keira Knightley  116.0   48838   \n",
       " 252155   23830  Keira Knightley  116.0   23830   \n",
       " 269179   48231  Keira Knightley  116.0   48231   \n",
       " 284751   88005  Keira Knightley  116.0   88005   \n",
       " 292165   96724  Keira Knightley  116.0   96724   \n",
       " 325498  137094  Keira Knightley  116.0  137094   \n",
       " 335928  198277  Keira Knightley  116.0  198277   \n",
       " 336728  106938  Keira Knightley  116.0  106938   \n",
       " 345251  244264  Keira Knightley  116.0  244264   \n",
       " 353688  205596  Keira Knightley  116.0  205596   \n",
       " 364533   21605  Keira Knightley  116.0   21605   \n",
       " 372791  136867  Keira Knightley  116.0  136867   \n",
       " 373982  166426  Keira Knightley  116.0  166426   \n",
       " 388724   71134  Keira Knightley  116.0   71134   \n",
       " 442554  253412  Keira Knightley  116.0  253412   \n",
       " 518251    5764  Keira Knightley  116.0    5764   \n",
       " 522993  345920  Keira Knightley  116.0  345920   \n",
       " 552857  447061  Keira Knightley  116.0  447061   \n",
       " \n",
       "                                            original_title  \n",
       " 43638           Star Wars: Episode I - The Phantom Menace  \n",
       " 101248                               Bend It Like Beckham  \n",
       " 105967  Pirates of the Caribbean: The Curse of the Bla...  \n",
       " 112021                                      Love Actually  \n",
       " 130056                                        King Arthur  \n",
       " 150117                                           The Hole  \n",
       " 151174                                               Pure  \n",
       " 152521                                         The Jacket  \n",
       " 166478                                             Domino  \n",
       " 169000                                  Pride & Prejudice  \n",
       " 175982         Pirates of the Caribbean: Dead Man's Chest  \n",
       " 189282           Pirates of the Caribbean: At World's End  \n",
       " 192598                              Stories of Lost Souls  \n",
       " 192757                                          Atonement  \n",
       " 194066                                               Silk  \n",
       " 204559                                   The Edge of Love  \n",
       " 206754                                        The Duchess  \n",
       " 245915                                    Never Let Me Go  \n",
       " 249350                                   London Boulevard  \n",
       " 252155                                         Last Night  \n",
       " 269179                                 A Dangerous Method  \n",
       " 284751          Seeking a Friend for the End of the World  \n",
       " 292165                                      Anna Karenina  \n",
       " 325498                          Jack Ryan: Shadow Recruit  \n",
       " 335928                                        Begin Again  \n",
       " 336728                                          Neverland  \n",
       " 345251                                            Laggies  \n",
       " 353688                                 The Imitation Game  \n",
       " 364533                                       Thunderpants  \n",
       " 372791                                       Oliver Twist  \n",
       " 373982   Pirates of the Caribbean: Dead Men Tell No Tales  \n",
       " 388724                                      Innocent Lies  \n",
       " 442554                                            Everest  \n",
       " 518251                                Princess of Thieves  \n",
       " 522993                                  Collateral Beauty  \n",
       " 552857                              Red Nose Day Actually  )"
      ]
     },
     "execution_count": 258,
     "metadata": {},
     "output_type": "execute_result"
    }
   ],
   "source": [
    "actor_grp"
   ]
  },
  {
   "cell_type": "code",
   "execution_count": 262,
   "metadata": {},
   "outputs": [
    {
     "data": {
      "text/plain": [
       "'Keira Knightley'"
      ]
     },
     "execution_count": 262,
     "metadata": {},
     "output_type": "execute_result"
    }
   ],
   "source": [
    "actor_grp[0]"
   ]
  },
  {
   "cell_type": "code",
   "execution_count": 263,
   "metadata": {},
   "outputs": [
    {
     "data": {
      "text/html": [
       "<div>\n",
       "<style scoped>\n",
       "    .dataframe tbody tr th:only-of-type {\n",
       "        vertical-align: middle;\n",
       "    }\n",
       "\n",
       "    .dataframe tbody tr th {\n",
       "        vertical-align: top;\n",
       "    }\n",
       "\n",
       "    .dataframe thead th {\n",
       "        text-align: right;\n",
       "    }\n",
       "</style>\n",
       "<table border=\"1\" class=\"dataframe\">\n",
       "  <thead>\n",
       "    <tr style=\"text-align: right;\">\n",
       "      <th></th>\n",
       "      <th>movie</th>\n",
       "      <th>name</th>\n",
       "      <th>id_x</th>\n",
       "      <th>id_y</th>\n",
       "      <th>original_title</th>\n",
       "    </tr>\n",
       "  </thead>\n",
       "  <tbody>\n",
       "    <tr>\n",
       "      <th>43638</th>\n",
       "      <td>1893</td>\n",
       "      <td>Keira Knightley</td>\n",
       "      <td>116.0</td>\n",
       "      <td>1893</td>\n",
       "      <td>Star Wars: Episode I - The Phantom Menace</td>\n",
       "    </tr>\n",
       "    <tr>\n",
       "      <th>101248</th>\n",
       "      <td>455</td>\n",
       "      <td>Keira Knightley</td>\n",
       "      <td>116.0</td>\n",
       "      <td>455</td>\n",
       "      <td>Bend It Like Beckham</td>\n",
       "    </tr>\n",
       "    <tr>\n",
       "      <th>105967</th>\n",
       "      <td>22</td>\n",
       "      <td>Keira Knightley</td>\n",
       "      <td>116.0</td>\n",
       "      <td>22</td>\n",
       "      <td>Pirates of the Caribbean: The Curse of the Bla...</td>\n",
       "    </tr>\n",
       "    <tr>\n",
       "      <th>112021</th>\n",
       "      <td>508</td>\n",
       "      <td>Keira Knightley</td>\n",
       "      <td>116.0</td>\n",
       "      <td>508</td>\n",
       "      <td>Love Actually</td>\n",
       "    </tr>\n",
       "    <tr>\n",
       "      <th>130056</th>\n",
       "      <td>9477</td>\n",
       "      <td>Keira Knightley</td>\n",
       "      <td>116.0</td>\n",
       "      <td>9477</td>\n",
       "      <td>King Arthur</td>\n",
       "    </tr>\n",
       "    <tr>\n",
       "      <th>150117</th>\n",
       "      <td>467</td>\n",
       "      <td>Keira Knightley</td>\n",
       "      <td>116.0</td>\n",
       "      <td>467</td>\n",
       "      <td>The Hole</td>\n",
       "    </tr>\n",
       "    <tr>\n",
       "      <th>151174</th>\n",
       "      <td>18072</td>\n",
       "      <td>Keira Knightley</td>\n",
       "      <td>116.0</td>\n",
       "      <td>18072</td>\n",
       "      <td>Pure</td>\n",
       "    </tr>\n",
       "    <tr>\n",
       "      <th>152521</th>\n",
       "      <td>9667</td>\n",
       "      <td>Keira Knightley</td>\n",
       "      <td>116.0</td>\n",
       "      <td>9667</td>\n",
       "      <td>The Jacket</td>\n",
       "    </tr>\n",
       "    <tr>\n",
       "      <th>166478</th>\n",
       "      <td>9923</td>\n",
       "      <td>Keira Knightley</td>\n",
       "      <td>116.0</td>\n",
       "      <td>9923</td>\n",
       "      <td>Domino</td>\n",
       "    </tr>\n",
       "    <tr>\n",
       "      <th>169000</th>\n",
       "      <td>4348</td>\n",
       "      <td>Keira Knightley</td>\n",
       "      <td>116.0</td>\n",
       "      <td>4348</td>\n",
       "      <td>Pride &amp; Prejudice</td>\n",
       "    </tr>\n",
       "    <tr>\n",
       "      <th>175982</th>\n",
       "      <td>58</td>\n",
       "      <td>Keira Knightley</td>\n",
       "      <td>116.0</td>\n",
       "      <td>58</td>\n",
       "      <td>Pirates of the Caribbean: Dead Man's Chest</td>\n",
       "    </tr>\n",
       "    <tr>\n",
       "      <th>189282</th>\n",
       "      <td>285</td>\n",
       "      <td>Keira Knightley</td>\n",
       "      <td>116.0</td>\n",
       "      <td>285</td>\n",
       "      <td>Pirates of the Caribbean: At World's End</td>\n",
       "    </tr>\n",
       "    <tr>\n",
       "      <th>192598</th>\n",
       "      <td>84242</td>\n",
       "      <td>Keira Knightley</td>\n",
       "      <td>116.0</td>\n",
       "      <td>84242</td>\n",
       "      <td>Stories of Lost Souls</td>\n",
       "    </tr>\n",
       "    <tr>\n",
       "      <th>192757</th>\n",
       "      <td>4347</td>\n",
       "      <td>Keira Knightley</td>\n",
       "      <td>116.0</td>\n",
       "      <td>4347</td>\n",
       "      <td>Atonement</td>\n",
       "    </tr>\n",
       "    <tr>\n",
       "      <th>194066</th>\n",
       "      <td>14753</td>\n",
       "      <td>Keira Knightley</td>\n",
       "      <td>116.0</td>\n",
       "      <td>14753</td>\n",
       "      <td>Silk</td>\n",
       "    </tr>\n",
       "    <tr>\n",
       "      <th>204559</th>\n",
       "      <td>14061</td>\n",
       "      <td>Keira Knightley</td>\n",
       "      <td>116.0</td>\n",
       "      <td>14061</td>\n",
       "      <td>The Edge of Love</td>\n",
       "    </tr>\n",
       "    <tr>\n",
       "      <th>206754</th>\n",
       "      <td>12783</td>\n",
       "      <td>Keira Knightley</td>\n",
       "      <td>116.0</td>\n",
       "      <td>12783</td>\n",
       "      <td>The Duchess</td>\n",
       "    </tr>\n",
       "    <tr>\n",
       "      <th>245915</th>\n",
       "      <td>42188</td>\n",
       "      <td>Keira Knightley</td>\n",
       "      <td>116.0</td>\n",
       "      <td>42188</td>\n",
       "      <td>Never Let Me Go</td>\n",
       "    </tr>\n",
       "    <tr>\n",
       "      <th>249350</th>\n",
       "      <td>48838</td>\n",
       "      <td>Keira Knightley</td>\n",
       "      <td>116.0</td>\n",
       "      <td>48838</td>\n",
       "      <td>London Boulevard</td>\n",
       "    </tr>\n",
       "    <tr>\n",
       "      <th>252155</th>\n",
       "      <td>23830</td>\n",
       "      <td>Keira Knightley</td>\n",
       "      <td>116.0</td>\n",
       "      <td>23830</td>\n",
       "      <td>Last Night</td>\n",
       "    </tr>\n",
       "    <tr>\n",
       "      <th>269179</th>\n",
       "      <td>48231</td>\n",
       "      <td>Keira Knightley</td>\n",
       "      <td>116.0</td>\n",
       "      <td>48231</td>\n",
       "      <td>A Dangerous Method</td>\n",
       "    </tr>\n",
       "    <tr>\n",
       "      <th>284751</th>\n",
       "      <td>88005</td>\n",
       "      <td>Keira Knightley</td>\n",
       "      <td>116.0</td>\n",
       "      <td>88005</td>\n",
       "      <td>Seeking a Friend for the End of the World</td>\n",
       "    </tr>\n",
       "    <tr>\n",
       "      <th>292165</th>\n",
       "      <td>96724</td>\n",
       "      <td>Keira Knightley</td>\n",
       "      <td>116.0</td>\n",
       "      <td>96724</td>\n",
       "      <td>Anna Karenina</td>\n",
       "    </tr>\n",
       "    <tr>\n",
       "      <th>325498</th>\n",
       "      <td>137094</td>\n",
       "      <td>Keira Knightley</td>\n",
       "      <td>116.0</td>\n",
       "      <td>137094</td>\n",
       "      <td>Jack Ryan: Shadow Recruit</td>\n",
       "    </tr>\n",
       "    <tr>\n",
       "      <th>335928</th>\n",
       "      <td>198277</td>\n",
       "      <td>Keira Knightley</td>\n",
       "      <td>116.0</td>\n",
       "      <td>198277</td>\n",
       "      <td>Begin Again</td>\n",
       "    </tr>\n",
       "    <tr>\n",
       "      <th>336728</th>\n",
       "      <td>106938</td>\n",
       "      <td>Keira Knightley</td>\n",
       "      <td>116.0</td>\n",
       "      <td>106938</td>\n",
       "      <td>Neverland</td>\n",
       "    </tr>\n",
       "    <tr>\n",
       "      <th>345251</th>\n",
       "      <td>244264</td>\n",
       "      <td>Keira Knightley</td>\n",
       "      <td>116.0</td>\n",
       "      <td>244264</td>\n",
       "      <td>Laggies</td>\n",
       "    </tr>\n",
       "    <tr>\n",
       "      <th>353688</th>\n",
       "      <td>205596</td>\n",
       "      <td>Keira Knightley</td>\n",
       "      <td>116.0</td>\n",
       "      <td>205596</td>\n",
       "      <td>The Imitation Game</td>\n",
       "    </tr>\n",
       "    <tr>\n",
       "      <th>364533</th>\n",
       "      <td>21605</td>\n",
       "      <td>Keira Knightley</td>\n",
       "      <td>116.0</td>\n",
       "      <td>21605</td>\n",
       "      <td>Thunderpants</td>\n",
       "    </tr>\n",
       "    <tr>\n",
       "      <th>372791</th>\n",
       "      <td>136867</td>\n",
       "      <td>Keira Knightley</td>\n",
       "      <td>116.0</td>\n",
       "      <td>136867</td>\n",
       "      <td>Oliver Twist</td>\n",
       "    </tr>\n",
       "    <tr>\n",
       "      <th>373982</th>\n",
       "      <td>166426</td>\n",
       "      <td>Keira Knightley</td>\n",
       "      <td>116.0</td>\n",
       "      <td>166426</td>\n",
       "      <td>Pirates of the Caribbean: Dead Men Tell No Tales</td>\n",
       "    </tr>\n",
       "    <tr>\n",
       "      <th>388724</th>\n",
       "      <td>71134</td>\n",
       "      <td>Keira Knightley</td>\n",
       "      <td>116.0</td>\n",
       "      <td>71134</td>\n",
       "      <td>Innocent Lies</td>\n",
       "    </tr>\n",
       "    <tr>\n",
       "      <th>442554</th>\n",
       "      <td>253412</td>\n",
       "      <td>Keira Knightley</td>\n",
       "      <td>116.0</td>\n",
       "      <td>253412</td>\n",
       "      <td>Everest</td>\n",
       "    </tr>\n",
       "    <tr>\n",
       "      <th>518251</th>\n",
       "      <td>5764</td>\n",
       "      <td>Keira Knightley</td>\n",
       "      <td>116.0</td>\n",
       "      <td>5764</td>\n",
       "      <td>Princess of Thieves</td>\n",
       "    </tr>\n",
       "    <tr>\n",
       "      <th>522993</th>\n",
       "      <td>345920</td>\n",
       "      <td>Keira Knightley</td>\n",
       "      <td>116.0</td>\n",
       "      <td>345920</td>\n",
       "      <td>Collateral Beauty</td>\n",
       "    </tr>\n",
       "    <tr>\n",
       "      <th>552857</th>\n",
       "      <td>447061</td>\n",
       "      <td>Keira Knightley</td>\n",
       "      <td>116.0</td>\n",
       "      <td>447061</td>\n",
       "      <td>Red Nose Day Actually</td>\n",
       "    </tr>\n",
       "  </tbody>\n",
       "</table>\n",
       "</div>"
      ],
      "text/plain": [
       "         movie             name   id_x    id_y  \\\n",
       "43638     1893  Keira Knightley  116.0    1893   \n",
       "101248     455  Keira Knightley  116.0     455   \n",
       "105967      22  Keira Knightley  116.0      22   \n",
       "112021     508  Keira Knightley  116.0     508   \n",
       "130056    9477  Keira Knightley  116.0    9477   \n",
       "150117     467  Keira Knightley  116.0     467   \n",
       "151174   18072  Keira Knightley  116.0   18072   \n",
       "152521    9667  Keira Knightley  116.0    9667   \n",
       "166478    9923  Keira Knightley  116.0    9923   \n",
       "169000    4348  Keira Knightley  116.0    4348   \n",
       "175982      58  Keira Knightley  116.0      58   \n",
       "189282     285  Keira Knightley  116.0     285   \n",
       "192598   84242  Keira Knightley  116.0   84242   \n",
       "192757    4347  Keira Knightley  116.0    4347   \n",
       "194066   14753  Keira Knightley  116.0   14753   \n",
       "204559   14061  Keira Knightley  116.0   14061   \n",
       "206754   12783  Keira Knightley  116.0   12783   \n",
       "245915   42188  Keira Knightley  116.0   42188   \n",
       "249350   48838  Keira Knightley  116.0   48838   \n",
       "252155   23830  Keira Knightley  116.0   23830   \n",
       "269179   48231  Keira Knightley  116.0   48231   \n",
       "284751   88005  Keira Knightley  116.0   88005   \n",
       "292165   96724  Keira Knightley  116.0   96724   \n",
       "325498  137094  Keira Knightley  116.0  137094   \n",
       "335928  198277  Keira Knightley  116.0  198277   \n",
       "336728  106938  Keira Knightley  116.0  106938   \n",
       "345251  244264  Keira Knightley  116.0  244264   \n",
       "353688  205596  Keira Knightley  116.0  205596   \n",
       "364533   21605  Keira Knightley  116.0   21605   \n",
       "372791  136867  Keira Knightley  116.0  136867   \n",
       "373982  166426  Keira Knightley  116.0  166426   \n",
       "388724   71134  Keira Knightley  116.0   71134   \n",
       "442554  253412  Keira Knightley  116.0  253412   \n",
       "518251    5764  Keira Knightley  116.0    5764   \n",
       "522993  345920  Keira Knightley  116.0  345920   \n",
       "552857  447061  Keira Knightley  116.0  447061   \n",
       "\n",
       "                                           original_title  \n",
       "43638           Star Wars: Episode I - The Phantom Menace  \n",
       "101248                               Bend It Like Beckham  \n",
       "105967  Pirates of the Caribbean: The Curse of the Bla...  \n",
       "112021                                      Love Actually  \n",
       "130056                                        King Arthur  \n",
       "150117                                           The Hole  \n",
       "151174                                               Pure  \n",
       "152521                                         The Jacket  \n",
       "166478                                             Domino  \n",
       "169000                                  Pride & Prejudice  \n",
       "175982         Pirates of the Caribbean: Dead Man's Chest  \n",
       "189282           Pirates of the Caribbean: At World's End  \n",
       "192598                              Stories of Lost Souls  \n",
       "192757                                          Atonement  \n",
       "194066                                               Silk  \n",
       "204559                                   The Edge of Love  \n",
       "206754                                        The Duchess  \n",
       "245915                                    Never Let Me Go  \n",
       "249350                                   London Boulevard  \n",
       "252155                                         Last Night  \n",
       "269179                                 A Dangerous Method  \n",
       "284751          Seeking a Friend for the End of the World  \n",
       "292165                                      Anna Karenina  \n",
       "325498                          Jack Ryan: Shadow Recruit  \n",
       "335928                                        Begin Again  \n",
       "336728                                          Neverland  \n",
       "345251                                            Laggies  \n",
       "353688                                 The Imitation Game  \n",
       "364533                                       Thunderpants  \n",
       "372791                                       Oliver Twist  \n",
       "373982   Pirates of the Caribbean: Dead Men Tell No Tales  \n",
       "388724                                      Innocent Lies  \n",
       "442554                                            Everest  \n",
       "518251                                Princess of Thieves  \n",
       "522993                                  Collateral Beauty  \n",
       "552857                              Red Nose Day Actually  "
      ]
     },
     "execution_count": 263,
     "metadata": {},
     "output_type": "execute_result"
    }
   ],
   "source": [
    "actor_grp[1]"
   ]
  },
  {
   "cell_type": "code",
   "execution_count": 264,
   "metadata": {},
   "outputs": [],
   "source": [
    "import itertools"
   ]
  },
  {
   "cell_type": "code",
   "execution_count": 272,
   "metadata": {},
   "outputs": [],
   "source": [
    "# edges = []\n",
    "# for edge in itertools.combinations(actor_grp[1]['movie'].values, 2):\n",
    "#     edges.append(edge)"
   ]
  },
  {
   "cell_type": "code",
   "execution_count": 277,
   "metadata": {},
   "outputs": [],
   "source": [
    "edges2 = []\n",
    "for edge in itertools.combinations(actor_grp[1]['movie'].values, 2):\n",
    "    node1, node2 = edge\n",
    "    edges2.append((node1, node2, {'Actor': 'Kiera Knightly'}))"
   ]
  },
  {
   "cell_type": "code",
   "execution_count": 273,
   "metadata": {},
   "outputs": [
    {
     "data": {
      "text/plain": [
       "630"
      ]
     },
     "execution_count": 273,
     "metadata": {},
     "output_type": "execute_result"
    }
   ],
   "source": [
    "len(edges)"
   ]
  },
  {
   "cell_type": "code",
   "execution_count": 274,
   "metadata": {},
   "outputs": [
    {
     "data": {
      "text/plain": [
       "(36, 5)"
      ]
     },
     "execution_count": 274,
     "metadata": {},
     "output_type": "execute_result"
    }
   ],
   "source": [
    "actor_grp[1].shape"
   ]
  },
  {
   "cell_type": "code",
   "execution_count": 279,
   "metadata": {},
   "outputs": [
    {
     "data": {
      "text/plain": [
       "(1893, 455, {'Actor': 'Kiera Knightly'})"
      ]
     },
     "execution_count": 279,
     "metadata": {},
     "output_type": "execute_result"
    }
   ],
   "source": [
    "edges2[0]"
   ]
  },
  {
   "cell_type": "code",
   "execution_count": 280,
   "metadata": {},
   "outputs": [],
   "source": [
    "G2 = nx.MultiGraph()"
   ]
  },
  {
   "cell_type": "code",
   "execution_count": 281,
   "metadata": {
    "collapsed": true
   },
   "outputs": [
    {
     "data": {
      "text/plain": [
       "[0,\n",
       " 0,\n",
       " 0,\n",
       " 0,\n",
       " 0,\n",
       " 0,\n",
       " 0,\n",
       " 0,\n",
       " 0,\n",
       " 0,\n",
       " 0,\n",
       " 0,\n",
       " 0,\n",
       " 0,\n",
       " 0,\n",
       " 0,\n",
       " 0,\n",
       " 0,\n",
       " 0,\n",
       " 0,\n",
       " 0,\n",
       " 0,\n",
       " 0,\n",
       " 0,\n",
       " 0,\n",
       " 0,\n",
       " 0,\n",
       " 0,\n",
       " 0,\n",
       " 0,\n",
       " 0,\n",
       " 0,\n",
       " 0,\n",
       " 0,\n",
       " 0,\n",
       " 0,\n",
       " 0,\n",
       " 0,\n",
       " 0,\n",
       " 0,\n",
       " 0,\n",
       " 0,\n",
       " 0,\n",
       " 0,\n",
       " 0,\n",
       " 0,\n",
       " 0,\n",
       " 0,\n",
       " 0,\n",
       " 0,\n",
       " 0,\n",
       " 0,\n",
       " 0,\n",
       " 0,\n",
       " 0,\n",
       " 0,\n",
       " 0,\n",
       " 0,\n",
       " 0,\n",
       " 0,\n",
       " 0,\n",
       " 0,\n",
       " 0,\n",
       " 0,\n",
       " 0,\n",
       " 0,\n",
       " 0,\n",
       " 0,\n",
       " 0,\n",
       " 0,\n",
       " 0,\n",
       " 0,\n",
       " 0,\n",
       " 0,\n",
       " 0,\n",
       " 0,\n",
       " 0,\n",
       " 0,\n",
       " 0,\n",
       " 0,\n",
       " 0,\n",
       " 0,\n",
       " 0,\n",
       " 0,\n",
       " 0,\n",
       " 0,\n",
       " 0,\n",
       " 0,\n",
       " 0,\n",
       " 0,\n",
       " 0,\n",
       " 0,\n",
       " 0,\n",
       " 0,\n",
       " 0,\n",
       " 0,\n",
       " 0,\n",
       " 0,\n",
       " 0,\n",
       " 0,\n",
       " 0,\n",
       " 0,\n",
       " 0,\n",
       " 0,\n",
       " 0,\n",
       " 0,\n",
       " 0,\n",
       " 0,\n",
       " 0,\n",
       " 0,\n",
       " 0,\n",
       " 0,\n",
       " 0,\n",
       " 0,\n",
       " 0,\n",
       " 0,\n",
       " 0,\n",
       " 0,\n",
       " 0,\n",
       " 0,\n",
       " 0,\n",
       " 0,\n",
       " 0,\n",
       " 0,\n",
       " 0,\n",
       " 0,\n",
       " 0,\n",
       " 0,\n",
       " 0,\n",
       " 0,\n",
       " 0,\n",
       " 0,\n",
       " 0,\n",
       " 0,\n",
       " 0,\n",
       " 0,\n",
       " 0,\n",
       " 0,\n",
       " 0,\n",
       " 0,\n",
       " 0,\n",
       " 0,\n",
       " 0,\n",
       " 0,\n",
       " 0,\n",
       " 0,\n",
       " 0,\n",
       " 0,\n",
       " 0,\n",
       " 0,\n",
       " 0,\n",
       " 0,\n",
       " 0,\n",
       " 0,\n",
       " 0,\n",
       " 0,\n",
       " 0,\n",
       " 0,\n",
       " 0,\n",
       " 0,\n",
       " 0,\n",
       " 0,\n",
       " 0,\n",
       " 0,\n",
       " 0,\n",
       " 0,\n",
       " 0,\n",
       " 0,\n",
       " 0,\n",
       " 0,\n",
       " 0,\n",
       " 0,\n",
       " 0,\n",
       " 0,\n",
       " 0,\n",
       " 0,\n",
       " 0,\n",
       " 0,\n",
       " 0,\n",
       " 0,\n",
       " 0,\n",
       " 0,\n",
       " 0,\n",
       " 0,\n",
       " 0,\n",
       " 0,\n",
       " 0,\n",
       " 0,\n",
       " 0,\n",
       " 0,\n",
       " 0,\n",
       " 0,\n",
       " 0,\n",
       " 0,\n",
       " 0,\n",
       " 0,\n",
       " 0,\n",
       " 0,\n",
       " 0,\n",
       " 0,\n",
       " 0,\n",
       " 0,\n",
       " 0,\n",
       " 0,\n",
       " 0,\n",
       " 0,\n",
       " 0,\n",
       " 0,\n",
       " 0,\n",
       " 0,\n",
       " 0,\n",
       " 0,\n",
       " 0,\n",
       " 0,\n",
       " 0,\n",
       " 0,\n",
       " 0,\n",
       " 0,\n",
       " 0,\n",
       " 0,\n",
       " 0,\n",
       " 0,\n",
       " 0,\n",
       " 0,\n",
       " 0,\n",
       " 0,\n",
       " 0,\n",
       " 0,\n",
       " 0,\n",
       " 0,\n",
       " 0,\n",
       " 0,\n",
       " 0,\n",
       " 0,\n",
       " 0,\n",
       " 0,\n",
       " 0,\n",
       " 0,\n",
       " 0,\n",
       " 0,\n",
       " 0,\n",
       " 0,\n",
       " 0,\n",
       " 0,\n",
       " 0,\n",
       " 0,\n",
       " 0,\n",
       " 0,\n",
       " 0,\n",
       " 0,\n",
       " 0,\n",
       " 0,\n",
       " 0,\n",
       " 0,\n",
       " 0,\n",
       " 0,\n",
       " 0,\n",
       " 0,\n",
       " 0,\n",
       " 0,\n",
       " 0,\n",
       " 0,\n",
       " 0,\n",
       " 0,\n",
       " 0,\n",
       " 0,\n",
       " 0,\n",
       " 0,\n",
       " 0,\n",
       " 0,\n",
       " 0,\n",
       " 0,\n",
       " 0,\n",
       " 0,\n",
       " 0,\n",
       " 0,\n",
       " 0,\n",
       " 0,\n",
       " 0,\n",
       " 0,\n",
       " 0,\n",
       " 0,\n",
       " 0,\n",
       " 0,\n",
       " 0,\n",
       " 0,\n",
       " 0,\n",
       " 0,\n",
       " 0,\n",
       " 0,\n",
       " 0,\n",
       " 0,\n",
       " 0,\n",
       " 0,\n",
       " 0,\n",
       " 0,\n",
       " 0,\n",
       " 0,\n",
       " 0,\n",
       " 0,\n",
       " 0,\n",
       " 0,\n",
       " 0,\n",
       " 0,\n",
       " 0,\n",
       " 0,\n",
       " 0,\n",
       " 0,\n",
       " 0,\n",
       " 0,\n",
       " 0,\n",
       " 0,\n",
       " 0,\n",
       " 0,\n",
       " 0,\n",
       " 0,\n",
       " 0,\n",
       " 0,\n",
       " 0,\n",
       " 0,\n",
       " 0,\n",
       " 0,\n",
       " 0,\n",
       " 0,\n",
       " 0,\n",
       " 0,\n",
       " 0,\n",
       " 0,\n",
       " 0,\n",
       " 0,\n",
       " 0,\n",
       " 0,\n",
       " 0,\n",
       " 0,\n",
       " 0,\n",
       " 0,\n",
       " 0,\n",
       " 0,\n",
       " 0,\n",
       " 0,\n",
       " 0,\n",
       " 0,\n",
       " 0,\n",
       " 0,\n",
       " 0,\n",
       " 0,\n",
       " 0,\n",
       " 0,\n",
       " 0,\n",
       " 0,\n",
       " 0,\n",
       " 0,\n",
       " 0,\n",
       " 0,\n",
       " 0,\n",
       " 0,\n",
       " 0,\n",
       " 0,\n",
       " 0,\n",
       " 0,\n",
       " 0,\n",
       " 0,\n",
       " 0,\n",
       " 0,\n",
       " 0,\n",
       " 0,\n",
       " 0,\n",
       " 0,\n",
       " 0,\n",
       " 0,\n",
       " 0,\n",
       " 0,\n",
       " 0,\n",
       " 0,\n",
       " 0,\n",
       " 0,\n",
       " 0,\n",
       " 0,\n",
       " 0,\n",
       " 0,\n",
       " 0,\n",
       " 0,\n",
       " 0,\n",
       " 0,\n",
       " 0,\n",
       " 0,\n",
       " 0,\n",
       " 0,\n",
       " 0,\n",
       " 0,\n",
       " 0,\n",
       " 0,\n",
       " 0,\n",
       " 0,\n",
       " 0,\n",
       " 0,\n",
       " 0,\n",
       " 0,\n",
       " 0,\n",
       " 0,\n",
       " 0,\n",
       " 0,\n",
       " 0,\n",
       " 0,\n",
       " 0,\n",
       " 0,\n",
       " 0,\n",
       " 0,\n",
       " 0,\n",
       " 0,\n",
       " 0,\n",
       " 0,\n",
       " 0,\n",
       " 0,\n",
       " 0,\n",
       " 0,\n",
       " 0,\n",
       " 0,\n",
       " 0,\n",
       " 0,\n",
       " 0,\n",
       " 0,\n",
       " 0,\n",
       " 0,\n",
       " 0,\n",
       " 0,\n",
       " 0,\n",
       " 0,\n",
       " 0,\n",
       " 0,\n",
       " 0,\n",
       " 0,\n",
       " 0,\n",
       " 0,\n",
       " 0,\n",
       " 0,\n",
       " 0,\n",
       " 0,\n",
       " 0,\n",
       " 0,\n",
       " 0,\n",
       " 0,\n",
       " 0,\n",
       " 0,\n",
       " 0,\n",
       " 0,\n",
       " 0,\n",
       " 0,\n",
       " 0,\n",
       " 0,\n",
       " 0,\n",
       " 0,\n",
       " 0,\n",
       " 0,\n",
       " 0,\n",
       " 0,\n",
       " 0,\n",
       " 0,\n",
       " 0,\n",
       " 0,\n",
       " 0,\n",
       " 0,\n",
       " 0,\n",
       " 0,\n",
       " 0,\n",
       " 0,\n",
       " 0,\n",
       " 0,\n",
       " 0,\n",
       " 0,\n",
       " 0,\n",
       " 0,\n",
       " 0,\n",
       " 0,\n",
       " 0,\n",
       " 0,\n",
       " 0,\n",
       " 0,\n",
       " 0,\n",
       " 0,\n",
       " 0,\n",
       " 0,\n",
       " 0,\n",
       " 0,\n",
       " 0,\n",
       " 0,\n",
       " 0,\n",
       " 0,\n",
       " 0,\n",
       " 0,\n",
       " 0,\n",
       " 0,\n",
       " 0,\n",
       " 0,\n",
       " 0,\n",
       " 0,\n",
       " 0,\n",
       " 0,\n",
       " 0,\n",
       " 0,\n",
       " 0,\n",
       " 0,\n",
       " 0,\n",
       " 0,\n",
       " 0,\n",
       " 0,\n",
       " 0,\n",
       " 0,\n",
       " 0,\n",
       " 0,\n",
       " 0,\n",
       " 0,\n",
       " 0,\n",
       " 0,\n",
       " 0,\n",
       " 0,\n",
       " 0,\n",
       " 0,\n",
       " 0,\n",
       " 0,\n",
       " 0,\n",
       " 0,\n",
       " 0,\n",
       " 0,\n",
       " 0,\n",
       " 0,\n",
       " 0,\n",
       " 0,\n",
       " 0,\n",
       " 0,\n",
       " 0,\n",
       " 0,\n",
       " 0,\n",
       " 0,\n",
       " 0,\n",
       " 0,\n",
       " 0,\n",
       " 0,\n",
       " 0,\n",
       " 0,\n",
       " 0,\n",
       " 0,\n",
       " 0,\n",
       " 0,\n",
       " 0,\n",
       " 0,\n",
       " 0,\n",
       " 0,\n",
       " 0,\n",
       " 0,\n",
       " 0,\n",
       " 0,\n",
       " 0,\n",
       " 0,\n",
       " 0,\n",
       " 0,\n",
       " 0,\n",
       " 0,\n",
       " 0,\n",
       " 0,\n",
       " 0,\n",
       " 0,\n",
       " 0,\n",
       " 0,\n",
       " 0,\n",
       " 0,\n",
       " 0,\n",
       " 0,\n",
       " 0,\n",
       " 0,\n",
       " 0,\n",
       " 0,\n",
       " 0,\n",
       " 0,\n",
       " 0,\n",
       " 0,\n",
       " 0,\n",
       " 0,\n",
       " 0,\n",
       " 0,\n",
       " 0,\n",
       " 0,\n",
       " 0,\n",
       " 0,\n",
       " 0,\n",
       " 0,\n",
       " 0,\n",
       " 0,\n",
       " 0,\n",
       " 0,\n",
       " 0,\n",
       " 0,\n",
       " 0,\n",
       " 0,\n",
       " 0,\n",
       " 0,\n",
       " 0,\n",
       " 0,\n",
       " 0,\n",
       " 0,\n",
       " 0,\n",
       " 0,\n",
       " 0,\n",
       " 0,\n",
       " 0,\n",
       " 0,\n",
       " 0,\n",
       " 0,\n",
       " 0,\n",
       " 0,\n",
       " 0,\n",
       " 0,\n",
       " 0,\n",
       " 0,\n",
       " 0,\n",
       " 0,\n",
       " 0,\n",
       " 0,\n",
       " 0,\n",
       " 0,\n",
       " 0,\n",
       " 0,\n",
       " 0,\n",
       " 0,\n",
       " 0,\n",
       " 0,\n",
       " 0,\n",
       " 0,\n",
       " 0,\n",
       " 0]"
      ]
     },
     "execution_count": 281,
     "metadata": {},
     "output_type": "execute_result"
    }
   ],
   "source": [
    "G2.add_edges_from(edges2)"
   ]
  },
  {
   "cell_type": "code",
   "execution_count": 282,
   "metadata": {},
   "outputs": [
    {
     "data": {
      "text/plain": [
       "'Name: \\nType: MultiGraph\\nNumber of nodes: 36\\nNumber of edges: 630\\nAverage degree:  35.0000'"
      ]
     },
     "execution_count": 282,
     "metadata": {},
     "output_type": "execute_result"
    }
   ],
   "source": [
    "nx.info(G2)"
   ]
  },
  {
   "cell_type": "code",
   "execution_count": 283,
   "metadata": {},
   "outputs": [
    {
     "name": "stderr",
     "output_type": "stream",
     "text": [
      "/anaconda3/lib/python3.7/site-packages/networkx/drawing/nx_pylab.py:611: MatplotlibDeprecationWarning: isinstance(..., numbers.Number)\n",
      "  if cb.is_numlike(alpha):\n"
     ]
    },
    {
     "data": {
      "image/png": "[encoded data removed]",
      "text/plain": [
       "<Figure size 432x288 with 1 Axes>"
      ]
     },
     "metadata": {},
     "output_type": "display_data"
    }
   ],
   "source": [
    "nx.draw(G2)"
   ]
  },
  {
   "cell_type": "code",
   "execution_count": 315,
   "metadata": {},
   "outputs": [],
   "source": [
    "for i in range(1, 3200):\n",
    "    actor_grp2 = actors_iter.__next__()"
   ]
  },
  {
   "cell_type": "code",
   "execution_count": 316,
   "metadata": {},
   "outputs": [
    {
     "data": {
      "text/plain": [
       "('Rebecca Hall',\n",
       "          movie          name     id_x    id_y            original_title\n",
       " 181920    1124  Rebecca Hall  15556.0    1124              The Prestige\n",
       " 186936   14055  Rebecca Hall  15556.0   14055            Starter for 10\n",
       " 204709    5038  Rebecca Hall  15556.0    5038  Vicky Cristina Barcelona\n",
       " 209544   11499  Rebecca Hall  15556.0   11499               Frost/Nixon\n",
       " 232814   23488  Rebecca Hall  15556.0   23488               Dorian Gray\n",
       " 237538   40247  Rebecca Hall  15556.0   40247               Please Give\n",
       " 244432   23168  Rebecca Hall  15556.0   23168                  The Town\n",
       " 261972   45658  Rebecca Hall  15556.0   45658        Everything Must Go\n",
       " 277060   15044  Rebecca Hall  15556.0   15044    Einstein and Eddington\n",
       " 280186   77949  Rebecca Hall  15556.0   77949             The Awakening\n",
       " 295349   84305  Rebecca Hall  15556.0   84305          Lay the Favorite\n",
       " 303924   59441  Rebecca Hall  15556.0   59441          A Bag of Hammers\n",
       " 305538   68721  Rebecca Hall  15556.0   68721                Iron Man 3\n",
       " 314322  146223  Rebecca Hall  15556.0  146223            Closed Circuit\n",
       " 333598  157353  Rebecca Hall  15556.0  157353             Transcendence\n",
       " 338859   43741  Rebecca Hall  15556.0   43741              Joe's Palace\n",
       " 356807  214081  Rebecca Hall  15556.0  214081                 A Promise\n",
       " 433562  328425  Rebecca Hall  15556.0  328425                  The Gift\n",
       " 464129  207936  Rebecca Hall  15556.0  207936                Tumbledown\n",
       " 496352  267935  Rebecca Hall  15556.0  267935                   The BFG\n",
       " 515186  339405  Rebecca Hall  15556.0  339405                 Christine\n",
       " 539031  401546  Rebecca Hall  15556.0  401546                The Dinner\n",
       " 549128  390059  Rebecca Hall  15556.0  390059                Permission)"
      ]
     },
     "execution_count": 316,
     "metadata": {},
     "output_type": "execute_result"
    }
   ],
   "source": [
    "actor_grp2"
   ]
  },
  {
   "cell_type": "code",
   "execution_count": 317,
   "metadata": {},
   "outputs": [],
   "source": [
    "edges3 = []\n",
    "for edge in itertools.combinations(actor_grp2[1]['movie'].values, 2):\n",
    "    node1, node2 = edge\n",
    "    edges3.append((node1, node2, {'Actor': 'Rebecca Hall'}))"
   ]
  },
  {
   "cell_type": "code",
   "execution_count": 318,
   "metadata": {},
   "outputs": [
    {
     "data": {
      "text/plain": [
       "253"
      ]
     },
     "execution_count": 318,
     "metadata": {},
     "output_type": "execute_result"
    }
   ],
   "source": [
    "len(edges3)"
   ]
  },
  {
   "cell_type": "code",
   "execution_count": 319,
   "metadata": {},
   "outputs": [
    {
     "data": {
      "text/plain": [
       "(1124, 14055, {'Actor': 'Rebecca Hall'})"
      ]
     },
     "execution_count": 319,
     "metadata": {},
     "output_type": "execute_result"
    }
   ],
   "source": [
    "edges3[0]"
   ]
  },
  {
   "cell_type": "code",
   "execution_count": 330,
   "metadata": {},
   "outputs": [],
   "source": [
    "HallGraph = nx.MultiGraph()"
   ]
  },
  {
   "cell_type": "code",
   "execution_count": 331,
   "metadata": {
    "collapsed": true
   },
   "outputs": [
    {
     "data": {
      "text/plain": [
       "[0,\n",
       " 0,\n",
       " 0,\n",
       " 0,\n",
       " 0,\n",
       " 0,\n",
       " 0,\n",
       " 0,\n",
       " 0,\n",
       " 0,\n",
       " 0,\n",
       " 0,\n",
       " 0,\n",
       " 0,\n",
       " 0,\n",
       " 0,\n",
       " 0,\n",
       " 0,\n",
       " 0,\n",
       " 0,\n",
       " 0,\n",
       " 0,\n",
       " 0,\n",
       " 0,\n",
       " 0,\n",
       " 0,\n",
       " 0,\n",
       " 0,\n",
       " 0,\n",
       " 0,\n",
       " 0,\n",
       " 0,\n",
       " 0,\n",
       " 0,\n",
       " 0,\n",
       " 0,\n",
       " 0,\n",
       " 0,\n",
       " 0,\n",
       " 0,\n",
       " 0,\n",
       " 0,\n",
       " 0,\n",
       " 0,\n",
       " 0,\n",
       " 0,\n",
       " 0,\n",
       " 0,\n",
       " 0,\n",
       " 0,\n",
       " 0,\n",
       " 0,\n",
       " 0,\n",
       " 0,\n",
       " 0,\n",
       " 0,\n",
       " 0,\n",
       " 0,\n",
       " 0,\n",
       " 0,\n",
       " 0,\n",
       " 0,\n",
       " 0,\n",
       " 0,\n",
       " 0,\n",
       " 0,\n",
       " 0,\n",
       " 0,\n",
       " 0,\n",
       " 0,\n",
       " 0,\n",
       " 0,\n",
       " 0,\n",
       " 0,\n",
       " 0,\n",
       " 0,\n",
       " 0,\n",
       " 0,\n",
       " 0,\n",
       " 0,\n",
       " 0,\n",
       " 0,\n",
       " 0,\n",
       " 0,\n",
       " 0,\n",
       " 0,\n",
       " 0,\n",
       " 0,\n",
       " 0,\n",
       " 0,\n",
       " 0,\n",
       " 0,\n",
       " 0,\n",
       " 0,\n",
       " 0,\n",
       " 0,\n",
       " 0,\n",
       " 0,\n",
       " 0,\n",
       " 0,\n",
       " 0,\n",
       " 0,\n",
       " 0,\n",
       " 0,\n",
       " 0,\n",
       " 0,\n",
       " 0,\n",
       " 0,\n",
       " 0,\n",
       " 0,\n",
       " 0,\n",
       " 0,\n",
       " 0,\n",
       " 0,\n",
       " 0,\n",
       " 0,\n",
       " 0,\n",
       " 0,\n",
       " 0,\n",
       " 0,\n",
       " 0,\n",
       " 0,\n",
       " 0,\n",
       " 0,\n",
       " 0,\n",
       " 0,\n",
       " 0,\n",
       " 0,\n",
       " 0,\n",
       " 0,\n",
       " 0,\n",
       " 0,\n",
       " 0,\n",
       " 0,\n",
       " 0,\n",
       " 0,\n",
       " 0,\n",
       " 0,\n",
       " 0,\n",
       " 0,\n",
       " 0,\n",
       " 0,\n",
       " 0,\n",
       " 0,\n",
       " 0,\n",
       " 0,\n",
       " 0,\n",
       " 0,\n",
       " 0,\n",
       " 0,\n",
       " 0,\n",
       " 0,\n",
       " 0,\n",
       " 0,\n",
       " 0,\n",
       " 0,\n",
       " 0,\n",
       " 0,\n",
       " 0,\n",
       " 0,\n",
       " 0,\n",
       " 0,\n",
       " 0,\n",
       " 0,\n",
       " 0,\n",
       " 0,\n",
       " 0,\n",
       " 0,\n",
       " 0,\n",
       " 0,\n",
       " 0,\n",
       " 0,\n",
       " 0,\n",
       " 0,\n",
       " 0,\n",
       " 0,\n",
       " 0,\n",
       " 0,\n",
       " 0,\n",
       " 0,\n",
       " 0,\n",
       " 0,\n",
       " 0,\n",
       " 0,\n",
       " 0,\n",
       " 0,\n",
       " 0,\n",
       " 0,\n",
       " 0,\n",
       " 0,\n",
       " 0,\n",
       " 0,\n",
       " 0,\n",
       " 0,\n",
       " 0,\n",
       " 0,\n",
       " 0,\n",
       " 0,\n",
       " 0,\n",
       " 0,\n",
       " 0,\n",
       " 0,\n",
       " 0,\n",
       " 0,\n",
       " 0,\n",
       " 0,\n",
       " 0,\n",
       " 0,\n",
       " 0,\n",
       " 0,\n",
       " 0,\n",
       " 0,\n",
       " 0,\n",
       " 0,\n",
       " 0,\n",
       " 0,\n",
       " 0,\n",
       " 0,\n",
       " 0,\n",
       " 0,\n",
       " 0,\n",
       " 0,\n",
       " 0,\n",
       " 0,\n",
       " 0,\n",
       " 0,\n",
       " 0,\n",
       " 0,\n",
       " 0,\n",
       " 0,\n",
       " 0,\n",
       " 0,\n",
       " 0,\n",
       " 0,\n",
       " 0,\n",
       " 0,\n",
       " 0,\n",
       " 0,\n",
       " 0,\n",
       " 0,\n",
       " 0,\n",
       " 0,\n",
       " 0,\n",
       " 0,\n",
       " 0,\n",
       " 0,\n",
       " 0,\n",
       " 0,\n",
       " 0,\n",
       " 0,\n",
       " 0,\n",
       " 0,\n",
       " 0]"
      ]
     },
     "execution_count": 331,
     "metadata": {},
     "output_type": "execute_result"
    }
   ],
   "source": [
    "HallGraph.add_edges_from(edges3)"
   ]
  },
  {
   "cell_type": "code",
   "execution_count": 332,
   "metadata": {},
   "outputs": [
    {
     "data": {
      "text/plain": [
       "'Name: \\nType: MultiGraph\\nNumber of nodes: 23\\nNumber of edges: 253\\nAverage degree:  22.0000'"
      ]
     },
     "execution_count": 332,
     "metadata": {},
     "output_type": "execute_result"
    }
   ],
   "source": [
    "nx.info(HallGraph)"
   ]
  },
  {
   "cell_type": "code",
   "execution_count": 323,
   "metadata": {},
   "outputs": [],
   "source": [
    "HallGraph.add_nodes_from(G2)"
   ]
  },
  {
   "cell_type": "code",
   "execution_count": 333,
   "metadata": {},
   "outputs": [
    {
     "data": {
      "text/plain": [
       "'Name: \\nType: MultiGraph\\nNumber of nodes: 23\\nNumber of edges: 253\\nAverage degree:  22.0000'"
      ]
     },
     "execution_count": 333,
     "metadata": {},
     "output_type": "execute_result"
    }
   ],
   "source": [
    "nx.info(HallGraph)"
   ]
  },
  {
   "cell_type": "code",
   "execution_count": 346,
   "metadata": {
    "scrolled": true
   },
   "outputs": [
    {
     "data": {
      "text/plain": [
       "[{1124,\n",
       "  4347,\n",
       "  5038,\n",
       "  11499,\n",
       "  14055,\n",
       "  15044,\n",
       "  23168,\n",
       "  23488,\n",
       "  40247,\n",
       "  43741,\n",
       "  45658,\n",
       "  59441,\n",
       "  68721,\n",
       "  77949,\n",
       "  84305,\n",
       "  146223,\n",
       "  157353,\n",
       "  207936,\n",
       "  214081,\n",
       "  267935,\n",
       "  328425,\n",
       "  339405,\n",
       "  390059,\n",
       "  401546},\n",
       " {(5038, 4347)}]"
      ]
     },
     "execution_count": 346,
     "metadata": {},
     "output_type": "execute_result"
    }
   ],
   "source": [
    "list(nx.connected_components(HallGraph))"
   ]
  },
  {
   "cell_type": "code",
   "execution_count": 345,
   "metadata": {},
   "outputs": [
    {
     "data": {
      "text/plain": [
       "[1]"
      ]
     },
     "execution_count": 345,
     "metadata": {},
     "output_type": "execute_result"
    }
   ],
   "source": [
    "HallGraph.add_edges_from([(5038, 4347, {'Actor': 'Rebecca Hall'})])"
   ]
  },
  {
   "cell_type": "code",
   "execution_count": 347,
   "metadata": {},
   "outputs": [
    {
     "name": "stderr",
     "output_type": "stream",
     "text": [
      "/anaconda3/lib/python3.7/site-packages/networkx/drawing/nx_pylab.py:611: MatplotlibDeprecationWarning: isinstance(..., numbers.Number)\n",
      "  if cb.is_numlike(alpha):\n"
     ]
    },
    {
     "data": {
      "image/png": "[encoded data removed]",
      "text/plain": [
       "<Figure size 432x288 with 1 Axes>"
      ]
     },
     "metadata": {},
     "output_type": "display_data"
    }
   ],
   "source": [
    "nx.draw(HallGraph)"
   ]
  },
  {
   "cell_type": "code",
   "execution_count": 351,
   "metadata": {
    "collapsed": true
   },
   "outputs": [
    {
     "data": {
      "text/plain": [
       "[0,\n",
       " 0,\n",
       " 0,\n",
       " 0,\n",
       " 0,\n",
       " 0,\n",
       " 0,\n",
       " 0,\n",
       " 0,\n",
       " 0,\n",
       " 0,\n",
       " 0,\n",
       " 0,\n",
       " 0,\n",
       " 0,\n",
       " 0,\n",
       " 0,\n",
       " 0,\n",
       " 0,\n",
       " 0,\n",
       " 0,\n",
       " 0,\n",
       " 0,\n",
       " 0,\n",
       " 0,\n",
       " 0,\n",
       " 0,\n",
       " 0,\n",
       " 0,\n",
       " 0,\n",
       " 0,\n",
       " 0,\n",
       " 0,\n",
       " 0,\n",
       " 0,\n",
       " 0,\n",
       " 0,\n",
       " 0,\n",
       " 0,\n",
       " 0,\n",
       " 0,\n",
       " 0,\n",
       " 0,\n",
       " 0,\n",
       " 0,\n",
       " 0,\n",
       " 0,\n",
       " 0,\n",
       " 0,\n",
       " 0,\n",
       " 0,\n",
       " 0,\n",
       " 0,\n",
       " 0,\n",
       " 0,\n",
       " 0,\n",
       " 0,\n",
       " 0,\n",
       " 0,\n",
       " 0,\n",
       " 0,\n",
       " 0,\n",
       " 0,\n",
       " 0,\n",
       " 0,\n",
       " 0,\n",
       " 0,\n",
       " 0,\n",
       " 0,\n",
       " 0,\n",
       " 0,\n",
       " 0,\n",
       " 0,\n",
       " 0,\n",
       " 0,\n",
       " 0,\n",
       " 0,\n",
       " 0,\n",
       " 0,\n",
       " 0,\n",
       " 0,\n",
       " 0,\n",
       " 0,\n",
       " 0,\n",
       " 0,\n",
       " 0,\n",
       " 0,\n",
       " 0,\n",
       " 0,\n",
       " 0,\n",
       " 0,\n",
       " 0,\n",
       " 0,\n",
       " 0,\n",
       " 0,\n",
       " 0,\n",
       " 0,\n",
       " 0,\n",
       " 0,\n",
       " 0,\n",
       " 0,\n",
       " 0,\n",
       " 0,\n",
       " 0,\n",
       " 0,\n",
       " 0,\n",
       " 0,\n",
       " 0,\n",
       " 0,\n",
       " 0,\n",
       " 0,\n",
       " 0,\n",
       " 0,\n",
       " 0,\n",
       " 0,\n",
       " 0,\n",
       " 0,\n",
       " 0,\n",
       " 0,\n",
       " 0,\n",
       " 0,\n",
       " 0,\n",
       " 0,\n",
       " 0,\n",
       " 0,\n",
       " 0,\n",
       " 0,\n",
       " 0,\n",
       " 0,\n",
       " 0,\n",
       " 0,\n",
       " 0,\n",
       " 0,\n",
       " 0,\n",
       " 0,\n",
       " 0,\n",
       " 0,\n",
       " 0,\n",
       " 0,\n",
       " 0,\n",
       " 0,\n",
       " 0,\n",
       " 0,\n",
       " 0,\n",
       " 0,\n",
       " 0,\n",
       " 0,\n",
       " 0,\n",
       " 0,\n",
       " 0,\n",
       " 0,\n",
       " 0,\n",
       " 0,\n",
       " 0,\n",
       " 0,\n",
       " 0,\n",
       " 0,\n",
       " 0,\n",
       " 0,\n",
       " 0,\n",
       " 0,\n",
       " 0,\n",
       " 0,\n",
       " 0,\n",
       " 0,\n",
       " 0,\n",
       " 0,\n",
       " 0,\n",
       " 0,\n",
       " 0,\n",
       " 0,\n",
       " 0,\n",
       " 0,\n",
       " 0,\n",
       " 0,\n",
       " 0,\n",
       " 0,\n",
       " 0,\n",
       " 0,\n",
       " 0,\n",
       " 0,\n",
       " 0,\n",
       " 0,\n",
       " 0,\n",
       " 0,\n",
       " 0,\n",
       " 0,\n",
       " 0,\n",
       " 0,\n",
       " 0,\n",
       " 0,\n",
       " 0,\n",
       " 0,\n",
       " 0,\n",
       " 0,\n",
       " 0,\n",
       " 0,\n",
       " 0,\n",
       " 0,\n",
       " 0,\n",
       " 0,\n",
       " 0,\n",
       " 0,\n",
       " 0,\n",
       " 0,\n",
       " 0,\n",
       " 0,\n",
       " 0,\n",
       " 0,\n",
       " 0,\n",
       " 0,\n",
       " 0,\n",
       " 0,\n",
       " 0,\n",
       " 0,\n",
       " 0,\n",
       " 0,\n",
       " 0,\n",
       " 0,\n",
       " 0,\n",
       " 0,\n",
       " 0,\n",
       " 0,\n",
       " 0,\n",
       " 0,\n",
       " 0,\n",
       " 0,\n",
       " 0,\n",
       " 0,\n",
       " 0,\n",
       " 0,\n",
       " 0,\n",
       " 0,\n",
       " 0,\n",
       " 0,\n",
       " 0,\n",
       " 0,\n",
       " 0,\n",
       " 0,\n",
       " 0,\n",
       " 0,\n",
       " 0,\n",
       " 0,\n",
       " 0,\n",
       " 0,\n",
       " 0,\n",
       " 0,\n",
       " 0,\n",
       " 0,\n",
       " 0,\n",
       " 0,\n",
       " 0,\n",
       " 0,\n",
       " 0,\n",
       " 0,\n",
       " 0,\n",
       " 0,\n",
       " 0,\n",
       " 0,\n",
       " 0,\n",
       " 0,\n",
       " 0,\n",
       " 0,\n",
       " 0,\n",
       " 0,\n",
       " 0,\n",
       " 0,\n",
       " 0,\n",
       " 0,\n",
       " 0,\n",
       " 0,\n",
       " 0,\n",
       " 0,\n",
       " 0,\n",
       " 0,\n",
       " 0,\n",
       " 0,\n",
       " 0,\n",
       " 0,\n",
       " 0,\n",
       " 0,\n",
       " 0,\n",
       " 0,\n",
       " 0,\n",
       " 0,\n",
       " 0,\n",
       " 0,\n",
       " 0,\n",
       " 0,\n",
       " 0,\n",
       " 0,\n",
       " 0,\n",
       " 0,\n",
       " 0,\n",
       " 0,\n",
       " 0,\n",
       " 0,\n",
       " 0,\n",
       " 0,\n",
       " 0,\n",
       " 0,\n",
       " 0,\n",
       " 0,\n",
       " 0,\n",
       " 0,\n",
       " 0,\n",
       " 0,\n",
       " 0,\n",
       " 0,\n",
       " 0,\n",
       " 0,\n",
       " 0,\n",
       " 0,\n",
       " 0,\n",
       " 0,\n",
       " 0,\n",
       " 0,\n",
       " 0,\n",
       " 0,\n",
       " 0,\n",
       " 0,\n",
       " 0,\n",
       " 0,\n",
       " 0,\n",
       " 0,\n",
       " 0,\n",
       " 0,\n",
       " 0,\n",
       " 0,\n",
       " 0,\n",
       " 0,\n",
       " 0,\n",
       " 0,\n",
       " 0,\n",
       " 0,\n",
       " 0,\n",
       " 0,\n",
       " 0,\n",
       " 0,\n",
       " 0,\n",
       " 0,\n",
       " 0,\n",
       " 0,\n",
       " 0,\n",
       " 0,\n",
       " 0,\n",
       " 0,\n",
       " 0,\n",
       " 0,\n",
       " 0,\n",
       " 0,\n",
       " 0,\n",
       " 0,\n",
       " 0,\n",
       " 0,\n",
       " 0,\n",
       " 0,\n",
       " 0,\n",
       " 0,\n",
       " 0,\n",
       " 0,\n",
       " 0,\n",
       " 0,\n",
       " 0,\n",
       " 0,\n",
       " 0,\n",
       " 0,\n",
       " 0,\n",
       " 0,\n",
       " 0,\n",
       " 0,\n",
       " 0,\n",
       " 0,\n",
       " 0,\n",
       " 0,\n",
       " 0,\n",
       " 0,\n",
       " 0,\n",
       " 0,\n",
       " 0,\n",
       " 0,\n",
       " 0,\n",
       " 0,\n",
       " 0,\n",
       " 0,\n",
       " 0,\n",
       " 0,\n",
       " 0,\n",
       " 0,\n",
       " 0,\n",
       " 0,\n",
       " 0,\n",
       " 0,\n",
       " 0,\n",
       " 0,\n",
       " 0,\n",
       " 0,\n",
       " 0,\n",
       " 0,\n",
       " 0,\n",
       " 0,\n",
       " 0,\n",
       " 0,\n",
       " 0,\n",
       " 0,\n",
       " 0,\n",
       " 0,\n",
       " 0,\n",
       " 0,\n",
       " 0,\n",
       " 0,\n",
       " 0,\n",
       " 0,\n",
       " 0,\n",
       " 0,\n",
       " 0,\n",
       " 0,\n",
       " 0,\n",
       " 0,\n",
       " 0,\n",
       " 0,\n",
       " 0,\n",
       " 0,\n",
       " 0,\n",
       " 0,\n",
       " 0,\n",
       " 0,\n",
       " 0,\n",
       " 0,\n",
       " 0,\n",
       " 0,\n",
       " 0,\n",
       " 0,\n",
       " 0,\n",
       " 0,\n",
       " 0,\n",
       " 0,\n",
       " 0,\n",
       " 0,\n",
       " 0,\n",
       " 0,\n",
       " 0,\n",
       " 0,\n",
       " 0,\n",
       " 0,\n",
       " 0,\n",
       " 0,\n",
       " 0,\n",
       " 0,\n",
       " 0,\n",
       " 0,\n",
       " 0,\n",
       " 0,\n",
       " 0,\n",
       " 0,\n",
       " 0,\n",
       " 0,\n",
       " 0,\n",
       " 0,\n",
       " 0,\n",
       " 0,\n",
       " 0,\n",
       " 0,\n",
       " 0,\n",
       " 0,\n",
       " 0,\n",
       " 0,\n",
       " 0,\n",
       " 0,\n",
       " 0,\n",
       " 0,\n",
       " 0,\n",
       " 0,\n",
       " 0,\n",
       " 0,\n",
       " 0,\n",
       " 0,\n",
       " 0,\n",
       " 0,\n",
       " 0,\n",
       " 0,\n",
       " 0,\n",
       " 0,\n",
       " 0,\n",
       " 0,\n",
       " 0,\n",
       " 0,\n",
       " 0,\n",
       " 0,\n",
       " 0,\n",
       " 0,\n",
       " 0,\n",
       " 0,\n",
       " 0,\n",
       " 0,\n",
       " 0,\n",
       " 0,\n",
       " 0,\n",
       " 0,\n",
       " 0,\n",
       " 0,\n",
       " 0,\n",
       " 0,\n",
       " 0,\n",
       " 0,\n",
       " 0,\n",
       " 0,\n",
       " 0,\n",
       " 0,\n",
       " 0,\n",
       " 0,\n",
       " 0,\n",
       " 0,\n",
       " 0,\n",
       " 0,\n",
       " 0,\n",
       " 0,\n",
       " 0,\n",
       " 0,\n",
       " 0,\n",
       " 0,\n",
       " 0,\n",
       " 0,\n",
       " 0,\n",
       " 0,\n",
       " 0,\n",
       " 0,\n",
       " 0,\n",
       " 0,\n",
       " 0,\n",
       " 0,\n",
       " 0,\n",
       " 0,\n",
       " 0,\n",
       " 0,\n",
       " 0,\n",
       " 0,\n",
       " 0,\n",
       " 0,\n",
       " 0,\n",
       " 0,\n",
       " 0,\n",
       " 0,\n",
       " 0,\n",
       " 0,\n",
       " 0,\n",
       " 0,\n",
       " 0,\n",
       " 0,\n",
       " 0,\n",
       " 0,\n",
       " 0,\n",
       " 0,\n",
       " 0,\n",
       " 0,\n",
       " 0,\n",
       " 0,\n",
       " 0,\n",
       " 0,\n",
       " 0,\n",
       " 0,\n",
       " 0,\n",
       " 0,\n",
       " 0,\n",
       " 0,\n",
       " 0,\n",
       " 0,\n",
       " 0,\n",
       " 0,\n",
       " 0,\n",
       " 0,\n",
       " 0,\n",
       " 0,\n",
       " 0,\n",
       " 0,\n",
       " 0,\n",
       " 0,\n",
       " 0,\n",
       " 0,\n",
       " 0,\n",
       " 0,\n",
       " 0,\n",
       " 0,\n",
       " 0,\n",
       " 0,\n",
       " 0,\n",
       " 0,\n",
       " 0,\n",
       " 0,\n",
       " 0,\n",
       " 0,\n",
       " 0,\n",
       " 0,\n",
       " 0,\n",
       " 0,\n",
       " 0,\n",
       " 0,\n",
       " 0,\n",
       " 0,\n",
       " 0,\n",
       " 0,\n",
       " 0,\n",
       " 0,\n",
       " 0,\n",
       " 0,\n",
       " 0,\n",
       " 0,\n",
       " 0,\n",
       " 0,\n",
       " 0,\n",
       " 0,\n",
       " 0,\n",
       " 0,\n",
       " 0,\n",
       " 0,\n",
       " 0,\n",
       " 0,\n",
       " 0,\n",
       " 0,\n",
       " 0,\n",
       " 0,\n",
       " 0,\n",
       " 0,\n",
       " 0,\n",
       " 0,\n",
       " 0,\n",
       " 0,\n",
       " 0,\n",
       " 0,\n",
       " 0]"
      ]
     },
     "execution_count": 351,
     "metadata": {},
     "output_type": "execute_result"
    }
   ],
   "source": [
    "HallGraph.add_edges_from(G2.edges)"
   ]
  },
  {
   "cell_type": "code",
   "execution_count": 352,
   "metadata": {},
   "outputs": [
    {
     "name": "stderr",
     "output_type": "stream",
     "text": [
      "/anaconda3/lib/python3.7/site-packages/networkx/drawing/nx_pylab.py:611: MatplotlibDeprecationWarning: isinstance(..., numbers.Number)\n",
      "  if cb.is_numlike(alpha):\n"
     ]
    },
    {
     "data": {
      "image/png": "[encoded data removed]",
      "text/plain": [
       "<Figure size 432x288 with 1 Axes>"
      ]
     },
     "metadata": {},
     "output_type": "display_data"
    }
   ],
   "source": [
    "nx.draw(HallGraph)"
   ]
  },
  {
   "cell_type": "code",
   "execution_count": 436,
   "metadata": {},
   "outputs": [],
   "source": [
    "rogan = nx.MultiGraph()\n",
    "hill = nx.MultiGraph()\n",
    "watson = nx.MultiGraph()\n",
    "pitt = nx.MultiGraph()\n",
    "bruhl = nx.MultiGraph()"
   ]
  },
  {
   "cell_type": "code",
   "execution_count": 397,
   "metadata": {},
   "outputs": [],
   "source": [
    "film_node_ids = {'This is the End': 1\n",
    "                , 'Superbad': 2\n",
    "                , 'Moneyball': 3\n",
    "                , 'Colonia': 4\n",
    "                , 'Inglorious Basterds': 5}\n",
    "node_name_dict = { v:k for k, v in film_node_ids.items()}"
   ]
  },
  {
   "cell_type": "code",
   "execution_count": 383,
   "metadata": {},
   "outputs": [],
   "source": []
  },
  {
   "cell_type": "code",
   "execution_count": 384,
   "metadata": {},
   "outputs": [],
   "source": []
  },
  {
   "cell_type": "code",
   "execution_count": 438,
   "metadata": {},
   "outputs": [
    {
     "data": {
      "text/plain": [
       "[0]"
      ]
     },
     "execution_count": 438,
     "metadata": {},
     "output_type": "execute_result"
    }
   ],
   "source": [
    "rogan.add_edges_from([(id_to_film_name_dict[1], id_to_film_name_dict[2], {'Actor': 'Seth Rogan'})])"
   ]
  },
  {
   "cell_type": "code",
   "execution_count": 399,
   "metadata": {},
   "outputs": [
    {
     "data": {
      "text/plain": [
       "'Name: \\nType: MultiGraph\\nNumber of nodes: 2\\nNumber of edges: 1\\nAverage degree:   1.0000'"
      ]
     },
     "execution_count": 399,
     "metadata": {},
     "output_type": "execute_result"
    }
   ],
   "source": [
    "nx.info(rogan)"
   ]
  },
  {
   "cell_type": "code",
   "execution_count": 443,
   "metadata": {},
   "outputs": [
    {
     "data": {
      "text/plain": [
       "'This is the End'"
      ]
     },
     "execution_count": 443,
     "metadata": {},
     "output_type": "execute_result"
    }
   ],
   "source": [
    "rogan.node[id_to_film_name_dict[1]]"
   ]
  },
  {
   "cell_type": "code",
   "execution_count": 446,
   "metadata": {},
   "outputs": [],
   "source": [
    "rogan.node[id_to_film_name_dict[1]]['id'] = film_node_ids[id_to_film_name_dict[1]]\n",
    "rogan.node[id_to_film_name_dict[2]]['id'] = film_node_ids[id_to_film_name_dict[2]]"
   ]
  },
  {
   "cell_type": "code",
   "execution_count": 448,
   "metadata": {},
   "outputs": [
    {
     "data": {
      "text/plain": [
       "{'id': 2}"
      ]
     },
     "execution_count": 448,
     "metadata": {},
     "output_type": "execute_result"
    }
   ],
   "source": [
    "rogan.node[id_to_film_name_dict[2]]"
   ]
  },
  {
   "cell_type": "code",
   "execution_count": 449,
   "metadata": {},
   "outputs": [
    {
     "data": {
      "text/plain": [
       "{'id': 1}"
      ]
     },
     "execution_count": 449,
     "metadata": {},
     "output_type": "execute_result"
    }
   ],
   "source": [
    "rogan.node[id_to_film_name_dict[1]]"
   ]
  },
  {
   "cell_type": "code",
   "execution_count": 450,
   "metadata": {},
   "outputs": [
    {
     "data": {
      "text/plain": [
       "MultiEdgeDataView([('This is the End', 'Superbad')])"
      ]
     },
     "execution_count": 450,
     "metadata": {},
     "output_type": "execute_result"
    }
   ],
   "source": [
    "rogan.edges()"
   ]
  },
  {
   "cell_type": "code",
   "execution_count": 408,
   "metadata": {},
   "outputs": [],
   "source": [
    "#nx.compose(G1,G2)           - combine graphs identifying nodes common to both"
   ]
  },
  {
   "cell_type": "code",
   "execution_count": 451,
   "metadata": {},
   "outputs": [],
   "source": [
    "e1 = (id_to_film_name_dict[1], id_to_film_name_dict[2], {'Actor': 'Jonah Hill'})\n",
    "e2 = (id_to_film_name_dict[1], id_to_film_name_dict[3], {'Actor': 'Jonah Hill'})\n",
    "e3 = (id_to_film_name_dict[2], id_to_film_name_dict[3], {'Actor': 'Jonah Hill'})\n",
    "edges = [e1, e2, e3]"
   ]
  },
  {
   "cell_type": "code",
   "execution_count": 452,
   "metadata": {},
   "outputs": [
    {
     "data": {
      "text/plain": [
       "[0, 0, 0]"
      ]
     },
     "execution_count": 452,
     "metadata": {},
     "output_type": "execute_result"
    }
   ],
   "source": [
    "hill.add_edges_from([e1, e2, e3])"
   ]
  },
  {
   "cell_type": "code",
   "execution_count": 454,
   "metadata": {},
   "outputs": [],
   "source": [
    "hill.nodes[id_to_film_name_dict[3]]['title'] = id_to_film_name_dict[3]\n",
    "hill.nodes[id_to_film_name_dict[2]]['title'] = id_to_film_name_dict[2]\n",
    "hill.nodes[id_to_film_name_dict[1]]['title'] = id_to_film_name_dict[1]\n"
   ]
  },
  {
   "cell_type": "code",
   "execution_count": 456,
   "metadata": {},
   "outputs": [
    {
     "data": {
      "text/plain": [
       "{'title': 'This is the End'}"
      ]
     },
     "execution_count": 456,
     "metadata": {},
     "output_type": "execute_result"
    }
   ],
   "source": [
    "hill.nodes[id_to_film_name_dict[1]]"
   ]
  },
  {
   "cell_type": "code",
   "execution_count": 459,
   "metadata": {},
   "outputs": [
    {
     "data": {
      "image/png": "[encoded data removed]",
      "text/plain": [
       "<Figure size 432x288 with 1 Axes>"
      ]
     },
     "metadata": {},
     "output_type": "display_data"
    }
   ],
   "source": [
    "nx.draw(hill, with_labels=True)"
   ]
  },
  {
   "cell_type": "code",
   "execution_count": 460,
   "metadata": {},
   "outputs": [],
   "source": [
    "composed = nx.compose(rogan, hill)"
   ]
  },
  {
   "cell_type": "code",
   "execution_count": 463,
   "metadata": {},
   "outputs": [
    {
     "name": "stderr",
     "output_type": "stream",
     "text": [
      "/anaconda3/lib/python3.7/site-packages/networkx/drawing/nx_pylab.py:611: MatplotlibDeprecationWarning: isinstance(..., numbers.Number)\n",
      "  if cb.is_numlike(alpha):\n"
     ]
    },
    {
     "data": {
      "image/png": "[encoded data removed]",
      "text/plain": [
       "<Figure size 432x288 with 1 Axes>"
      ]
     },
     "metadata": {},
     "output_type": "display_data"
    }
   ],
   "source": [
    "nx.draw(composed, with_labels=True)"
   ]
  },
  {
   "cell_type": "code",
   "execution_count": 432,
   "metadata": {},
   "outputs": [
    {
     "data": {
      "text/plain": [
       "[2, 2, 2]"
      ]
     },
     "execution_count": 432,
     "metadata": {},
     "output_type": "execute_result"
    }
   ],
   "source": []
  },
  {
   "cell_type": "code",
   "execution_count": 464,
   "metadata": {},
   "outputs": [],
   "source": [
    "A = nx.nx_agraph.to_agraph(composed) "
   ]
  },
  {
   "cell_type": "code",
   "execution_count": 465,
   "metadata": {},
   "outputs": [],
   "source": [
    "A.write('/Users/bjg/Desktop/graph.out')"
   ]
  },
  {
   "cell_type": "code",
   "execution_count": 466,
   "metadata": {},
   "outputs": [
    {
     "data": {
      "text/plain": [
       "[0]"
      ]
     },
     "execution_count": 466,
     "metadata": {},
     "output_type": "execute_result"
    }
   ],
   "source": [
    "pitt.add_edges_from([(id_to_film_name_dict[3], id_to_film_name_dict[5], {'Actor': 'Brad Pitt'})])"
   ]
  },
  {
   "cell_type": "code",
   "execution_count": 467,
   "metadata": {},
   "outputs": [
    {
     "data": {
      "text/plain": [
       "[0]"
      ]
     },
     "execution_count": 467,
     "metadata": {},
     "output_type": "execute_result"
    }
   ],
   "source": [
    "bruhl.add_edges_from([(id_to_film_name_dict[4], id_to_film_name_dict[5], {'Actor': 'Daniel Bruhl'})])"
   ]
  },
  {
   "cell_type": "code",
   "execution_count": 468,
   "metadata": {},
   "outputs": [
    {
     "data": {
      "text/plain": [
       "[0]"
      ]
     },
     "execution_count": 468,
     "metadata": {},
     "output_type": "execute_result"
    }
   ],
   "source": [
    "watson.add_edges_from([(id_to_film_name_dict[1], id_to_film_name_dict[4], {'Actor': 'Emma Watson'})])"
   ]
  },
  {
   "cell_type": "code",
   "execution_count": 469,
   "metadata": {},
   "outputs": [],
   "source": [
    "pitt.nodes[id_to_film_name_dict[3]]['title'] = id_to_film_name_dict[3]\n",
    "pitt.nodes[id_to_film_name_dict[5]]['title'] = id_to_film_name_dict[5]\n",
    "\n",
    "bruhl.nodes[id_to_film_name_dict[4]]['title'] = id_to_film_name_dict[4]\n",
    "bruhl.nodes[id_to_film_name_dict[5]]['title'] = id_to_film_name_dict[5]\n",
    "\n",
    "watson.nodes[id_to_film_name_dict[1]]['title'] = id_to_film_name_dict[1]\n",
    "watson.nodes[id_to_film_name_dict[4]]['title'] = id_to_film_name_dict[4]"
   ]
  },
  {
   "cell_type": "code",
   "execution_count": 473,
   "metadata": {},
   "outputs": [],
   "source": [
    "four_movies = nx.compose_all([pitt, bruhl, watson])"
   ]
  },
  {
   "cell_type": "code",
   "execution_count": 474,
   "metadata": {},
   "outputs": [
    {
     "data": {
      "image/png": "[encoded data removed]",
      "text/plain": [
       "<Figure size 432x288 with 1 Axes>"
      ]
     },
     "metadata": {},
     "output_type": "display_data"
    }
   ],
   "source": [
    "nx.draw(four_movies, with_labels=True)"
   ]
  },
  {
   "cell_type": "code",
   "execution_count": 475,
   "metadata": {},
   "outputs": [],
   "source": [
    "sample_graph = nx.compose(four_movies, composed)"
   ]
  },
  {
   "cell_type": "code",
   "execution_count": 477,
   "metadata": {},
   "outputs": [
    {
     "name": "stderr",
     "output_type": "stream",
     "text": [
      "/anaconda3/lib/python3.7/site-packages/networkx/drawing/nx_pylab.py:611: MatplotlibDeprecationWarning: isinstance(..., numbers.Number)\n",
      "  if cb.is_numlike(alpha):\n"
     ]
    },
    {
     "data": {
      "image/png": "[encoded data removed]",
      "text/plain": [
       "<Figure size 432x288 with 1 Axes>"
      ]
     },
     "metadata": {},
     "output_type": "display_data"
    }
   ],
   "source": [
    "nx.draw(sample_graph, with_labels=True)"
   ]
  },
  {
   "cell_type": "code",
   "execution_count": 478,
   "metadata": {},
   "outputs": [],
   "source": [
    "A2 = nx.nx_agraph.to_agraph(sample_graph) "
   ]
  },
  {
   "cell_type": "code",
   "execution_count": 479,
   "metadata": {},
   "outputs": [],
   "source": [
    "A2.write('/Users/bjg/Desktop/graph.out')"
   ]
  },
  {
   "cell_type": "code",
   "execution_count": 480,
   "metadata": {},
   "outputs": [],
   "source": [
    "pos = nx.spring_layout(sample_graph)"
   ]
  },
  {
   "cell_type": "code",
   "execution_count": 481,
   "metadata": {},
   "outputs": [],
   "source": [
    "import pylab"
   ]
  },
  {
   "cell_type": "markdown",
   "metadata": {},
   "source": [
    "### Gameplan for Building the actual Graph"
   ]
  },
  {
   "cell_type": "markdown",
   "metadata": {},
   "source": [
    "What data do I actually want in the graph? Any Rules for building the graph? \n",
    "* Nodes\n",
    "    * Movie Names\n",
    "        * Movie IDs\n",
    "        \n",
    "* Edges\n",
    "    * Actor Names\n",
    "    * Actor IDs"
   ]
  },
  {
   "cell_type": "code",
   "execution_count": 493,
   "metadata": {},
   "outputs": [],
   "source": [
    "pitt.add_node(5, **{'test': 'Can props be added like this?'})"
   ]
  },
  {
   "cell_type": "code",
   "execution_count": 501,
   "metadata": {},
   "outputs": [
    {
     "data": {
      "text/plain": [
       "{'test': 'Can props be added like this?'}"
      ]
     },
     "execution_count": 501,
     "metadata": {},
     "output_type": "execute_result"
    }
   ],
   "source": [
    "pitt.node[5]"
   ]
  },
  {
   "cell_type": "code",
   "execution_count": 504,
   "metadata": {},
   "outputs": [
    {
     "ename": "AttributeError",
     "evalue": "'int' object has no attribute 'nodes'",
     "output_type": "error",
     "traceback": [
      "\u001b[0;31m---------------------------------------------------------------------------\u001b[0m",
      "\u001b[0;31mAttributeError\u001b[0m                            Traceback (most recent call last)",
      "\u001b[0;32m<ipython-input-504-60545311ca05>\u001b[0m in \u001b[0;36m<module>\u001b[0;34m\u001b[0m\n\u001b[0;32m----> 1\u001b[0;31m \u001b[0mnx\u001b[0m\u001b[0;34m.\u001b[0m\u001b[0mset_node_attributes\u001b[0m\u001b[0;34m(\u001b[0m\u001b[0;36m5\u001b[0m\u001b[0;34m,\u001b[0m \u001b[0;34m{\u001b[0m\u001b[0;34m'test'\u001b[0m\u001b[0;34m:\u001b[0m \u001b[0;34m'or this?'\u001b[0m\u001b[0;34m}\u001b[0m\u001b[0;34m)\u001b[0m\u001b[0;34m\u001b[0m\u001b[0;34m\u001b[0m\u001b[0m\n\u001b[0m",
      "\u001b[0;32m/anaconda3/lib/python3.7/site-packages/networkx/classes/function.py\u001b[0m in \u001b[0;36mset_node_attributes\u001b[0;34m(G, values, name)\u001b[0m\n\u001b[1;32m    658\u001b[0m         \u001b[0;32mfor\u001b[0m \u001b[0mn\u001b[0m\u001b[0;34m,\u001b[0m \u001b[0md\u001b[0m \u001b[0;32min\u001b[0m \u001b[0mvalues\u001b[0m\u001b[0;34m.\u001b[0m\u001b[0mitems\u001b[0m\u001b[0;34m(\u001b[0m\u001b[0;34m)\u001b[0m\u001b[0;34m:\u001b[0m\u001b[0;34m\u001b[0m\u001b[0;34m\u001b[0m\u001b[0m\n\u001b[1;32m    659\u001b[0m             \u001b[0;32mtry\u001b[0m\u001b[0;34m:\u001b[0m\u001b[0;34m\u001b[0m\u001b[0;34m\u001b[0m\u001b[0m\n\u001b[0;32m--> 660\u001b[0;31m                 \u001b[0mG\u001b[0m\u001b[0;34m.\u001b[0m\u001b[0mnodes\u001b[0m\u001b[0;34m[\u001b[0m\u001b[0mn\u001b[0m\u001b[0;34m]\u001b[0m\u001b[0;34m.\u001b[0m\u001b[0mupdate\u001b[0m\u001b[0;34m(\u001b[0m\u001b[0md\u001b[0m\u001b[0;34m)\u001b[0m\u001b[0;34m\u001b[0m\u001b[0;34m\u001b[0m\u001b[0m\n\u001b[0m\u001b[1;32m    661\u001b[0m             \u001b[0;32mexcept\u001b[0m \u001b[0mKeyError\u001b[0m\u001b[0;34m:\u001b[0m\u001b[0;34m\u001b[0m\u001b[0;34m\u001b[0m\u001b[0m\n\u001b[1;32m    662\u001b[0m                 \u001b[0;32mpass\u001b[0m\u001b[0;34m\u001b[0m\u001b[0;34m\u001b[0m\u001b[0m\n",
      "\u001b[0;31mAttributeError\u001b[0m: 'int' object has no attribute 'nodes'"
     ]
    }
   ],
   "source": [
    "nx.set_node_attributes(5, {'test': 'or this?'})"
   ]
  },
  {
   "cell_type": "code",
   "execution_count": 505,
   "metadata": {},
   "outputs": [],
   "source": [
    "g1 = nx.MultiGraph()"
   ]
  },
  {
   "cell_type": "code",
   "execution_count": 506,
   "metadata": {},
   "outputs": [],
   "source": [
    "g1.add_node(1)"
   ]
  },
  {
   "cell_type": "code",
   "execution_count": 507,
   "metadata": {},
   "outputs": [],
   "source": [
    "g2 = nx.MultiGraph()"
   ]
  },
  {
   "cell_type": "code",
   "execution_count": 510,
   "metadata": {},
   "outputs": [],
   "source": [
    "g2.add_node(2)#g2.add_node(1)"
   ]
  },
  {
   "cell_type": "code",
   "execution_count": 511,
   "metadata": {},
   "outputs": [],
   "source": [
    "g2.node[1]['original'] = 'I was at Node 2'"
   ]
  },
  {
   "cell_type": "code",
   "execution_count": 512,
   "metadata": {},
   "outputs": [],
   "source": [
    "g1.node[1]['original'] = 'I was at Node 1'"
   ]
  },
  {
   "cell_type": "code",
   "execution_count": 515,
   "metadata": {},
   "outputs": [],
   "source": [
    "g3 = nx.compose(g2, g1)"
   ]
  },
  {
   "cell_type": "code",
   "execution_count": 516,
   "metadata": {},
   "outputs": [
    {
     "data": {
      "text/plain": [
       "{'original': 'I was at Node 1'}"
      ]
     },
     "execution_count": 516,
     "metadata": {},
     "output_type": "execute_result"
    }
   ],
   "source": [
    "g3.node[1]"
   ]
  },
  {
   "cell_type": "code",
   "execution_count": null,
   "metadata": {},
   "outputs": [],
   "source": []
  }
 ],
 "metadata": {
  "kernelspec": {
   "display_name": "Python3 OSX",
   "language": "python",
   "name": "base"
  },
  "language_info": {
   "codemirror_mode": {
    "name": "ipython",
    "version": 3
   },
   "file_extension": ".py",
   "mimetype": "text/x-python",
   "name": "python",
   "nbconvert_exporter": "python",
   "pygments_lexer": "ipython3",
   "version": "3.7.1"
  },
  "toc": {
   "base_numbering": 1,
   "nav_menu": {},
   "number_sections": true,
   "sideBar": true,
   "skip_h1_title": false,
   "title_cell": "Table of Contents",
   "title_sidebar": "Contents",
   "toc_cell": false,
   "toc_position": {},
   "toc_section_display": true,
   "toc_window_display": false
  },
  "varInspector": {
   "cols": {
    "lenName": 16,
    "lenType": 16,
    "lenVar": 40
   },
   "kernels_config": {
    "python": {
     "delete_cmd_postfix": "",
     "delete_cmd_prefix": "del ",
     "library": "var_list.py",
     "varRefreshCmd": "print(var_dic_list())"
    },
    "r": {
     "delete_cmd_postfix": ") ",
     "delete_cmd_prefix": "rm(",
     "library": "var_list.r",
     "varRefreshCmd": "cat(var_dic_list()) "
    }
   },
   "types_to_exclude": [
    "module",
    "function",
    "builtin_function_or_method",
    "instance",
    "_Feature"
   ],
   "window_display": false
  }
 },
 "nbformat": 4,
 "nbformat_minor": 2
}
