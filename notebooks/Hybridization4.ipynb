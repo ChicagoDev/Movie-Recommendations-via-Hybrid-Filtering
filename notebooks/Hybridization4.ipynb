{
 "cells": [
  {
   "cell_type": "code",
   "execution_count": 1,
   "metadata": {},
   "outputs": [],
   "source": [
    "import sys\n",
    "sys.path.append('/Users/bjg/MovieRecommender_AI')\n",
    "\n",
    "from Modeling.collaborative_filtering import *\n",
    "from Modeling.content_filtering import *\n",
    "from Modeling.graphing import *\n",
    "from surprise import SVD\n",
    "from surprise.model_selection import cross_validate, train_test_split\n",
    "from surprise import Dataset\n",
    "from surprise import Reader"
   ]
  },
  {
   "cell_type": "code",
   "execution_count": 2,
   "metadata": {},
   "outputs": [
    {
     "name": "stderr",
     "output_type": "stream",
     "text": [
      "/anaconda3/lib/python3.7/site-packages/IPython/core/interactiveshell.py:3020: DtypeWarning: Columns (10) have mixed types. Specify dtype option on import or set low_memory=False.\n",
      "  interactivity=interactivity, compiler=compiler, result=result)\n"
     ]
    }
   ],
   "source": [
    "movies_metadata_df = pd.read_csv('../data/the-movies-dataset/movies_metadata.csv'\n",
    "                                 , converters={ 'id': lambda x: convert_ids(x)\n",
    "                                               , 'imdb_id': lambda x: convert_ids(x)\n",
    "                                               ,'popularity': lambda x: convert_to_float(x)\n",
    "                                               ,'genres': lambda x: to_json(x)}\n",
    "                                 , usecols=['id', 'original_title'\n",
    "                                                , 'genres' #'homepage'\n",
    "                                                , 'overview', 'popularity', 'poster_path'\n",
    "                                                , 'release_date', 'revenue', 'runtime'\n",
    "                                                , 'spoken_languages', 'title'\n",
    "                                                , 'vote_average', 'vote_count']\n",
    "                                , dtype={'populariy': np.float64}\n",
    "                                , parse_dates=True)\n",
    "\n",
    "\n",
    "movies_lookup_df = pd.read_csv('../data/the-movies-dataset/movies_metadata.csv'\n",
    "                        , converters={'id': lambda x: convert_ids(x), 'imdb_id': lambda x: convert_ids(x)}\n",
    "                       ,usecols=['id', 'title'])\n",
    "#####################################\n",
    "##SVD DATA SET\n",
    "movies_df = pd.read_csv('../data/the-movies-dataset/movies_metadata.csv'\n",
    "                        , converters={'id': lambda x: convert_ids(x), 'imdb_id': lambda x: convert_ids(x)}\n",
    "                       ,usecols=['id', 'original_title', 'belongs_to_collection'\n",
    "                                 , 'budget', 'genres', 'homepage'\n",
    "                                 ,'imdb_id', 'overview', 'popularity', 'poster_path'\n",
    "                                 , 'production_companies','release_date', 'revenue', 'runtime',\n",
    "                                 'spoken_languages', 'status', 'tagline', 'title', 'video',\n",
    "                                 'vote_average', 'vote_count'])\n",
    "#####################################\n",
    "\n",
    "ratings_df = pd.read_csv('../data/the-movies-dataset/ratings_small.csv')\n",
    "\n",
    "\n",
    "\n",
    "content_filter_df = pd.read_pickle('../data/content_filter_df.pkl')\n",
    "content_filter_df = content_filter_df[['id',\n",
    " 'popularity',\n",
    " #'release_date',\n",
    " 'vote_average',\n",
    " 'release_year',\n",
    " 0,1,2,3,4,5, 6, 7, 8,9,10,11,12,13,14,15,16,17,18,19]]\n",
    "content_filter_df = content_filter_df.dropna()\n",
    "\n",
    "idx = pd.Index(content_filter_df['id'])\n",
    "idx\n",
    "content_filter_df.index = idx"
   ]
  },
  {
   "cell_type": "code",
   "execution_count": 3,
   "metadata": {},
   "outputs": [],
   "source": [
    "###May need Fuzzy matching, but for now:\n",
    "movies_df = movies_df[movies_df.spoken_languages == \"\"\"[{'iso_639_1': 'en', 'name': 'English'}]\"\"\"]\n",
    "ratings_with_movie_names = ratings_df.merge(movies_df[['id', 'original_title']], how='left', left_on='movieId', right_on='id')\n",
    "ratings_with_movie_names = ratings_with_movie_names[ratings_with_movie_names.original_title.isnull() == False]"
   ]
  },
  {
   "cell_type": "code",
   "execution_count": 4,
   "metadata": {},
   "outputs": [],
   "source": [
    "reader = Reader(rating_scale=(0, 5))\n",
    "data = Dataset.load_from_df(ratings_with_movie_names[['userId', 'movieId', 'rating']], reader)\n",
    "trainset = data.build_full_trainset()\n",
    "testset = trainset.build_anti_testset()"
   ]
  },
  {
   "cell_type": "code",
   "execution_count": 5,
   "metadata": {},
   "outputs": [
    {
     "name": "stdout",
     "output_type": "stream",
     "text": [
      "Processing epoch 0\n",
      "Processing epoch 1\n",
      "Processing epoch 2\n",
      "Processing epoch 3\n",
      "Processing epoch 4\n",
      "Processing epoch 5\n",
      "Processing epoch 6\n",
      "Processing epoch 7\n",
      "Processing epoch 8\n",
      "Processing epoch 9\n",
      "Processing epoch 10\n",
      "Processing epoch 11\n",
      "Processing epoch 12\n",
      "Processing epoch 13\n",
      "Processing epoch 14\n",
      "Processing epoch 15\n",
      "Processing epoch 16\n",
      "Processing epoch 17\n",
      "Processing epoch 18\n",
      "Processing epoch 19\n"
     ]
    },
    {
     "data": {
      "text/plain": [
       "{'test_rmse': array([0.88071965, 0.89998092, 0.90418479, 0.90266606, 0.88545311]),\n",
       " 'test_mae': array([0.68448699, 0.68377255, 0.69980006, 0.69972166, 0.68481808]),\n",
       " 'fit_time': (0.8804490566253662,\n",
       "  0.8936948776245117,\n",
       "  0.9232771396636963,\n",
       "  0.9181864261627197,\n",
       "  0.8151097297668457),\n",
       " 'test_time': (0.028622150421142578,\n",
       "  0.026682138442993164,\n",
       "  0.030500173568725586,\n",
       "  0.023614168167114258,\n",
       "  0.022730350494384766)}"
      ]
     },
     "execution_count": 5,
     "metadata": {},
     "output_type": "execute_result"
    }
   ],
   "source": [
    "algo = SVD(verbose=True, random_state=51)\n",
    "algo.fit(trainset)\n",
    "\n",
    "cross_validate(algo, data, measures=['RMSE', 'MAE'], cv=5, n_jobs=-1)#, verbose=True)"
   ]
  },
  {
   "cell_type": "code",
   "execution_count": 7,
   "metadata": {},
   "outputs": [],
   "source": [
    "predictions = algo.test(testset)\n",
    "### Tune this value to get fewer results faster, but less options to choose from\n",
    "top_n = get_top_n(predictions, 200)\n",
    "\n",
    "\n",
    "predicted_movies_by_name = defaultdict(list)\n",
    "\n",
    "### This builds the dictionary of predicted movies for all users\n",
    "for key, value in top_n.items():\n",
    "    predicted_movies_by_name[key] = [get_movie_name(mov_id[0], movies_metadata_df) for mov_id in value]"
   ]
  },
  {
   "cell_type": "markdown",
   "metadata": {},
   "source": [
    "**SVD IS BOOTSTRAPPED**"
   ]
  },
  {
   "cell_type": "code",
   "execution_count": 99,
   "metadata": {},
   "outputs": [
    {
     "data": {
      "text/plain": [
       "[UserFavoriteRating(title='48 Hrs.', rating=4.0),\n",
       " UserFavoriteRating(title='Stand by Me', rating=4.0),\n",
       " UserFavoriteRating(title='The Million Dollar Hotel', rating=4.0)]"
      ]
     },
     "execution_count": 99,
     "metadata": {},
     "output_type": "execute_result"
    }
   ],
   "source": [
    "selected_user = 338\n",
    "_collab_recs_ = sorted(users_favorite_movies(10, selected_user, predicted_movies_by_name, movies_metadata_df, ratings_with_movie_names), key=lambda k: k[1], reverse=True)\n",
    "top_three = _collab_recs_[0:3]\n",
    "top_three"
   ]
  },
  {
   "cell_type": "code",
   "execution_count": 107,
   "metadata": {},
   "outputs": [
    {
     "data": {
      "text/plain": [
       "[UserFavoriteRating(title='Birdman of Alcatraz', rating=4.157525275035756),\n",
       " UserFavoriteRating(title='My Darling Clementine', rating=4.1564348326804135),\n",
       " UserFavoriteRating(title='While You Were Sleeping', rating=4.143476069427995),\n",
       " UserFavoriteRating(title='The Rapture', rating=4.074503797480896),\n",
       " UserFavoriteRating(title='Lonely Hearts', rating=4.055506019538544),\n",
       " UserFavoriteRating(title='Men in Black II', rating=4.034652786292273),\n",
       " UserFavoriteRating(title='Hard Target', rating=4.023421276458529),\n",
       " UserFavoriteRating(title='Shriek If You Know What I Did Last Friday the Thirteenth', rating=4.022937473968079),\n",
       " UserFavoriteRating(title='Nell', rating=4.019701479404814),\n",
       " UserFavoriteRating(title='The Good Thief', rating=4.014500919573835),\n",
       " UserFavoriteRating(title='Dog Day Afternoon', rating=3.9981395225115595),\n",
       " UserFavoriteRating(title='Flags of Our Fathers', rating=3.9940314992587034),\n",
       " UserFavoriteRating(title='Galaxy Quest', rating=3.9812950848530377),\n",
       " UserFavoriteRating(title='Irma la Douce', rating=3.9787017972726018),\n",
       " UserFavoriteRating(title='Confession of a Child of the Century', rating=3.97222282204938),\n",
       " UserFavoriteRating(title='End of the World', rating=3.969729132175921),\n",
       " UserFavoriteRating(title='Laura', rating=3.969377832871432),\n",
       " UserFavoriteRating(title='Beverly Hills Cop III', rating=3.9677392479904574),\n",
       " UserFavoriteRating(title='Totally Blonde', rating=3.962752277598545),\n",
       " UserFavoriteRating(title='Point Break', rating=3.962663819155064),\n",
       " UserFavoriteRating(title='Far from the Madding Crowd', rating=3.948890721968615),\n",
       " UserFavoriteRating(title='License to Wed', rating=3.943147556715923),\n",
       " UserFavoriteRating(title='The Thomas Crown Affair', rating=3.9424964874475252),\n",
       " UserFavoriteRating(title='Boat', rating=3.9411166042469876),\n",
       " UserFavoriteRating(title='Sleepless in Seattle', rating=3.9318382817042767),\n",
       " UserFavoriteRating(title='Bonnie and Clyde', rating=3.9301681460897875),\n",
       " UserFavoriteRating(title='Loose Screws', rating=3.923478772297326),\n",
       " UserFavoriteRating(title='Young and Innocent', rating=3.8944409204610615),\n",
       " UserFavoriteRating(title='Frankenstein', rating=3.8887024978381284),\n",
       " UserFavoriteRating(title='My Name Is Bruce', rating=3.8812734292006965)]"
      ]
     },
     "execution_count": 107,
     "metadata": {},
     "output_type": "execute_result"
    }
   ],
   "source": [
    "collab_recs = collab_filter_recommendations(selected_user, top_n, movies_metadata_df)\n",
    "collab_recs[0:30]"
   ]
  },
  {
   "cell_type": "code",
   "execution_count": 72,
   "metadata": {},
   "outputs": [
    {
     "name": "stdout",
     "output_type": "stream",
     "text": [
      "lookup failed 143 times.\n",
      "lookup failed 144 times.\n",
      "lookup failed 138 times.\n"
     ]
    }
   ],
   "source": [
    "number_of_similar_films = 250\n",
    "\n",
    "fav_movies = [mov[0] for mov in top_three]\n",
    "\n",
    "origin_film_1 = get_movie_id(fav_movies[0], movies_metadata_df)\n",
    "\n",
    "similar_films_scored_1 = top_n_closest_content_filtered(number_of_similar_films, origin_film_1, content_filter_df)\n",
    "content_filter_recs_1 = top_filtered_to_movie_rec_tuples(similar_films_scored_1, origin_film_1, movies_lookup_df)\n",
    "\n",
    "origin_film_2 = get_movie_id(fav_movies[1], movies_metadata_df)\n",
    "\n",
    "similar_films_scored_2 = top_n_closest_content_filtered(number_of_similar_films, origin_film_2, content_filter_df)\n",
    "content_filter_recs_2 = top_filtered_to_movie_rec_tuples(similar_films_scored_2, origin_film_2, movies_lookup_df)\n",
    "\n",
    "origin_film_3 = get_movie_id(fav_movies[2], movies_metadata_df)\n",
    "\n",
    "similar_films_scored_3 = top_n_closest_content_filtered(number_of_similar_films, origin_film_3, content_filter_df)\n",
    "content_filter_recs_3 = top_filtered_to_movie_rec_tuples(similar_films_scored_3, origin_film_3, movies_lookup_df)"
   ]
  },
  {
   "cell_type": "code",
   "execution_count": 101,
   "metadata": {
    "scrolled": true
   },
   "outputs": [
    {
     "data": {
      "text/plain": [
       "[ContentFilterRecommendation(id_origin=318, title='The Million Dollar Hotel', id_2=6609, title_2='Keoma', similarity=0.9999984682726184),\n",
       " ContentFilterRecommendation(id_origin=318, title='The Million Dollar Hotel', id_2=13305, title_2='Snow-White and Rose-Red', similarity=0.9999971597777696),\n",
       " ContentFilterRecommendation(id_origin=318, title='The Million Dollar Hotel', id_2=1777, title_2='Fahrenheit 9/11', similarity=0.9999951665612803),\n",
       " ContentFilterRecommendation(id_origin=318, title='The Million Dollar Hotel', id_2=11109, title_2='Vera Drake', similarity=0.9999932014251952),\n",
       " ContentFilterRecommendation(id_origin=318, title='The Million Dollar Hotel', id_2=896, title_2='The World of Apu', similarity=0.9999903560191948),\n",
       " ContentFilterRecommendation(id_origin=318, title='The Million Dollar Hotel', id_2=11403, title_2='The River Why', similarity=0.9999901600742706),\n",
       " ContentFilterRecommendation(id_origin=318, title='The Million Dollar Hotel', id_2=2239, title_2='Hallam Foe', similarity=0.9999900822403597),\n",
       " ContentFilterRecommendation(id_origin=318, title='The Million Dollar Hotel', id_2=10234, title_2='Funny Games', similarity=0.9999852788855121),\n",
       " ContentFilterRecommendation(id_origin=318, title='The Million Dollar Hotel', id_2=4191, title_2='The Bride Wore Black', similarity=0.9999805766301654),\n",
       " ContentFilterRecommendation(id_origin=318, title='The Million Dollar Hotel', id_2=550, title_2='Fight Club', similarity=0.9999800615423675)]"
      ]
     },
     "execution_count": 101,
     "metadata": {},
     "output_type": "execute_result"
    }
   ],
   "source": [
    "content_filter_recs_3[0:10]"
   ]
  },
  {
   "cell_type": "code",
   "execution_count": 103,
   "metadata": {},
   "outputs": [
    {
     "data": {
      "text/plain": [
       "[ContentFilterRecommendation(id_origin=235, title='Stand by Me', id_2=284, title_2='The Apartment', similarity=0.9999942452745557),\n",
       " ContentFilterRecommendation(id_origin=235, title='Stand by Me', id_2=1907, title_2='The Beach', similarity=0.9999939908238119),\n",
       " ContentFilterRecommendation(id_origin=235, title='Stand by Me', id_2=1285, title_2='Torrente 3 The Protector', similarity=0.999991693236627),\n",
       " ContentFilterRecommendation(id_origin=235, title='Stand by Me', id_2=876, title_2=\"Frank Herbert's Dune\", similarity=0.9999916416373108),\n",
       " ContentFilterRecommendation(id_origin=235, title='Stand by Me', id_2=337, title_2='Monsieur Ibrahim', similarity=0.9999869610449237),\n",
       " ContentFilterRecommendation(id_origin=235, title='Stand by Me', id_2=10527, title_2='Madagascar: Escape 2 Africa', similarity=0.9999833398879097),\n",
       " ContentFilterRecommendation(id_origin=235, title='Stand by Me', id_2=1998, title_2='Holy Lola', similarity=0.9999827025003529),\n",
       " ContentFilterRecommendation(id_origin=235, title='Stand by Me', id_2=580, title_2='Jaws: The Revenge', similarity=0.9999682424761851),\n",
       " ContentFilterRecommendation(id_origin=235, title='Stand by Me', id_2=10587, title_2='Police Academy 4: Citizens on Patrol', similarity=0.9999631917164413),\n",
       " ContentFilterRecommendation(id_origin=235, title='Stand by Me', id_2=874, title_2='A Man for All Seasons', similarity=0.9999537294045691)]"
      ]
     },
     "execution_count": 103,
     "metadata": {},
     "output_type": "execute_result"
    }
   ],
   "source": [
    "content_filter_recs_2[0:10]"
   ]
  },
  {
   "cell_type": "code",
   "execution_count": 102,
   "metadata": {},
   "outputs": [
    {
     "data": {
      "text/plain": [
       "[ContentFilterRecommendation(id_origin=150, title='48 Hrs.', id_2=4909, title_2='The Day of the Jackal', similarity=0.9999999999999999),\n",
       " ContentFilterRecommendation(id_origin=150, title='48 Hrs.', id_2=1811, title_2='Nowhere', similarity=0.9999981612780758),\n",
       " ContentFilterRecommendation(id_origin=150, title='48 Hrs.', id_2=11142, title_2='Der Clown - Tag der Vergeltung', similarity=0.9999971228637452),\n",
       " ContentFilterRecommendation(id_origin=150, title='48 Hrs.', id_2=2608, title_2='Maid to Order', similarity=0.9999912344970128),\n",
       " ContentFilterRecommendation(id_origin=150, title='48 Hrs.', id_2=4823, title_2='Final Analysis', similarity=0.9999869167597799),\n",
       " ContentFilterRecommendation(id_origin=150, title='48 Hrs.', id_2=10439, title_2='Hocus Pocus', similarity=0.9999861673058159),\n",
       " ContentFilterRecommendation(id_origin=150, title='48 Hrs.', id_2=829, title_2='Chinatown', similarity=0.9999856844441974),\n",
       " ContentFilterRecommendation(id_origin=150, title='48 Hrs.', id_2=1213, title_2='The Talented Mr. Ripley', similarity=0.9999748564618094),\n",
       " ContentFilterRecommendation(id_origin=150, title='48 Hrs.', id_2=1895, title_2='Star Wars: Episode III - Revenge of the Sith', similarity=0.9999729192867064),\n",
       " ContentFilterRecommendation(id_origin=150, title='48 Hrs.', id_2=4734, title_2='Van Gogh', similarity=0.9999688219079845)]"
      ]
     },
     "execution_count": 102,
     "metadata": {},
     "output_type": "execute_result"
    }
   ],
   "source": [
    "content_filter_recs_1[0:10]"
   ]
  },
  {
   "cell_type": "code",
   "execution_count": 76,
   "metadata": {},
   "outputs": [],
   "source": [
    "uri = \"bolt://localhost:7687\"\n",
    "driver = GraphDatabase.driver(uri, auth=('neo4j', 'n;slr#!21'))"
   ]
  },
  {
   "cell_type": "code",
   "execution_count": 77,
   "metadata": {},
   "outputs": [],
   "source": [
    "first_degree_away_films = get_connected_movies([mov[0] for mov in top_three], driver)"
   ]
  },
  {
   "cell_type": "code",
   "execution_count": 78,
   "metadata": {},
   "outputs": [],
   "source": [
    "graph_name_collab_filter = set({movie[0] for movie in first_degree_away_films})"
   ]
  },
  {
   "cell_type": "code",
   "execution_count": 91,
   "metadata": {},
   "outputs": [],
   "source": [
    "content_filter_recs = content_filter_recs_1 + content_filter_recs_2 + content_filter_recs_3"
   ]
  },
  {
   "cell_type": "code",
   "execution_count": null,
   "metadata": {},
   "outputs": [],
   "source": []
  },
  {
   "cell_type": "code",
   "execution_count": 92,
   "metadata": {},
   "outputs": [],
   "source": [
    "content_rec_names_set = set(movie[3] for movie in content_filter_recs)"
   ]
  },
  {
   "cell_type": "code",
   "execution_count": 93,
   "metadata": {},
   "outputs": [],
   "source": [
    "collab_movie_name_set = set(movie[0] for movie in collab_recs)"
   ]
  },
  {
   "cell_type": "code",
   "execution_count": 94,
   "metadata": {},
   "outputs": [
    {
     "data": {
      "text/plain": [
       "{'A Nightmare on Elm Street 3: Dream Warriors',\n",
       " 'Across the Universe',\n",
       " 'Armageddon',\n",
       " 'Babel',\n",
       " 'Cat People',\n",
       " 'Crash',\n",
       " 'Dark Blue',\n",
       " 'Ed Wood',\n",
       " 'Fight Club',\n",
       " 'Final Analysis',\n",
       " 'Funny Games',\n",
       " 'Planet of the Apes',\n",
       " 'Poodle Springs',\n",
       " 'Star Wars: Episode II - Attack of the Clones',\n",
       " 'Star Wars: Episode III - Revenge of the Sith',\n",
       " 'The Apostle',\n",
       " 'The Golden Child',\n",
       " 'The Legend of 1900'}"
      ]
     },
     "execution_count": 94,
     "metadata": {},
     "output_type": "execute_result"
    }
   ],
   "source": [
    "graph_name_collab_filter & content_rec_names_set"
   ]
  },
  {
   "cell_type": "code",
   "execution_count": 95,
   "metadata": {},
   "outputs": [
    {
     "data": {
      "text/plain": [
       "{'1408',\n",
       " 'Across the Universe',\n",
       " 'American Graffiti',\n",
       " 'Armed and Dangerous',\n",
       " 'Bean',\n",
       " 'Beverly Hills Cop III',\n",
       " 'Blown Away',\n",
       " 'Dancer in the Dark',\n",
       " 'Ghost Rider',\n",
       " 'In the Mouth of Madness',\n",
       " 'Ken Park',\n",
       " 'Lethal Weapon 3',\n",
       " 'Nell',\n",
       " \"One Night at McCool's\",\n",
       " 'The Final Cut',\n",
       " 'The Good Thief',\n",
       " 'The Number 23',\n",
       " 'Twin Peaks: Fire Walk with Me',\n",
       " 'Wedlock'}"
      ]
     },
     "execution_count": 95,
     "metadata": {},
     "output_type": "execute_result"
    }
   ],
   "source": [
    "graph_name_collab_filter & collab_movie_name_set"
   ]
  },
  {
   "cell_type": "code",
   "execution_count": 96,
   "metadata": {},
   "outputs": [],
   "source": [
    "recommendation_titles = (graph_name_collab_filter & content_rec_names_set) | (graph_name_collab_filter & collab_movie_name_set)"
   ]
  },
  {
   "cell_type": "code",
   "execution_count": 97,
   "metadata": {},
   "outputs": [
    {
     "data": {
      "text/plain": [
       "{'1408',\n",
       " 'A Nightmare on Elm Street 3: Dream Warriors',\n",
       " 'Across the Universe',\n",
       " 'American Graffiti',\n",
       " 'Armageddon',\n",
       " 'Armed and Dangerous',\n",
       " 'Babel',\n",
       " 'Bean',\n",
       " 'Beverly Hills Cop III',\n",
       " 'Blown Away',\n",
       " 'Cat People',\n",
       " 'Crash',\n",
       " 'Dancer in the Dark',\n",
       " 'Dark Blue',\n",
       " 'Ed Wood',\n",
       " 'Fight Club',\n",
       " 'Final Analysis',\n",
       " 'Funny Games',\n",
       " 'Ghost Rider',\n",
       " 'In the Mouth of Madness',\n",
       " 'Ken Park',\n",
       " 'Lethal Weapon 3',\n",
       " 'Nell',\n",
       " \"One Night at McCool's\",\n",
       " 'Planet of the Apes',\n",
       " 'Poodle Springs',\n",
       " 'Star Wars: Episode II - Attack of the Clones',\n",
       " 'Star Wars: Episode III - Revenge of the Sith',\n",
       " 'The Apostle',\n",
       " 'The Final Cut',\n",
       " 'The Golden Child',\n",
       " 'The Good Thief',\n",
       " 'The Legend of 1900',\n",
       " 'The Number 23',\n",
       " 'Twin Peaks: Fire Walk with Me',\n",
       " 'Wedlock'}"
      ]
     },
     "execution_count": 97,
     "metadata": {},
     "output_type": "execute_result"
    }
   ],
   "source": [
    "recommendation_titles"
   ]
  },
  {
   "cell_type": "code",
   "execution_count": 98,
   "metadata": {},
   "outputs": [
    {
     "name": "stdout",
     "output_type": "stream",
     "text": [
      "UserFavoriteRating(title='Nell', rating=4.019701479404814)\n",
      "UserFavoriteRating(title='The Good Thief', rating=4.014500919573835)\n",
      "UserFavoriteRating(title='Beverly Hills Cop III', rating=3.9677392479904574)\n",
      "UserFavoriteRating(title='Ghost Rider', rating=3.8672282395156294)\n",
      "UserFavoriteRating(title=\"One Night at McCool's\", rating=3.772803782922307)\n",
      "UserFavoriteRating(title='Bean', rating=3.759164995300022)\n",
      "UserFavoriteRating(title='Wedlock', rating=3.720574379857845)\n",
      "UserFavoriteRating(title='American Graffiti', rating=3.712864864203836)\n",
      "UserFavoriteRating(title='Ken Park', rating=3.6609258995186735)\n",
      "UserFavoriteRating(title='Armed and Dangerous', rating=3.6428484979952565)\n",
      "UserFavoriteRating(title='Blown Away', rating=3.6321901223846957)\n",
      "UserFavoriteRating(title='The Number 23', rating=3.625648055487206)\n",
      "UserFavoriteRating(title='Lethal Weapon 3', rating=3.624913736497648)\n",
      "UserFavoriteRating(title='1408', rating=3.583086092974816)\n",
      "UserFavoriteRating(title='In the Mouth of Madness', rating=3.5665457074555693)\n",
      "UserFavoriteRating(title='The Final Cut', rating=3.5649498230568053)\n",
      "UserFavoriteRating(title='Twin Peaks: Fire Walk with Me', rating=3.5636006710597847)\n",
      "UserFavoriteRating(title='Dancer in the Dark', rating=3.5616848026619863)\n",
      "UserFavoriteRating(title='Across the Universe', rating=3.5586597122896633)\n"
     ]
    }
   ],
   "source": [
    "for mov in collab_recs:\n",
    "    if mov[0] in recommendation_titles:\n",
    "        print(mov)"
   ]
  },
  {
   "cell_type": "code",
   "execution_count": null,
   "metadata": {},
   "outputs": [],
   "source": []
  }
 ],
 "metadata": {
  "kernelspec": {
   "display_name": "Python3 OSX",
   "language": "python",
   "name": "base"
  },
  "language_info": {
   "codemirror_mode": {
    "name": "ipython",
    "version": 3
   },
   "file_extension": ".py",
   "mimetype": "text/x-python",
   "name": "python",
   "nbconvert_exporter": "python",
   "pygments_lexer": "ipython3",
   "version": "3.7.1"
  },
  "toc": {
   "base_numbering": 1,
   "nav_menu": {},
   "number_sections": true,
   "sideBar": true,
   "skip_h1_title": false,
   "title_cell": "Table of Contents",
   "title_sidebar": "Contents",
   "toc_cell": false,
   "toc_position": {},
   "toc_section_display": true,
   "toc_window_display": false
  },
  "varInspector": {
   "cols": {
    "lenName": 16,
    "lenType": 16,
    "lenVar": 40
   },
   "kernels_config": {
    "python": {
     "delete_cmd_postfix": "",
     "delete_cmd_prefix": "del ",
     "library": "var_list.py",
     "varRefreshCmd": "print(var_dic_list())"
    },
    "r": {
     "delete_cmd_postfix": ") ",
     "delete_cmd_prefix": "rm(",
     "library": "var_list.r",
     "varRefreshCmd": "cat(var_dic_list()) "
    }
   },
   "types_to_exclude": [
    "module",
    "function",
    "builtin_function_or_method",
    "instance",
    "_Feature"
   ],
   "window_display": false
  }
 },
 "nbformat": 4,
 "nbformat_minor": 2
}
