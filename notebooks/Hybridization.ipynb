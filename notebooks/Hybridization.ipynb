{
 "cells": [
  {
   "cell_type": "code",
   "execution_count": 1,
   "metadata": {},
   "outputs": [],
   "source": [
    "#Python Imports\n",
    "from sklearn.decomposition import TruncatedSVD\n",
    "from sklearn.feature_extraction.text import TfidfVectorizer\n",
    "from sklearn.feature_extraction.text import HashingVectorizer\n",
    "from sklearn.feature_extraction.text import TfidfTransformer\n",
    "from sklearn.pipeline import make_pipeline\n",
    "from sklearn.preprocessing import Normalizer\n",
    "from sklearn import metrics\n",
    "from sklearn.cluster import KMeans, MiniBatchKMeans\n",
    "import logging\n",
    "from optparse import OptionParser\n",
    "import sys\n",
    "from time import time\n",
    "import numpy as np\n",
    "from sklearn.feature_extraction.text import CountVectorizer\n",
    "import pickle\n",
    "import pandas as pd\n",
    "import re\n",
    "from pandas.io.json import json_normalize\n",
    "import json\n",
    "import pandas as pd\n",
    "import numpy as np\n",
    "from surprise import SVD\n",
    "from surprise.model_selection import cross_validate, train_test_split\n",
    "from surprise import Dataset\n",
    "from surprise import Reader\n",
    "from surprise.prediction_algorithms.knns import KNNWithZScore, KNNBaseline\n",
    "from surprise.prediction_algorithms.matrix_factorization import NMF\n",
    "from pandas.io.json import json_normalize\n",
    "from pymongo import MongoClient\n",
    "from collections import defaultdict\n",
    "from sklearn.datasets import fetch_20newsgroups\n",
    "from sklearn.decomposition import TruncatedSVD\n",
    "from sklearn.feature_extraction.text import TfidfVectorizer\n",
    "from sklearn.feature_extraction.text import HashingVectorizer\n",
    "from sklearn.feature_extraction.text import TfidfTransformer\n",
    "from sklearn.pipeline import make_pipeline\n",
    "from sklearn.preprocessing import Normalizer\n",
    "from sklearn.feature_extraction.text import TfidfVectorizer\n",
    "from sklearn import metrics\n",
    "import re\n",
    "from sklearn.cluster import KMeans, MiniBatchKMeans\n",
    "import logging\n",
    "from optparse import OptionParser\n",
    "import sys\n",
    "from time import time\n",
    "from sklearn.decomposition import TruncatedSVD\n",
    "import numpy as np\n",
    "from sklearn.feature_extraction.text import CountVectorizer\n",
    "import pickle\n",
    "import pandas as pd\n",
    "from sklearn.metrics.pairwise import cosine_similarity"
   ]
  },
  {
   "cell_type": "code",
   "execution_count": 20,
   "metadata": {},
   "outputs": [],
   "source": [
    "def convert_ids(ids_in_csv):\n",
    "    return pd.to_numeric(ids_in_csv, errors='coerce').astype('int64')\n",
    "\n",
    "def convert_to_float(ids_in_csv):\n",
    "    return pd.to_numeric(ids_in_csv, errors='coerce').astype('float64')\n",
    "\n",
    "def to_json(csv_entry):\n",
    "    return json.loads(re.sub('\\'', '\"', csv_entry))\n",
    "\n",
    "\n",
    "def get_top_n(predictions, n=10):\n",
    "    '''COPIED FROM SUPRISE API\n",
    "    Return the top-N recommendation for each user from a set of predictions.\n",
    "\n",
    "    Args:\n",
    "        predictions(list of Prediction objects): The list of predictions, as\n",
    "            returned by the test method of an algorithm.\n",
    "        n(int): The number of recommendation to output for each user. Default\n",
    "            is 10.\n",
    "\n",
    "    Returns:\n",
    "    A dict where keys are user (raw) ids and values are lists of tuples:\n",
    "        [(raw item id, rating estimation), ...] of size n.\n",
    "    '''\n",
    "\n",
    "    # First map the predictions to each user.\n",
    "    top_n = defaultdict(list)\n",
    "    for uid, iid, true_r, est, _ in predictions:\n",
    "        top_n[uid].append((iid, est))\n",
    "\n",
    "    # Then sort the predictions for each user and retrieve the k highest ones.\n",
    "    for uid, user_ratings in top_n.items():\n",
    "        user_ratings.sort(key=lambda x: x[1], reverse=True)\n",
    "        top_n[uid] = user_ratings[:n]\n",
    "\n",
    "    return top_n\n",
    "\n",
    "def get_movie_name(movie_id):\n",
    "    return ratings_with_movie_names[ratings_with_movie_names.id == movie_id]['original_title'].iloc[0]\n",
    "\n",
    "\n",
    "def print_user_prediction(userId, predictions_dict, meta_df):\n",
    "    users_viewed_movies = ratings_with_movie_names[ratings_with_movie_names['userId'] == userId][\n",
    "        ['rating', 'original_title']]\n",
    "    print(f'User {userId} has viewed the following movies:\\n')\n",
    "\n",
    "    for row in users_viewed_movies.itertuples():\n",
    "        rating = row[1]\n",
    "        original_title = row[2]\n",
    "        print(f'\\t{original_title}, Rating: {rating}')\n",
    "\n",
    "    print(f'\\nThe following movies are recommended for User {userId}\\n')\n",
    "    recommended_movies = [get_movie_name(mov_id[0], meta_df) for mov_id in predictions_dict[userId]]\n",
    "\n",
    "    for movie in recommended_movies:\n",
    "        print(f'\\t{movie}')\n",
    "        \n",
    "def clean(text, tokenizer, stemmer):\n",
    "    \"\"\"\n",
    "    Cleans Text with Regexes\n",
    "    :param text:\n",
    "    :return: text:\n",
    "    \"\"\"\n",
    "    doc = ''.join(text).lower()\n",
    "    doc = re.sub(r'[<>\\{}/;|\\[\\]-]', ' ', doc)\n",
    "    doc = re.sub(r'[0-9]', ' ', doc)\n",
    "    doc = re.sub(r'\\'', ' ', doc)\n",
    "    doc = re.sub(r'=', ' ', doc)\n",
    "    doc = re.sub(r':', ' ', doc)\n",
    "    doc = re.sub(r'\"', ' ', doc)\n",
    "    doc = re.sub(r'\\s+', ' ', doc)\n",
    "    doc = re.sub(r'\\(', ' ', doc)\n",
    "    doc = re.sub(r'\\)', ' ', doc)\n",
    "    doc = re.sub(r'\\s{2,}', ' ', doc)\n",
    "    doc = re.sub(r'\\.', '', doc)\n",
    "    doc = re.sub(r',', '', doc)\n",
    "\n",
    "    return doc\n",
    "\n",
    "def get_movie_name(movie_id, movie_meta_df):\n",
    "    return movie_meta_df[movie_meta_df.id == movie_id]['original_title'].iloc[0]\n",
    "\n",
    "def get_movie_id(title, movie_meta_df):\n",
    "    return movie_meta_df[movie_meta_df.title == title]['id'].iloc[0]\n",
    "\n",
    "\n",
    "def get_all_movies_in_cluster(cluster_number, cluster_dict, meta_df):\n",
    "    movies = cluster_dict[cluster_number]\n",
    "    return [get_movie_name(mov, meta_df) for mov in movies]\n",
    "\n",
    "####\n",
    "\n",
    "# cluster_distribution = [len(movies) for (clust, movies) in movie_summaries_clustered.items()]\n",
    "\n",
    "def get_cluster_number(movie, cluster_zip):\n",
    "    for cluster, movie_id in cluster_zip:\n",
    "\n",
    "        if movie_id == movie:\n",
    "            return cluster\n",
    "\n",
    "    raise Exception('Movie not found in cluster')"
   ]
  },
  {
   "cell_type": "code",
   "execution_count": 3,
   "metadata": {},
   "outputs": [
    {
     "name": "stderr",
     "output_type": "stream",
     "text": [
      "/anaconda3/lib/python3.7/site-packages/IPython/core/interactiveshell.py:3020: DtypeWarning: Columns (10) have mixed types. Specify dtype option on import or set low_memory=False.\n",
      "  interactivity=interactivity, compiler=compiler, result=result)\n"
     ]
    }
   ],
   "source": [
    "movies_metadata_df = pd.read_csv('../data/the-movies-dataset/movies_metadata.csv'\n",
    "                                 , converters={ 'id': lambda x: convert_ids(x)\n",
    "                                               , 'imdb_id': lambda x: convert_ids(x)\n",
    "                                               ,'popularity': lambda x: convert_to_float(x)\n",
    "                                               ,'genres': lambda x: to_json(x)}\n",
    "                                 , usecols=['id', 'original_title'\n",
    "                                                , 'genres', 'homepage'\n",
    "                                                , 'overview', 'popularity', 'poster_path'\n",
    "                                                , 'release_date', 'revenue', 'runtime'\n",
    "                                                , 'spoken_languages', 'tagline', 'title'\n",
    "                                                , 'vote_average', 'vote_count']\n",
    "                                , dtype={'populariy': np.float64}\n",
    "                                , parse_dates=True)\n",
    "\n",
    "\n",
    "movies_df = pd.read_csv('../data/the-movies-dataset/movies_metadata.csv'\n",
    "                        , converters={'id': lambda x: convert_ids(x), 'imdb_id': lambda x: convert_ids(x)}\n",
    "                       ,usecols=['id', 'original_title', 'belongs_to_collection'\n",
    "                                 , 'budget', 'genres', 'homepage'\n",
    "                                 ,'imdb_id', 'overview', 'popularity', 'poster_path'\n",
    "                                 , 'production_companies','release_date', 'revenue', 'runtime',\n",
    "                                 'spoken_languages', 'status', 'tagline', 'title', 'video',\n",
    "                                 'vote_average', 'vote_count'])\n",
    "\n",
    "ratings_df = pd.read_csv('../data/the-movies-dataset/ratings_small.csv')\n",
    "\n",
    "\n",
    "\n",
    "content_filter_df = pd.read_pickle('../data/content_filter_df.pkl')\n",
    "content_filter_df = content_filter_df[['id',\n",
    " 'popularity',\n",
    " #'release_date',\n",
    " 'vote_average',\n",
    " 'release_year',\n",
    " 0,1,2,3,4,5, 6, 7, 8,9,10,11,12,13,14,15,16,17,18,19]]\n",
    "content_filter_df = content_filter_df.dropna()\n",
    "\n",
    "idx = pd.Index(content_filter_df['id'])\n",
    "idx\n",
    "content_filter_df.index = idx"
   ]
  },
  {
   "cell_type": "markdown",
   "metadata": {},
   "source": [
    "## SVD"
   ]
  },
  {
   "cell_type": "code",
   "execution_count": 4,
   "metadata": {},
   "outputs": [],
   "source": [
    "###May need Fuzzy matching, but for now:\n",
    "movies_df = movies_df[movies_df.spoken_languages == \"\"\"[{'iso_639_1': 'en', 'name': 'English'}]\"\"\"]"
   ]
  },
  {
   "cell_type": "code",
   "execution_count": 5,
   "metadata": {},
   "outputs": [],
   "source": [
    "ratings_with_movie_names = ratings_df.merge(movies_df[['id', 'original_title']], how='left', left_on='movieId', right_on='id')\n",
    "ratings_with_movie_names = ratings_with_movie_names[ratings_with_movie_names.original_title.isnull() == False]"
   ]
  },
  {
   "cell_type": "markdown",
   "metadata": {},
   "source": [
    "#### Create Model"
   ]
  },
  {
   "cell_type": "code",
   "execution_count": 6,
   "metadata": {},
   "outputs": [],
   "source": [
    "reader = Reader(rating_scale=(0, 5))\n",
    "data = Dataset.load_from_df(ratings_with_movie_names[['userId', 'movieId', 'rating']], reader)\n",
    "trainset = data.build_full_trainset()\n",
    "testset = trainset.build_anti_testset()"
   ]
  },
  {
   "cell_type": "markdown",
   "metadata": {},
   "source": [
    "##### You can try different Algorithms here"
   ]
  },
  {
   "cell_type": "code",
   "execution_count": 7,
   "metadata": {},
   "outputs": [
    {
     "name": "stdout",
     "output_type": "stream",
     "text": [
      "Processing epoch 0\n",
      "Processing epoch 1\n",
      "Processing epoch 2\n",
      "Processing epoch 3\n",
      "Processing epoch 4\n",
      "Processing epoch 5\n",
      "Processing epoch 6\n",
      "Processing epoch 7\n",
      "Processing epoch 8\n",
      "Processing epoch 9\n",
      "Processing epoch 10\n",
      "Processing epoch 11\n",
      "Processing epoch 12\n",
      "Processing epoch 13\n",
      "Processing epoch 14\n",
      "Processing epoch 15\n",
      "Processing epoch 16\n",
      "Processing epoch 17\n",
      "Processing epoch 18\n",
      "Processing epoch 19\n",
      "Evaluating RMSE, MAE of algorithm SVD on 5 split(s).\n",
      "\n",
      "                  Fold 1  Fold 2  Fold 3  Fold 4  Fold 5  Mean    Std     \n",
      "RMSE (testset)    0.8961  0.8953  0.8911  0.8952  0.9080  0.8971  0.0057  \n",
      "MAE (testset)     0.6947  0.6978  0.6861  0.6885  0.6960  0.6926  0.0045  \n",
      "Fit time          0.91    0.93    0.93    0.89    0.83    0.90    0.04    \n",
      "Test time         0.03    0.03    0.03    0.02    0.02    0.03    0.00    \n"
     ]
    },
    {
     "data": {
      "text/plain": [
       "{'test_rmse': array([0.89611314, 0.89527363, 0.89107297, 0.89519268, 0.90797342]),\n",
       " 'test_mae': array([0.69467971, 0.69782441, 0.68613559, 0.68847842, 0.69597631]),\n",
       " 'fit_time': (0.9071729183197021,\n",
       "  0.9258358478546143,\n",
       "  0.9292879104614258,\n",
       "  0.8936519622802734,\n",
       "  0.8306610584259033),\n",
       " 'test_time': (0.026726961135864258,\n",
       "  0.027556896209716797,\n",
       "  0.028174161911010742,\n",
       "  0.023527145385742188,\n",
       "  0.023064851760864258)}"
      ]
     },
     "execution_count": 7,
     "metadata": {},
     "output_type": "execute_result"
    }
   ],
   "source": [
    "algo = SVD(verbose=True)\n",
    "algo.fit(trainset)\n",
    "\n",
    "cross_validate(algo, data, measures=['RMSE', 'MAE'], cv=5, n_jobs=-1, verbose=True)"
   ]
  },
  {
   "cell_type": "code",
   "execution_count": 14,
   "metadata": {},
   "outputs": [],
   "source": [
    "predictions = algo.test(testset)\n",
    "### Tune this value to get fewer results faster, but less options to choose from\n",
    "top_n = get_top_n(predictions, 5)\n",
    "\n",
    "\n",
    "predicted_movies_by_name = defaultdict(list)\n",
    "\n",
    "### This builds the dictionary of predicted movies for all users\n",
    "for key, value in top_n.items():\n",
    "    predicted_movies_by_name[key] = [get_movie_name(mov_id[0], movies_metadata_df) for mov_id in value]"
   ]
  },
  {
   "cell_type": "markdown",
   "metadata": {},
   "source": [
    "**At this point, you should have user personas to get a pool of movies to choose from, not simply pre-made users:**\n"
   ]
  },
  {
   "cell_type": "code",
   "execution_count": 17,
   "metadata": {
    "run_control": {
     "marked": true
    }
   },
   "outputs": [
    {
     "name": "stdout",
     "output_type": "stream",
     "text": [
      "User 321 has viewed the following movies:\n",
      "\n",
      "\tThe Endless Summer, Rating: 5.0\n",
      "\tRumble Fish, Rating: 5.0\n",
      "\tA River Runs Through It, Rating: 4.0\n",
      "\tTerminator 3: Rise of the Machines, Rating: 5.0\n",
      "\tThe Poseidon Adventure, Rating: 5.0\n",
      "\tApollo 13, Rating: 4.0\n",
      "\tMen in Black II, Rating: 4.0\n",
      "\tA View to a Kill, Rating: 4.0\n",
      "\tVideodrome, Rating: 4.0\n",
      "\tThe Thomas Crown Affair, Rating: 5.0\n",
      "\tHollywoodland, Rating: 4.0\n",
      "\tBridge to Terabithia, Rating: 4.0\n",
      "\tRope, Rating: 3.0\n",
      "\tA Time to Kill, Rating: 4.0\n",
      "\tLittle Buddha, Rating: 3.0\n",
      "\tJungle Fever, Rating: 4.0\n",
      "\tReturn of the Jedi, Rating: 2.0\n",
      "\tDon Juan DeMarco, Rating: 2.0\n",
      "\tTwin Peaks: Fire Walk with Me, Rating: 2.0\n",
      "\tMy Name Is Bruce, Rating: 2.0\n",
      "\tThe Bachelor, Rating: 3.0\n",
      "\tCold Mountain, Rating: 4.0\n",
      "\tIn the Name of the King: A Dungeon Siege Tale, Rating: 2.0\n",
      "\tShort Circuit, Rating: 1.0\n",
      "\n",
      "The following movies are recommended for User 321\n",
      "\n",
      "\tLonely Hearts\n",
      "\tSleepless in Seattle\n",
      "\tBirdman of Alcatraz\n",
      "\tWithin the Woods\n",
      "\tThe Million Dollar Hotel\n"
     ]
    }
   ],
   "source": [
    "print_user_prediction(321, top_n, movies_metadata_df)"
   ]
  },
  {
   "cell_type": "code",
   "execution_count": 18,
   "metadata": {},
   "outputs": [
    {
     "name": "stdout",
     "output_type": "stream",
     "text": [
      "User 47 has viewed the following movies:\n",
      "\n",
      "\t48 Hrs., Rating: 4.0\n",
      "\tBack to the Future Part II, Rating: 4.0\n",
      "\t20,000 Leagues Under the Sea, Rating: 5.0\n",
      "\tMuriel's Wedding, Rating: 4.0\n",
      "\tHigh Noon, Rating: 4.0\n",
      "\tTerminator 3: Rise of the Machines, Rating: 4.0\n",
      "\tFaster, Pussycat! Kill! Kill!, Rating: 4.0\n",
      "\tSilent Hill, Rating: 4.0\n",
      "\tThe Conversation, Rating: 3.0\n",
      "\tTo Kill a Mockingbird, Rating: 3.0\n",
      "\n",
      "The following movies are recommended for User 47\n",
      "\n",
      "\tSleepless in Seattle\n",
      "\tThe Good Thief\n",
      "\tThe Thomas Crown Affair\n",
      "\tNell\n",
      "\tWhile You Were Sleeping\n"
     ]
    }
   ],
   "source": [
    "print_user_prediction(47, top_n, movies_metadata_df)"
   ]
  },
  {
   "cell_type": "code",
   "execution_count": 19,
   "metadata": {
    "collapsed": true
   },
   "outputs": [
    {
     "name": "stdout",
     "output_type": "stream",
     "text": [
      "User 321 has viewed the following movies:\n",
      "\n",
      "\tThe Endless Summer, Rating: 5.0\n",
      "\tRumble Fish, Rating: 5.0\n",
      "\tA River Runs Through It, Rating: 4.0\n",
      "\tTerminator 3: Rise of the Machines, Rating: 5.0\n",
      "\tThe Poseidon Adventure, Rating: 5.0\n",
      "\tApollo 13, Rating: 4.0\n",
      "\tMen in Black II, Rating: 4.0\n",
      "\tA View to a Kill, Rating: 4.0\n",
      "\tVideodrome, Rating: 4.0\n",
      "\tThe Thomas Crown Affair, Rating: 5.0\n",
      "\tHollywoodland, Rating: 4.0\n",
      "\tBridge to Terabithia, Rating: 4.0\n",
      "\tRope, Rating: 3.0\n",
      "\tA Time to Kill, Rating: 4.0\n",
      "\tLittle Buddha, Rating: 3.0\n",
      "\tJungle Fever, Rating: 4.0\n",
      "\tReturn of the Jedi, Rating: 2.0\n",
      "\tDon Juan DeMarco, Rating: 2.0\n",
      "\tTwin Peaks: Fire Walk with Me, Rating: 2.0\n",
      "\tMy Name Is Bruce, Rating: 2.0\n",
      "\tThe Bachelor, Rating: 3.0\n",
      "\tCold Mountain, Rating: 4.0\n",
      "\tIn the Name of the King: A Dungeon Siege Tale, Rating: 2.0\n",
      "\tShort Circuit, Rating: 1.0\n",
      "\n",
      "The following movies are recommended for User 321\n",
      "\n",
      "\tLonely Hearts\n",
      "\tSleepless in Seattle\n",
      "\tBirdman of Alcatraz\n",
      "\tWithin the Woods\n",
      "\tThe Million Dollar Hotel\n"
     ]
    }
   ],
   "source": [
    "print_user_prediction(321, top_n, movies_metadata_df)"
   ]
  },
  {
   "cell_type": "markdown",
   "metadata": {
    "heading_collapsed": true
   },
   "source": [
    "## NLP Topic Modeling Movie Summaries"
   ]
  },
  {
   "cell_type": "code",
   "execution_count": null,
   "metadata": {
    "hidden": true
   },
   "outputs": [],
   "source": []
  },
  {
   "cell_type": "code",
   "execution_count": null,
   "metadata": {
    "hidden": true
   },
   "outputs": [],
   "source": [
    "nlp_pp = nlp_preprocessor(TfidfVectorizer(stop_words='english'), cleaning_function=clean)\n",
    "corpus = ' '\n",
    "sentences = [str(sentence) for sentence in movies_metadata_df.overview.tolist()]"
   ]
  },
  {
   "cell_type": "code",
   "execution_count": null,
   "metadata": {
    "hidden": true
   },
   "outputs": [],
   "source": [
    "# Vectorize i.e: format the corpus into a matrix in preparation for Singular Value Decomposition\n",
    "cv_tfidf = TfidfVectorizer(min_df=5, stop_words='english')  # ngram_range=(1,2)\n",
    "X_tfidf = cv_tfidf.fit_transform(sentences).toarray()\n",
    "tfidf_model_df = pd.DataFrame(X_tfidf, columns=cv_tfidf.get_feature_names())\n",
    "# tfidf_model_df = pd.DataFrame(X_tfidf, columns=cv_tfidf.get_feature_names())"
   ]
  },
  {
   "cell_type": "code",
   "execution_count": null,
   "metadata": {
    "hidden": true
   },
   "outputs": [],
   "source": [
    "# Components is the Amount of dimensionaly-reduction from the corpus of words. This, with cluster-size\\\n",
    "# affects the model performance are the hyperparameters.\n",
    "svd = TruncatedSVD(n_components=20)\n",
    "X = svd.fit_transform(tfidf_model_df)\n",
    "\n",
    "# print(svd.explained_variance_ratio_.sum())"
   ]
  },
  {
   "cell_type": "code",
   "execution_count": null,
   "metadata": {
    "hidden": true
   },
   "outputs": [],
   "source": [
    "km = KMeans(n_clusters=60, init='k-means++', max_iter=100, n_init=1, verbose=True)\n",
    "km.fit(X)"
   ]
  },
  {
   "cell_type": "code",
   "execution_count": null,
   "metadata": {
    "hidden": true
   },
   "outputs": [],
   "source": [
    "#### Find the cluster of a movie by movie id\n",
    "clustered = zip(km.labels_, movies_metadata_df['id'])  # zip(tfidf_model_df.index.values, km.labels_)\n",
    "print(get_cluster_number(862, clustered))\n",
    "\n",
    "\n",
    "####\n",
    "\n",
    "## Explore the Cluster Results\n",
    "\n",
    "clustered = zip(km.labels_, movies_metadata_df['id'])  # zip(tfidf_model_df.index.values, km.labels_)\n",
    "\n",
    "#### Needs Functionalization/Abstraction\n",
    "from collections import defaultdict\n",
    "\n",
    "movie_summaries_clustered = defaultdict(list)\n",
    "\n",
    "for cluster, movie_id in clustered:\n",
    "    movie_summaries_clustered[cluster].append(movie_id)\n",
    "\n",
    "\n",
    "#### List all the movies in a cluster\n",
    "print(get_all_movies_in_cluster(20, movie_summaries_clustered))\n",
    "####"
   ]
  },
  {
   "cell_type": "markdown",
   "metadata": {},
   "source": [
    "## Cosine Similarity for Content Filter"
   ]
  },
  {
   "cell_type": "code",
   "execution_count": 37,
   "metadata": {},
   "outputs": [],
   "source": [
    "# Given a matrix, return 10 movie tuples with the most similarity (id, name)\n",
    "from collections import namedtuple\n",
    "\n",
    "CosineSimilarity = namedtuple('CosineSimilarity', ['id1', 'id2', 'similarity', 'name1', 'name2'])"
   ]
  },
  {
   "cell_type": "code",
   "execution_count": 111,
   "metadata": {},
   "outputs": [],
   "source": [
    "def top_n_closest_content_filtered(n, movie_id, content_filter_df):\n",
    "    similarity_arr = cosine_similarity(np.array(content_filter_df.loc[movie_id]).reshape(1, -1), content_filter_df)[0].tolist()\n",
    "    tups = [(similarity_arr.index(value), value) for value in similarity_arr]\n",
    "    tups = sorted(tups, key=lambda x: x[1], reverse=True)\n",
    "    return tups[0:n]\n",
    "    "
   ]
  },
  {
   "cell_type": "code",
   "execution_count": 134,
   "metadata": {
    "scrolled": true
   },
   "outputs": [
    {
     "data": {
      "text/plain": [
       "[(534, 0.9999999999999998),\n",
       " (1904, 0.9999985798898556),\n",
       " (1208, 0.9999981736066476),\n",
       " (4137, 0.9999979433200008),\n",
       " (2681, 0.9999972682954646),\n",
       " (2792, 0.9999971992504212),\n",
       " (362, 0.999996301872156),\n",
       " (8232, 0.999996033283064),\n",
       " (984, 0.9999959498257401),\n",
       " (10833, 0.9999958404012185),\n",
       " (4870, 0.9999958239470732),\n",
       " (6816, 0.999995472066687),\n",
       " (2863, 0.9999946890182448),\n",
       " (2070, 0.9999937776328239),\n",
       " (4086, 0.9999934671526973),\n",
       " (2989, 0.999993301817415),\n",
       " (2077, 0.9999926890765405),\n",
       " (4899, 0.9999924966707522),\n",
       " (6451, 0.999992266144631),\n",
       " (535, 0.9999920723155129),\n",
       " (3567, 0.9999915709936217),\n",
       " (7692, 0.9999900927060298),\n",
       " (8659, 0.9999898587099378),\n",
       " (4504, 0.9999892343229313),\n",
       " (3343, 0.9999883011996182),\n",
       " (3237, 0.9999873285484169),\n",
       " (1201, 0.9999859683288698),\n",
       " (1248, 0.999984520971692),\n",
       " (1912, 0.9999844888845639),\n",
       " (7761, 0.9999840724417758),\n",
       " (0, 0.9999840666091478),\n",
       " (1905, 0.9999838348133764),\n",
       " (14377, 0.9999823684434473),\n",
       " (1793, 0.9999814882134689),\n",
       " (2803, 0.9999798966005539),\n",
       " (7462, 0.9999777507496087),\n",
       " (6953, 0.9999774746790676),\n",
       " (1198, 0.9999739818529697),\n",
       " (6614, 0.999973728971039),\n",
       " (4008, 0.9999699842932576),\n",
       " (2616, 0.9999689258973893),\n",
       " (9200, 0.9999671235693227),\n",
       " (9537, 0.9999611879670496),\n",
       " (7282, 0.9999593625145631),\n",
       " (1200, 0.9999590231973986),\n",
       " (3360, 0.9999553271966927),\n",
       " (81, 0.9999530349669514),\n",
       " (2148, 0.9999506019921879),\n",
       " (12978, 0.9999499219844812),\n",
       " (6617, 0.9999494821282296),\n",
       " (1416, 0.9999448454840476),\n",
       " (2408, 0.9999417377660825),\n",
       " (1833, 0.999929060075824),\n",
       " (3434, 0.9999281133691008),\n",
       " (10698, 0.999920642162931),\n",
       " (350, 0.9999195792114037),\n",
       " (865, 0.999906656810172),\n",
       " (954, 0.9999043001512509),\n",
       " (1128, 0.9998914628524673),\n",
       " (2322, 0.9998823835536619),\n",
       " (3259, 0.9998728433716628),\n",
       " (4170, 0.9998722141914088),\n",
       " (882, 0.9998710606011015),\n",
       " (7625, 0.999870308117839),\n",
       " (5266, 0.9998639591532598),\n",
       " (1267, 0.9998596387743719),\n",
       " (8491, 0.9998578642397756),\n",
       " (2668, 0.9998558151926387),\n",
       " (6627, 0.9998529820472563),\n",
       " (1024, 0.9998521660714296),\n",
       " (7794, 0.999849444313918),\n",
       " (8462, 0.9998463023913039),\n",
       " (16712, 0.9998361378868104),\n",
       " (28, 0.9998354621713071),\n",
       " (2044, 0.9998326211828799),\n",
       " (2606, 0.9998286081141705),\n",
       " (2560, 0.9998261938267183),\n",
       " (5337, 0.9998259170675522),\n",
       " (1444, 0.9998258173653447),\n",
       " (8325, 0.9998169762004993),\n",
       " (33804, 0.999815153171455),\n",
       " (25819, 0.9998139702261618),\n",
       " (9941, 0.9998061227397205),\n",
       " (581, 0.9998058922152898),\n",
       " (32106, 0.9998048447145939),\n",
       " (8324, 0.9998041760520406),\n",
       " (8590, 0.9997840047164193),\n",
       " (1823, 0.9997743963271845),\n",
       " (7163, 0.9997706948211293),\n",
       " (2640, 0.9997596514321664),\n",
       " (6822, 0.9997548087959763),\n",
       " (46, 0.9997466305526164),\n",
       " (656, 0.9997408411541919),\n",
       " (6899, 0.9997382981848653),\n",
       " (11814, 0.9997350746620108),\n",
       " (7706, 0.9997347516528124),\n",
       " (4168, 0.999734531531942),\n",
       " (3320, 0.9997273230522586),\n",
       " (8327, 0.9997258960248849),\n",
       " (6757, 0.9997186313393361)]"
      ]
     },
     "execution_count": 134,
     "metadata": {},
     "output_type": "execute_result"
    }
   ],
   "source": [
    "sleepless_filtered_recs = top_n_closest_content_filtered(100, 858, content_filter_df)\n",
    "sleepless_filtered_recs"
   ]
  },
  {
   "cell_type": "code",
   "execution_count": 135,
   "metadata": {
    "collapsed": true
   },
   "outputs": [
    {
     "data": {
      "text/plain": [
       "[(6614, 0.9999999999999998),\n",
       " (1198, 0.9999995097028028),\n",
       " (4008, 0.9999991389263577),\n",
       " (9200, 0.9999989572521445),\n",
       " (6953, 0.9999986910447686),\n",
       " (1905, 0.9999980671834254),\n",
       " (9537, 0.9999976013364797),\n",
       " (1248, 0.9999975103862115),\n",
       " (1201, 0.9999971499357722),\n",
       " (1793, 0.9999969306607781),\n",
       " (3237, 0.9999965440703428),\n",
       " (3343, 0.9999957554021307),\n",
       " (1200, 0.9999957552508402),\n",
       " (6617, 0.9999950239778762),\n",
       " (7761, 0.999993762261875),\n",
       " (2077, 0.9999936099151473),\n",
       " (8659, 0.9999932524968942),\n",
       " (12978, 0.9999927727129296),\n",
       " (4086, 0.9999924818697025),\n",
       " (6451, 0.999991177576172),\n",
       " (4870, 0.9999893304264468),\n",
       " (14377, 0.9999886797873373),\n",
       " (4137, 0.9999859749819323),\n",
       " (4899, 0.999984350412921),\n",
       " (2681, 0.9999838953145571),\n",
       " (10698, 0.9999826508811969),\n",
       " (362, 0.999981562905407),\n",
       " (534, 0.999973728971039),\n",
       " (1208, 0.9999688226084048),\n",
       " (2322, 0.9999661617492284),\n",
       " (2863, 0.9999651504414468),\n",
       " (1912, 0.9999626845604357),\n",
       " (1904, 0.9999624868507314),\n",
       " (7625, 0.9999601337332559),\n",
       " (882, 0.9999581968997149),\n",
       " (4170, 0.9999578558729256),\n",
       " (3259, 0.9999578374567),\n",
       " (8232, 0.9999576115655158),\n",
       " (10833, 0.9999573347420183),\n",
       " (2792, 0.9999569828903382),\n",
       " (2989, 0.9999568705648334),\n",
       " (984, 0.9999527700193186),\n",
       " (5266, 0.9999524150385066),\n",
       " (6816, 0.9999512868381055),\n",
       " (8491, 0.9999511497621134),\n",
       " (1267, 0.9999507616139982),\n",
       " (2070, 0.9999496556473495),\n",
       " (2668, 0.999948892811664),\n",
       " (1024, 0.9999488914878002),\n",
       " (8462, 0.999946387927014),\n",
       " (0, 0.9999432031397897),\n",
       " (7692, 0.9999425847054555),\n",
       " (535, 0.9999382284945163),\n",
       " (4504, 0.9999370766454252),\n",
       " (3567, 0.9999367437554255),\n",
       " (2044, 0.999935993789567),\n",
       " (2606, 0.9999345828789336),\n",
       " (5337, 0.9999332008150401),\n",
       " (1444, 0.9999316330689135),\n",
       " (2560, 0.9999303380985152),\n",
       " (33804, 0.9999267539868335),\n",
       " (25819, 0.9999262948543077),\n",
       " (9941, 0.9999216290247017),\n",
       " (32106, 0.9999206059092454),\n",
       " (581, 0.9999154086376448),\n",
       " (2803, 0.9999139057003273),\n",
       " (7462, 0.999904773408356),\n",
       " (7163, 0.9998977279276253),\n",
       " (6822, 0.9998868486066448),\n",
       " (2616, 0.9998867436096797),\n",
       " (46, 0.9998745317797207),\n",
       " (7282, 0.9998736195421892),\n",
       " (11814, 0.9998704622606897),\n",
       " (7706, 0.9998685598274939),\n",
       " (8327, 0.9998681327881556),\n",
       " (3320, 0.9998680888204582),\n",
       " (81, 0.9998675151937831),\n",
       " (4168, 0.9998667197889578),\n",
       " (3360, 0.9998615704516528),\n",
       " (2148, 0.9998532676708451),\n",
       " (10987, 0.9998481553063482),\n",
       " (1416, 0.9998460126479485),\n",
       " (1295, 0.9998410995665679),\n",
       " (2408, 0.9998399422930087),\n",
       " (3009, 0.9998387060182168),\n",
       " (8597, 0.999838477318101),\n",
       " (6623, 0.9998238043443112),\n",
       " (1833, 0.9998206389623147),\n",
       " (3434, 0.9998200838136446),\n",
       " (37033, 0.9998096312420622),\n",
       " (1960, 0.9998093506811188),\n",
       " (1086, 0.9998038819115924),\n",
       " (350, 0.9998024470904886),\n",
       " (7045, 0.9997920144102036),\n",
       " (2420, 0.9997902624506485),\n",
       " (954, 0.9997894880071191),\n",
       " (1051, 0.9997887451380109),\n",
       " (1721, 0.9997848978745754),\n",
       " (865, 0.999783468355011),\n",
       " (886, 0.999766107732843)]"
      ]
     },
     "execution_count": 135,
     "metadata": {},
     "output_type": "execute_result"
    }
   ],
   "source": [
    "videodrome_recs = top_n_closest_content_filtered(100, 837, content_filter_df)\n",
    "videodrome_recs"
   ]
  },
  {
   "cell_type": "code",
   "execution_count": 136,
   "metadata": {},
   "outputs": [
    {
     "name": "stdout",
     "output_type": "stream",
     "text": [
      "lookup failed 6614\n",
      "lookup failed 1198\n",
      "lookup failed 4008\n",
      "lookup failed 9200\n",
      "lookup failed 6953\n",
      "lookup failed 1905\n",
      "lookup failed 9537\n",
      "lookup failed 1201\n",
      "lookup failed 3237\n",
      "lookup failed 3343\n",
      "lookup failed 1200\n",
      "lookup failed 6617\n",
      "lookup failed 7761\n",
      "lookup failed 8659\n",
      "lookup failed 12978\n",
      "lookup failed 4086\n",
      "lookup failed 6451\n",
      "lookup failed 4870\n",
      "lookup failed 14377\n",
      "lookup failed 4137\n",
      "lookup failed 4899\n",
      "lookup failed 2681\n",
      "lookup failed 10698\n",
      "lookup failed 362\n",
      "lookup failed 1208\n",
      "lookup failed 2863\n",
      "lookup failed 7625\n",
      "lookup failed 882\n",
      "lookup failed 3259\n",
      "lookup failed 8232\n",
      "lookup failed 2792\n",
      "lookup failed 5266\n",
      "lookup failed 6816\n",
      "lookup failed 2070\n",
      "lookup failed 0\n",
      "lookup failed 7692\n",
      "lookup failed 4504\n",
      "lookup failed 3567\n",
      "lookup failed 2606\n",
      "lookup failed 5337\n",
      "lookup failed 2560\n",
      "lookup failed 33804\n",
      "lookup failed 25819\n",
      "lookup failed 32106\n",
      "lookup failed 2803\n",
      "lookup failed 7462\n",
      "lookup failed 7163\n",
      "lookup failed 6822\n",
      "lookup failed 46\n",
      "lookup failed 7282\n",
      "lookup failed 7706\n",
      "lookup failed 3320\n",
      "lookup failed 4168\n",
      "lookup failed 3360\n",
      "lookup failed 1295\n",
      "lookup failed 2408\n",
      "lookup failed 8597\n",
      "lookup failed 3434\n",
      "lookup failed 37033\n",
      "lookup failed 1960\n",
      "lookup failed 1086\n",
      "lookup failed 7045\n",
      "lookup failed 2420\n"
     ]
    },
    {
     "data": {
      "text/plain": [
       "[MovieRecommendation(id_origin=837, title='Videodrome', id_2=1248, title_2='Hannibal Rising', similarity=0.9999975103862115),\n",
       " MovieRecommendation(id_origin=837, title='Videodrome', id_2=1793, title_2='Max Dugan Returns', similarity=0.9999969306607781),\n",
       " MovieRecommendation(id_origin=837, title='Videodrome', id_2=2077, title_2='The Rink', similarity=0.9999936099151473),\n",
       " MovieRecommendation(id_origin=837, title='Videodrome', id_2=534, title_2='Terminator Salvation', similarity=0.999973728971039),\n",
       " MovieRecommendation(id_origin=837, title='Videodrome', id_2=2322, title_2='Sneakers', similarity=0.9999661617492284),\n",
       " MovieRecommendation(id_origin=837, title='Videodrome', id_2=1912, title_2='Free Rainer - Dein Fernseher lügt', similarity=0.9999626845604357),\n",
       " MovieRecommendation(id_origin=837, title='Videodrome', id_2=1904, title_2='Memoirs of a Geisha', similarity=0.9999624868507314),\n",
       " MovieRecommendation(id_origin=837, title='Videodrome', id_2=4170, title_2='Trade', similarity=0.9999578558729256),\n",
       " MovieRecommendation(id_origin=837, title='Videodrome', id_2=10833, title_2='Heartbreakers', similarity=0.9999573347420183),\n",
       " MovieRecommendation(id_origin=837, title='Videodrome', id_2=2989, title_2='Roar', similarity=0.9999568705648334),\n",
       " MovieRecommendation(id_origin=837, title='Videodrome', id_2=984, title_2='Dirty Harry', similarity=0.9999527700193186),\n",
       " MovieRecommendation(id_origin=837, title='Videodrome', id_2=8491, title_2=\"Weekend at Bernie's\", similarity=0.9999511497621134),\n",
       " MovieRecommendation(id_origin=837, title='Videodrome', id_2=1267, title_2='Meet the Robinsons', similarity=0.9999507616139982),\n",
       " MovieRecommendation(id_origin=837, title='Videodrome', id_2=2668, title_2='Sleepy Hollow', similarity=0.999948892811664),\n",
       " MovieRecommendation(id_origin=837, title='Videodrome', id_2=1024, title_2='Heavenly Creatures', similarity=0.9999488914878002),\n",
       " MovieRecommendation(id_origin=837, title='Videodrome', id_2=8462, title_2='Die freudlose Gasse', similarity=0.999946387927014),\n",
       " MovieRecommendation(id_origin=837, title='Videodrome', id_2=535, title_2='Flashdance', similarity=0.9999382284945163),\n",
       " MovieRecommendation(id_origin=837, title='Videodrome', id_2=2044, title_2='The Lake House', similarity=0.999935993789567),\n",
       " MovieRecommendation(id_origin=837, title='Videodrome', id_2=1444, title_2='Junebug', similarity=0.9999316330689135),\n",
       " MovieRecommendation(id_origin=837, title='Videodrome', id_2=9941, title_2='Down and Out in Beverly Hills', similarity=0.9999216290247017),\n",
       " MovieRecommendation(id_origin=837, title='Videodrome', id_2=581, title_2='Dances with Wolves', similarity=0.9999154086376448),\n",
       " MovieRecommendation(id_origin=837, title='Videodrome', id_2=2616, title_2='Uncle Buck', similarity=0.9998867436096797),\n",
       " MovieRecommendation(id_origin=837, title='Videodrome', id_2=11814, title_2='Weird Science', similarity=0.9998704622606897),\n",
       " MovieRecommendation(id_origin=837, title='Videodrome', id_2=8327, title_2='The Holy Mountain', similarity=0.9998681327881556),\n",
       " MovieRecommendation(id_origin=837, title='Videodrome', id_2=81, title_2='風の谷のナウシカ', similarity=0.9998675151937831),\n",
       " MovieRecommendation(id_origin=837, title='Videodrome', id_2=2148, title_2='The Cotton Club', similarity=0.9998532676708451),\n",
       " MovieRecommendation(id_origin=837, title='Videodrome', id_2=10987, title_2='Halloween: The Curse of Michael Myers', similarity=0.9998481553063482),\n",
       " MovieRecommendation(id_origin=837, title='Videodrome', id_2=1416, title_2='해안선', similarity=0.9998460126479485),\n",
       " MovieRecommendation(id_origin=837, title='Videodrome', id_2=3009, title_2='Le procès', similarity=0.9998387060182168),\n",
       " MovieRecommendation(id_origin=837, title='Videodrome', id_2=6623, title_2='The Peacemaker', similarity=0.9998238043443112),\n",
       " MovieRecommendation(id_origin=837, title='Videodrome', id_2=1833, title_2='Rent', similarity=0.9998206389623147),\n",
       " MovieRecommendation(id_origin=837, title='Videodrome', id_2=350, title_2='The Devil Wears Prada', similarity=0.9998024470904886),\n",
       " MovieRecommendation(id_origin=837, title='Videodrome', id_2=954, title_2='Mission: Impossible', similarity=0.9997894880071191),\n",
       " MovieRecommendation(id_origin=837, title='Videodrome', id_2=1051, title_2='The French Connection', similarity=0.9997887451380109),\n",
       " MovieRecommendation(id_origin=837, title='Videodrome', id_2=1721, title_2='...Più forte ragazzi!', similarity=0.9997848978745754),\n",
       " MovieRecommendation(id_origin=837, title='Videodrome', id_2=865, title_2='The Running Man', similarity=0.999783468355011),\n",
       " MovieRecommendation(id_origin=837, title='Videodrome', id_2=886, title_2='The Cincinnati Kid', similarity=0.999766107732843)]"
      ]
     },
     "execution_count": 136,
     "metadata": {},
     "output_type": "execute_result"
    }
   ],
   "source": [
    "top_filtered_to_movie_rec_tuples(videodrome_recs, 837, movies_metadata_df)"
   ]
  },
  {
   "cell_type": "code",
   "execution_count": 127,
   "metadata": {},
   "outputs": [],
   "source": [
    "from collections import namedtuple\n",
    "\n",
    "CosineSimilarity = namedtuple('CosineSimilarity', ['id1', 'id2', 'similarity', 'name1', 'name2'])\n",
    "\n",
    "MovieRecommendation = namedtuple('MovieRecommendation', ['id_origin', 'title'\n",
    "                                 ,'id_2', 'title_2'\n",
    "                                ,'similarity'])\n",
    "\n",
    "def top_filtered_to_movie_rec_tuples(content_filtered_rec_list, origin_movie_id, movie_meta_data_df):\n",
    "    \n",
    "    recs = []\n",
    "    origin_film_name = get_movie_name(origin_movie_id, movie_meta_data_df)\n",
    "    \n",
    "    for rec in content_filtered_rec_list:\n",
    "        try:\n",
    "\n",
    "            film_2_id = rec[0]\n",
    "            film_2_name = get_movie_name(rec[0], movie_meta_data_df)\n",
    "            sim_score = rec[1]\n",
    "\n",
    "            recs.append(MovieRecommendation(origin_movie_id, origin_film_name\n",
    "                                                   , film_2_id, film_2_name \n",
    "                                                    , sim_score))\n",
    "        except:\n",
    "            print(f'lookup failed {rec[0]}')\n",
    "            pass\n",
    "    \n",
    "    return recs\n",
    "    \n"
   ]
  },
  {
   "cell_type": "code",
   "execution_count": 137,
   "metadata": {},
   "outputs": [
    {
     "name": "stdout",
     "output_type": "stream",
     "text": [
      "lookup failed 1208\n",
      "lookup failed 4137\n",
      "lookup failed 2681\n",
      "lookup failed 2792\n",
      "lookup failed 362\n",
      "lookup failed 8232\n",
      "lookup failed 4870\n",
      "lookup failed 6816\n",
      "lookup failed 2863\n",
      "lookup failed 2070\n",
      "lookup failed 4086\n",
      "lookup failed 4899\n",
      "lookup failed 6451\n",
      "lookup failed 3567\n",
      "lookup failed 7692\n",
      "lookup failed 8659\n",
      "lookup failed 4504\n",
      "lookup failed 3343\n",
      "lookup failed 3237\n",
      "lookup failed 1201\n",
      "lookup failed 7761\n",
      "lookup failed 0\n",
      "lookup failed 1905\n",
      "lookup failed 14377\n",
      "lookup failed 2803\n",
      "lookup failed 7462\n",
      "lookup failed 6953\n",
      "lookup failed 1198\n",
      "lookup failed 6614\n",
      "lookup failed 4008\n",
      "lookup failed 9200\n",
      "lookup failed 9537\n",
      "lookup failed 7282\n",
      "lookup failed 1200\n",
      "lookup failed 3360\n",
      "lookup failed 12978\n",
      "lookup failed 6617\n",
      "lookup failed 2408\n",
      "lookup failed 3434\n",
      "lookup failed 10698\n",
      "lookup failed 1128\n",
      "lookup failed 3259\n",
      "lookup failed 882\n",
      "lookup failed 7625\n",
      "lookup failed 5266\n",
      "lookup failed 6627\n",
      "lookup failed 7794\n",
      "lookup failed 16712\n",
      "lookup failed 2606\n",
      "lookup failed 2560\n",
      "lookup failed 5337\n",
      "lookup failed 33804\n",
      "lookup failed 25819\n",
      "lookup failed 32106\n",
      "lookup failed 8590\n",
      "lookup failed 1823\n",
      "lookup failed 7163\n",
      "lookup failed 6822\n",
      "lookup failed 46\n",
      "lookup failed 656\n",
      "lookup failed 6899\n",
      "lookup failed 7706\n",
      "lookup failed 4168\n",
      "lookup failed 3320\n",
      "lookup failed 6757\n"
     ]
    },
    {
     "data": {
      "text/plain": [
       "[MovieRecommendation(id_origin=858, title='Sleepless in Seattle', id_2=534, title_2='Terminator Salvation', similarity=0.9999999999999998),\n",
       " MovieRecommendation(id_origin=858, title='Sleepless in Seattle', id_2=1904, title_2='Memoirs of a Geisha', similarity=0.9999985798898556),\n",
       " MovieRecommendation(id_origin=858, title='Sleepless in Seattle', id_2=984, title_2='Dirty Harry', similarity=0.9999959498257401),\n",
       " MovieRecommendation(id_origin=858, title='Sleepless in Seattle', id_2=10833, title_2='Heartbreakers', similarity=0.9999958404012185),\n",
       " MovieRecommendation(id_origin=858, title='Sleepless in Seattle', id_2=2989, title_2='Roar', similarity=0.999993301817415),\n",
       " MovieRecommendation(id_origin=858, title='Sleepless in Seattle', id_2=2077, title_2='The Rink', similarity=0.9999926890765405),\n",
       " MovieRecommendation(id_origin=858, title='Sleepless in Seattle', id_2=535, title_2='Flashdance', similarity=0.9999920723155129),\n",
       " MovieRecommendation(id_origin=858, title='Sleepless in Seattle', id_2=1248, title_2='Hannibal Rising', similarity=0.999984520971692),\n",
       " MovieRecommendation(id_origin=858, title='Sleepless in Seattle', id_2=1912, title_2='Free Rainer - Dein Fernseher lügt', similarity=0.9999844888845639),\n",
       " MovieRecommendation(id_origin=858, title='Sleepless in Seattle', id_2=1793, title_2='Max Dugan Returns', similarity=0.9999814882134689),\n",
       " MovieRecommendation(id_origin=858, title='Sleepless in Seattle', id_2=2616, title_2='Uncle Buck', similarity=0.9999689258973893),\n",
       " MovieRecommendation(id_origin=858, title='Sleepless in Seattle', id_2=81, title_2='風の谷のナウシカ', similarity=0.9999530349669514),\n",
       " MovieRecommendation(id_origin=858, title='Sleepless in Seattle', id_2=2148, title_2='The Cotton Club', similarity=0.9999506019921879),\n",
       " MovieRecommendation(id_origin=858, title='Sleepless in Seattle', id_2=1416, title_2='해안선', similarity=0.9999448454840476),\n",
       " MovieRecommendation(id_origin=858, title='Sleepless in Seattle', id_2=1833, title_2='Rent', similarity=0.999929060075824),\n",
       " MovieRecommendation(id_origin=858, title='Sleepless in Seattle', id_2=350, title_2='The Devil Wears Prada', similarity=0.9999195792114037),\n",
       " MovieRecommendation(id_origin=858, title='Sleepless in Seattle', id_2=865, title_2='The Running Man', similarity=0.999906656810172),\n",
       " MovieRecommendation(id_origin=858, title='Sleepless in Seattle', id_2=954, title_2='Mission: Impossible', similarity=0.9999043001512509),\n",
       " MovieRecommendation(id_origin=858, title='Sleepless in Seattle', id_2=2322, title_2='Sneakers', similarity=0.9998823835536619),\n",
       " MovieRecommendation(id_origin=858, title='Sleepless in Seattle', id_2=4170, title_2='Trade', similarity=0.9998722141914088),\n",
       " MovieRecommendation(id_origin=858, title='Sleepless in Seattle', id_2=1267, title_2='Meet the Robinsons', similarity=0.9998596387743719),\n",
       " MovieRecommendation(id_origin=858, title='Sleepless in Seattle', id_2=8491, title_2=\"Weekend at Bernie's\", similarity=0.9998578642397756),\n",
       " MovieRecommendation(id_origin=858, title='Sleepless in Seattle', id_2=2668, title_2='Sleepy Hollow', similarity=0.9998558151926387),\n",
       " MovieRecommendation(id_origin=858, title='Sleepless in Seattle', id_2=1024, title_2='Heavenly Creatures', similarity=0.9998521660714296),\n",
       " MovieRecommendation(id_origin=858, title='Sleepless in Seattle', id_2=8462, title_2='Die freudlose Gasse', similarity=0.9998463023913039),\n",
       " MovieRecommendation(id_origin=858, title='Sleepless in Seattle', id_2=28, title_2='Apocalypse Now', similarity=0.9998354621713071),\n",
       " MovieRecommendation(id_origin=858, title='Sleepless in Seattle', id_2=2044, title_2='The Lake House', similarity=0.9998326211828799),\n",
       " MovieRecommendation(id_origin=858, title='Sleepless in Seattle', id_2=1444, title_2='Junebug', similarity=0.9998258173653447),\n",
       " MovieRecommendation(id_origin=858, title='Sleepless in Seattle', id_2=8325, title_2='Tiptoes', similarity=0.9998169762004993),\n",
       " MovieRecommendation(id_origin=858, title='Sleepless in Seattle', id_2=9941, title_2='Down and Out in Beverly Hills', similarity=0.9998061227397205),\n",
       " MovieRecommendation(id_origin=858, title='Sleepless in Seattle', id_2=581, title_2='Dances with Wolves', similarity=0.9998058922152898),\n",
       " MovieRecommendation(id_origin=858, title='Sleepless in Seattle', id_2=8324, title_2='Fast Food Nation', similarity=0.9998041760520406),\n",
       " MovieRecommendation(id_origin=858, title='Sleepless in Seattle', id_2=2640, title_2='Heathers', similarity=0.9997596514321664),\n",
       " MovieRecommendation(id_origin=858, title='Sleepless in Seattle', id_2=11814, title_2='Weird Science', similarity=0.9997350746620108),\n",
       " MovieRecommendation(id_origin=858, title='Sleepless in Seattle', id_2=8327, title_2='The Holy Mountain', similarity=0.9997258960248849)]"
      ]
     },
     "execution_count": 137,
     "metadata": {},
     "output_type": "execute_result"
    }
   ],
   "source": [
    "top_filtered_to_movie_rec_tuples(sleepless_filtered_recs, 858, movies_metadata_df)"
   ]
  },
  {
   "cell_type": "markdown",
   "metadata": {},
   "source": [
    "## Model Hybridization"
   ]
  },
  {
   "cell_type": "code",
   "execution_count": 3,
   "metadata": {},
   "outputs": [],
   "source": [
    "#Model Fitting\n",
    "#Surprise SVD Collaborative Filtering\n",
    "#Topic Modeling Based on Movie Descriptions\n",
    "#ContentFiltering ... Not finished...? Or was it?"
   ]
  },
  {
   "cell_type": "code",
   "execution_count": 4,
   "metadata": {},
   "outputs": [],
   "source": [
    "#User Creation"
   ]
  },
  {
   "cell_type": "code",
   "execution_count": 5,
   "metadata": {},
   "outputs": [],
   "source": [
    "#Model Merging\n",
    "#Genre Constrictions\n",
    "#Neo4j Graph Degree Restrictions"
   ]
  },
  {
   "cell_type": "code",
   "execution_count": null,
   "metadata": {},
   "outputs": [],
   "source": [
    "class hyprid_recommender():\n",
    "    \n",
    "    def __init__(surprise_model, topic_model, content_matrix, neo4j_session):\n",
    "        \n",
    "        self.surprise_model = surprise_model\n",
    "        self.toppic_model = topic_model\n",
    "        self.content_matrix = content_matrix\n",
    "        self.neo4j_session = neo4j_session\n",
    "        \n",
    "    def recommend(user_profile, last_watched=None):\n",
    "        \"\"\"\n",
    "        Gets a list of movies recommended from the Surprise collaborative filter. \n",
    "        This can be any number of films.\n",
    "        \n",
    "        I can use the graph at that point to filter the surprise list off of movies that are greater than one-degree.\n",
    "        \n",
    "        I can use the content Similarity matrix to rank the movies that are closes to the supplied movies.\n",
    "        \n",
    "        user_profile: dictionary containing movies seen and rated. \"\"\"\n",
    "        \n",
    "        movie = 'Top Gun'\n",
    "        return movie"
   ]
  }
 ],
 "metadata": {
  "kernelspec": {
   "display_name": "Python3 OSX",
   "language": "python",
   "name": "base"
  },
  "language_info": {
   "codemirror_mode": {
    "name": "ipython",
    "version": 3
   },
   "file_extension": ".py",
   "mimetype": "text/x-python",
   "name": "python",
   "nbconvert_exporter": "python",
   "pygments_lexer": "ipython3",
   "version": "3.7.1"
  },
  "toc": {
   "base_numbering": 1,
   "nav_menu": {},
   "number_sections": true,
   "sideBar": true,
   "skip_h1_title": false,
   "title_cell": "Table of Contents",
   "title_sidebar": "Contents",
   "toc_cell": false,
   "toc_position": {},
   "toc_section_display": true,
   "toc_window_display": false
  },
  "varInspector": {
   "cols": {
    "lenName": 16,
    "lenType": 16,
    "lenVar": 40
   },
   "kernels_config": {
    "python": {
     "delete_cmd_postfix": "",
     "delete_cmd_prefix": "del ",
     "library": "var_list.py",
     "varRefreshCmd": "print(var_dic_list())"
    },
    "r": {
     "delete_cmd_postfix": ") ",
     "delete_cmd_prefix": "rm(",
     "library": "var_list.r",
     "varRefreshCmd": "cat(var_dic_list()) "
    }
   },
   "types_to_exclude": [
    "module",
    "function",
    "builtin_function_or_method",
    "instance",
    "_Feature"
   ],
   "window_display": false
  }
 },
 "nbformat": 4,
 "nbformat_minor": 2
}
