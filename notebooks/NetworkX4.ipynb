{
 "cells": [
  {
   "cell_type": "code",
   "execution_count": 2,
   "metadata": {},
   "outputs": [],
   "source": [
    "import numpy as np\n",
    "import pandas as pd\n",
    "import networkx as nx\n",
    "import pickle\n",
    "import matplotlib.pyplot as plt"
   ]
  },
  {
   "cell_type": "code",
   "execution_count": 3,
   "metadata": {},
   "outputs": [],
   "source": [
    "cast_df = None\n",
    "\n",
    "with open('../data/the-movies-dataset/cast_for_network.pkl', 'rb') as fl:\n",
    "    cast_df = pickle.load(fl)"
   ]
  },
  {
   "cell_type": "code",
   "execution_count": 4,
   "metadata": {},
   "outputs": [
    {
     "name": "stderr",
     "output_type": "stream",
     "text": [
      "/anaconda3/lib/python3.7/site-packages/IPython/core/interactiveshell.py:3020: DtypeWarning: Columns (10) have mixed types. Specify dtype option on import or set low_memory=False.\n",
      "  interactivity=interactivity, compiler=compiler, result=result)\n"
     ]
    }
   ],
   "source": [
    "def convert_ids(ids_in_csv):\n",
    "    return pd.to_numeric(ids_in_csv, errors='coerce').astype('int64')\n",
    "names_for_movies_df = pd.read_csv('../data/the-movies-dataset/movies_metadata.csv'\n",
    "                        , converters={'id': lambda x: convert_ids(x), 'imdb_id': lambda x: convert_ids(x)}\n",
    "                       ,usecols=['id', 'original_title'\n",
    "                                 , 'popularity', 'overview', 'genres'\n",
    "                                 , 'revenue', 'vote_average' \n",
    "                                 ,'runtime', 'tagline'\n",
    "                                 ,'homepage','poster_path'\n",
    "                                 , 'release_date'\n",
    "                                 ,'title', 'spoken_languages'\n",
    "                                 ])"
   ]
  },
  {
   "cell_type": "code",
   "execution_count": null,
   "metadata": {},
   "outputs": [],
   "source": []
  },
  {
   "cell_type": "code",
   "execution_count": 5,
   "metadata": {},
   "outputs": [],
   "source": [
    "cast_df = cast_df.drop_duplicates()"
   ]
  },
  {
   "cell_type": "code",
   "execution_count": 6,
   "metadata": {},
   "outputs": [],
   "source": [
    "names_for_movies_df = names_for_movies_df.drop_duplicates()"
   ]
  },
  {
   "cell_type": "code",
   "execution_count": 7,
   "metadata": {},
   "outputs": [],
   "source": [
    "actors_and_movie_info_df = cast_df.merge(names_for_movies_df\n",
    "                                        , how='inner'\n",
    "                                        , left_on='movie'\n",
    "                                        , right_on='id')"
   ]
  },
  {
   "cell_type": "code",
   "execution_count": 9,
   "metadata": {},
   "outputs": [],
   "source": [
    "#actors_and_movie_info_df.rename(columns={'id_x': 'id_actor', 'id_y': 'id_movie'})"
   ]
  },
  {
   "cell_type": "code",
   "execution_count": 10,
   "metadata": {},
   "outputs": [],
   "source": [
    "actors_and_movie_info_df = actors_and_movie_info_df.rename(columns={'id_x': 'id_actor', 'id_y': 'id_movie'})"
   ]
  },
  {
   "cell_type": "markdown",
   "metadata": {},
   "source": [
    "What data do I actually want in the graph? Any Rules for building the graph? \n",
    "* Nodes\n",
    "    * Movie Names (Orginal_Title)\n",
    "        * Movie IDs\n",
    "        * Genres\n",
    "        * Overview\n",
    "        * Popularity\n",
    "        * Poster_Path\n",
    "        * Release_Date\n",
    "        * Revenue\n",
    "        * Runtime\n",
    "        * Tagline\n",
    "        * Title\n",
    "        * Vote Average\n",
    "        \n",
    "* Edges\n",
    "    * Actor Names\n",
    "        * Role in Film (character)\n",
    "    * Actor IDs\n",
    "        * id\n",
    "        * credit_id\n",
    "    * Order (Billing)\n",
    "    * Profile_Path"
   ]
  },
  {
   "cell_type": "markdown",
   "metadata": {},
   "source": [
    "## Grouping and Iterating"
   ]
  },
  {
   "cell_type": "code",
   "execution_count": null,
   "metadata": {},
   "outputs": [],
   "source": [
    "actors_filmography_group = actors_and_movie_info_df.groupby('name')"
   ]
  },
  {
   "cell_type": "code",
   "execution_count": 131,
   "metadata": {},
   "outputs": [],
   "source": [
    "test_df = actors_and_movie_info_df[(actors_and_movie_info_df.original_title == 'Toy Story') | (actors_and_movie_info_df.original_title == 'Big')]\n",
    "                                    #\\\n",
    "                                  #| (actors_and_movie_info_df.original_title == 'Heat') | (actors_and_movie_info_df.original_title == 'Scarface')\\\n",
    "                                  #| (actors_and_movie_info_df.original_title == 'Apollo 13') ]\n",
    "test_group = test_df.groupby('name')"
   ]
  },
  {
   "cell_type": "code",
   "execution_count": 139,
   "metadata": {},
   "outputs": [
    {
     "name": "stdout",
     "output_type": "stream",
     "text": [
      "\n",
      "!!!!!!!!!!!!!!!!!!ACTOR-GRAPH ANALYSIS !!!!!!!!!!!!!!!!!!!!!!!!!!!!!!!!!\n",
      "\n",
      "The Actor's Graph is composed of:\n",
      "NodeView(('Big', 'DUMMY_NODE'))\n",
      "MultiEdgeDataView([('Big', 'DUMMY_NODE')])\n",
      "\n",
      "!!!!!!!!!!!!!!!!!!ACTOR-GRAPH ANALYSIS !!!!!!!!!!!!!!!!!!!!!!!!!!!!!!!!!\n",
      "\n",
      "The Actor's Graph is composed of:\n",
      "NodeView(('Toy Story', 'DUMMY_NODE'))\n",
      "MultiEdgeDataView([('Toy Story', 'DUMMY_NODE')])\n",
      "\n",
      "!!!!!!!!!!!!!!!!!!ACTOR-GRAPH ANALYSIS !!!!!!!!!!!!!!!!!!!!!!!!!!!!!!!!!\n",
      "\n",
      "The Actor's Graph is composed of:\n",
      "NodeView(('Big', 'DUMMY_NODE'))\n",
      "MultiEdgeDataView([('Big', 'DUMMY_NODE')])\n",
      "\n",
      "!!!!!!!!!!!!!!!!!!ACTOR-GRAPH ANALYSIS !!!!!!!!!!!!!!!!!!!!!!!!!!!!!!!!!\n",
      "\n",
      "The Actor's Graph is composed of:\n",
      "NodeView(('Toy Story', 'DUMMY_NODE'))\n",
      "MultiEdgeDataView([('Toy Story', 'DUMMY_NODE')])\n",
      "\n",
      "!!!!!!!!!!!!!!!!!!ACTOR-GRAPH ANALYSIS !!!!!!!!!!!!!!!!!!!!!!!!!!!!!!!!!\n",
      "\n",
      "The Actor's Graph is composed of:\n",
      "NodeView(('Big', 'DUMMY_NODE'))\n",
      "MultiEdgeDataView([('Big', 'DUMMY_NODE')])\n",
      "\n",
      "!!!!!!!!!!!!!!!!!!ACTOR-GRAPH ANALYSIS !!!!!!!!!!!!!!!!!!!!!!!!!!!!!!!!!\n",
      "\n",
      "The Actor's Graph is composed of:\n",
      "NodeView(('Toy Story', 'DUMMY_NODE'))\n",
      "MultiEdgeDataView([('Toy Story', 'DUMMY_NODE')])\n",
      "\n",
      "!!!!!!!!!!!!!!!!!!ACTOR-GRAPH ANALYSIS !!!!!!!!!!!!!!!!!!!!!!!!!!!!!!!!!\n",
      "\n",
      "The Actor's Graph is composed of:\n",
      "NodeView(('Big', 'DUMMY_NODE'))\n",
      "MultiEdgeDataView([('Big', 'DUMMY_NODE')])\n",
      "\n",
      "!!!!!!!!!!!!!!!!!!ACTOR-GRAPH ANALYSIS !!!!!!!!!!!!!!!!!!!!!!!!!!!!!!!!!\n",
      "\n",
      "The Actor's Graph is composed of:\n",
      "NodeView(('Big', 'DUMMY_NODE'))\n",
      "MultiEdgeDataView([('Big', 'DUMMY_NODE')])\n",
      "\n",
      "!!!!!!!!!!!!!!!!!!ACTOR-GRAPH ANALYSIS !!!!!!!!!!!!!!!!!!!!!!!!!!!!!!!!!\n",
      "\n",
      "The Actor's Graph is composed of:\n",
      "NodeView(('Big', 'DUMMY_NODE'))\n",
      "MultiEdgeDataView([('Big', 'DUMMY_NODE')])\n",
      "\n",
      "!!!!!!!!!!!!!!!!!!ACTOR-GRAPH ANALYSIS !!!!!!!!!!!!!!!!!!!!!!!!!!!!!!!!!\n",
      "\n",
      "The Actor's Graph is composed of:\n",
      "NodeView(('Toy Story', 'DUMMY_NODE'))\n",
      "MultiEdgeDataView([('Toy Story', 'DUMMY_NODE')])\n",
      "\n",
      "!!!!!!!!!!!!!!!!!!ACTOR-GRAPH ANALYSIS !!!!!!!!!!!!!!!!!!!!!!!!!!!!!!!!!\n",
      "\n",
      "The Actor's Graph is composed of:\n",
      "NodeView(('Big', 'DUMMY_NODE'))\n",
      "MultiEdgeDataView([('Big', 'DUMMY_NODE')])\n",
      "\n",
      "!!!!!!!!!!!!!!!!!!ACTOR-GRAPH ANALYSIS !!!!!!!!!!!!!!!!!!!!!!!!!!!!!!!!!\n",
      "\n",
      "The Actor's Graph is composed of:\n",
      "NodeView(('Toy Story', 'DUMMY_NODE'))\n",
      "MultiEdgeDataView([('Toy Story', 'DUMMY_NODE')])\n",
      "\n",
      "!!!!!!!!!!!!!!!!!!ACTOR-GRAPH ANALYSIS !!!!!!!!!!!!!!!!!!!!!!!!!!!!!!!!!\n",
      "\n",
      "The Actor's Graph is composed of:\n",
      "NodeView(('Toy Story', 'DUMMY_NODE'))\n",
      "MultiEdgeDataView([('Toy Story', 'DUMMY_NODE')])\n",
      "\n",
      "!!!!!!!!!!!!!!!!!!ACTOR-GRAPH ANALYSIS !!!!!!!!!!!!!!!!!!!!!!!!!!!!!!!!!\n",
      "\n",
      "The Actor's Graph is composed of:\n",
      "NodeView(('Big', 'DUMMY_NODE'))\n",
      "MultiEdgeDataView([('Big', 'DUMMY_NODE')])\n",
      "\n",
      "!!!!!!!!!!!!!!!!!!ACTOR-GRAPH ANALYSIS !!!!!!!!!!!!!!!!!!!!!!!!!!!!!!!!!\n",
      "\n",
      "The Actor's Graph is composed of:\n",
      "NodeView(('Big', 'DUMMY_NODE'))\n",
      "MultiEdgeDataView([('Big', 'DUMMY_NODE')])\n",
      "\n",
      "!!!!!!!!!!!!!!!!!!ACTOR-GRAPH ANALYSIS !!!!!!!!!!!!!!!!!!!!!!!!!!!!!!!!!\n",
      "\n",
      "The Actor's Graph is composed of:\n",
      "NodeView(('Big', 'DUMMY_NODE'))\n",
      "MultiEdgeDataView([('Big', 'DUMMY_NODE')])\n",
      "\n",
      "!!!!!!!!!!!!!!!!!!ACTOR-GRAPH ANALYSIS !!!!!!!!!!!!!!!!!!!!!!!!!!!!!!!!!\n",
      "\n",
      "The Actor's Graph is composed of:\n",
      "NodeView(('Toy Story', 'DUMMY_NODE'))\n",
      "MultiEdgeDataView([('Toy Story', 'DUMMY_NODE')])\n",
      "\n",
      "!!!!!!!!!!!!!!!!!!ACTOR-GRAPH ANALYSIS !!!!!!!!!!!!!!!!!!!!!!!!!!!!!!!!!\n",
      "\n",
      "The Actor's Graph is composed of:\n",
      "NodeView(('Big', 'DUMMY_NODE'))\n",
      "MultiEdgeDataView([('Big', 'DUMMY_NODE')])\n",
      "\n",
      "!!!!!!!!!!!!!!!!!!ACTOR-GRAPH ANALYSIS !!!!!!!!!!!!!!!!!!!!!!!!!!!!!!!!!\n",
      "\n",
      "The Actor's Graph is composed of:\n",
      "NodeView(('Big', 'DUMMY_NODE'))\n",
      "MultiEdgeDataView([('Big', 'DUMMY_NODE')])\n",
      "\n",
      "!!!!!!!!!!!!!!!!!!ACTOR-GRAPH ANALYSIS !!!!!!!!!!!!!!!!!!!!!!!!!!!!!!!!!\n",
      "\n",
      "The Actor's Graph is composed of:\n",
      "NodeView(('Big', 'DUMMY_NODE'))\n",
      "MultiEdgeDataView([('Big', 'DUMMY_NODE')])\n",
      "\n",
      "!!!!!!!!!!!!!!!!!!ACTOR-GRAPH ANALYSIS !!!!!!!!!!!!!!!!!!!!!!!!!!!!!!!!!\n",
      "\n",
      "The Actor's Graph is composed of:\n",
      "NodeView(('Toy Story', 'DUMMY_NODE'))\n",
      "MultiEdgeDataView([('Toy Story', 'DUMMY_NODE')])\n",
      "\n",
      "!!!!!!!!!!!!!!!!!!ACTOR-GRAPH ANALYSIS !!!!!!!!!!!!!!!!!!!!!!!!!!!!!!!!!\n",
      "\n",
      "The Actor's Graph is composed of:\n",
      "NodeView(('Toy Story', 'DUMMY_NODE'))\n",
      "MultiEdgeDataView([('Toy Story', 'DUMMY_NODE')])\n",
      "\n",
      "!!!!!!!!!!!!!!!!!!ACTOR-GRAPH ANALYSIS !!!!!!!!!!!!!!!!!!!!!!!!!!!!!!!!!\n",
      "\n",
      "The Actor's Graph is composed of:\n",
      "NodeView(('Big', 'DUMMY_NODE'))\n",
      "MultiEdgeDataView([('Big', 'DUMMY_NODE')])\n",
      "\n",
      "!!!!!!!!!!!!!!!!!!ACTOR-GRAPH ANALYSIS !!!!!!!!!!!!!!!!!!!!!!!!!!!!!!!!!\n",
      "\n",
      "The Actor's Graph is composed of:\n",
      "NodeView(('Toy Story', 'DUMMY_NODE'))\n",
      "MultiEdgeDataView([('Toy Story', 'DUMMY_NODE')])\n",
      "\n",
      "!!!!!!!!!!!!!!!!!!ACTOR-GRAPH ANALYSIS !!!!!!!!!!!!!!!!!!!!!!!!!!!!!!!!!\n",
      "\n",
      "The Actor's Graph is composed of:\n",
      "NodeView(('Toy Story', 'DUMMY_NODE'))\n",
      "MultiEdgeDataView([('Toy Story', 'DUMMY_NODE')])\n",
      "\n",
      "!!!!!!!!!!!!!!!!!!ACTOR-GRAPH ANALYSIS !!!!!!!!!!!!!!!!!!!!!!!!!!!!!!!!!\n",
      "\n",
      "The Actor's Graph is composed of:\n",
      "NodeView(('Toy Story', 'Big', 'DUMMY_NODE'))\n",
      "MultiEdgeDataView([('Toy Story', 'Big'), ('Toy Story', 'DUMMY_NODE')])\n",
      "\n",
      "!!!!!!!!!!!!!!!!!!ACTOR-GRAPH ANALYSIS !!!!!!!!!!!!!!!!!!!!!!!!!!!!!!!!!\n",
      "\n",
      "The Actor's Graph is composed of:\n",
      "NodeView(('Toy Story', 'DUMMY_NODE'))\n",
      "MultiEdgeDataView([('Toy Story', 'DUMMY_NODE')])\n"
     ]
    }
   ],
   "source": [
    "import time\n",
    "import pprint\n",
    "import itertools\n",
    "\n",
    "master_graph = nx.MultiGraph()\n",
    "dummy_node = 'DUMMY_NODE'\n",
    "master_graph.add_nodes_from(dummy_node)\n",
    "#for filmography in actors_filmography_group:\n",
    "for filmography in test_group:\n",
    "#     print('@@@@@@@@@@@@@@@@@@@@@@@BEGIN@@@@@@@@@@@@@@@@@@@@@@@@@@@@@@@@@@@')\n",
    "#     print('This is the Graph creation for %s :' % (actor_edge['name']))\n",
    "    \n",
    "    name = filmography[0]\n",
    "    films_df = filmography[1]\n",
    "    \n",
    "    ## Need to store attribuetes of actors in a list, not dictionary based on constraints of NetworkX\n",
    "    ## When accessing an edge, index 0 is Name, 1 is Actor_id, 2 is profile_path\n",
    "    actor_edge_attrs = [name,  films_df['id_actor'].iloc[0], films_df['profile_path'].iloc[0]]   \n",
    "    \n",
    "    films = films_df[['id_movie', 'original_title', 'profile_path', 'popularity', 'genres', 'vote_average' \n",
    "                       ,'overview', 'poster_path', 'release_date', 'revenue'\n",
    "                       ,'runtime', 'spoken_languages', 'tagline', 'title']].to_dict(orient='records')\n",
    "    \n",
    "    \n",
    "    \n",
    "    nodes_for_stargraph = [film['title'] for film in films]\n",
    "    \n",
    "    nodes_for_stargraph.append(dummy_node)\n",
    "    #pprint.pprint(nodes_for_stargraph)\n",
    "    node_attributes = {film['title']: film for film in films}\n",
    "    \n",
    "    #pprint.pprint(node_attributes)\n",
    "    \n",
    "    actor_stargraph = nx.star_graph(nodes_for_stargraph, nx.MultiGraph)\n",
    "    \n",
    "    nx.set_node_attributes(actor_stargraph, node_attributes)\n",
    "    nx.set_edge_attributes(actor_stargraph, actor_edge_attrs, 'actor')\n",
    "    \n",
    "    \n",
    "    master_graph = nx.disjoint_union(master_graph, actor_stargraph)\n",
    "        \n",
    "    print('\\n!!!!!!!!!!!!!!!!!!ACTOR-GRAPH ANALYSIS !!!!!!!!!!!!!!!!!!!!!!!!!!!!!!!!!\\n')\n",
    "    print(\"The Actor's Graph is composed of:\")\n",
    "    pprint.pprint(actor_stargraph.nodes())\n",
    "    pprint.pprint(actor_stargraph.edges())\n",
    "    \n",
    "    #print('\\n\\n\\n********************MASTER-GRAPH************************************')\n",
    "    #pprint.pprint(master_graph.nodes())\n",
    "    #print()\n",
    "    #pprint.pprint(master_graph.edges())\n",
    "    #pprint.pprint(list(nx.connected_components(master_graph)))\n",
    "    #time.sleep(.25)\n",
    "    \n",
    "#     print(\"\\nThe Master Graph is composed of:\")\n",
    "#     shortest_paths = dict(nx.all_pairs_shortest_path(master_graph))\n",
    "#     for paths in shortest_paths:\n",
    "#         print('PATH::::::::::::::::')\n",
    "#         pprint.pprint(paths)\n",
    "#         print('____________________')\n",
    "\n",
    "    #print('^^^^^^^^^^^^^^^^^^^^END^^^^^^^^^^^^^^^^^^^^^^^^^^^^^^\\n')"
   ]
  },
  {
   "cell_type": "code",
   "execution_count": 133,
   "metadata": {},
   "outputs": [
    {
     "data": {
      "text/plain": [
       "MultiEdgeDataView([(8, 9, {'actor': ['Allan Wasserman', 123728.0, '/u6xfuaLDoLMkSWHPW5I2njOsWPI.jpg']}), (10, 11, {'actor': ['Annie Potts', 8873.0, '/eryXT84RL41jHSJcMy4kS3u9y6w.jpg']}), (12, 13, {'actor': ['David Moscow', 62123.0, '/shlyKoI2kEAcgX0AE5qFEFSrLfv.jpg']}), (14, 15, {'actor': ['Don Rickles', 7167.0, '/h5BcaDMPRVLHLDzbQavec4xfSdt.jpg']}), (16, 17, {'actor': ['Elizabeth Perkins', 20.0, '/bkdWnnrMADJcFpKAOitMjQH3uEQ.jpg']}), (18, 19, {'actor': ['Erik von Detten', 12901.0, '/twnF1ZaJ1FUNUuo6xLXwcxjayBE.jpg']}), (20, 21, {'actor': ['Erika Katz', 80138.0, None]}), (22, 23, {'actor': ['Gary Howard Klar', 994134.0, '/evmHi96cDCtPSIcQBrDU7OnksTb.jpg']}), (24, 25, {'actor': ['Jared Rushton', 57422.0, '/qbyP9UM7xHEFyrop3XKgb26V55q.jpg']}), (26, 27, {'actor': ['Jim Varney', 12899.0, '/eIo2jVVXYgjDtaHoF19Ll9vtW7h.jpg']}), (28, 29, {'actor': ['John Heard', 11512.0, '/rz9E9VyZXeyspfCshXFKHIy5rP0.jpg']}), (30, 31, {'actor': ['John Morris', 1116442.0, '/vYGyvK4LzeaUCoNSHtsuqJUY15M.jpg']}), (32, 33, {'actor': ['John Ratzenberger', 7907.0, '/yGechiKWL6TJDfVE2KPSJYqdMsY.jpg']}), (34, 35, {'actor': ['Jon Lovitz', 16165.0, '/3Sw3X69m19FHSiSpv9cs4doBBfI.jpg']}), (36, 37, {'actor': ['Josh Clark', 143205.0, '/2rh3syJUjmtYlTyLj8EMTBhjMQt.jpg']}), (38, 39, {'actor': ['Kimberlee M. Davis', 1073814.0, None]}), (40, 41, {'actor': ['Laurie Metcalf', 12133.0, '/unMMIT60eoBM2sN2nyR7EZ2BvvD.jpg']}), (42, 43, {'actor': ['Mark Ballou', 166788.0, None]}), (44, 45, {'actor': ['Mercedes Ruehl', 2167.0, '/dGyZ3s7TdC88JgDMQaQqUOwFul0.jpg']}), (46, 47, {'actor': ['Oliver Block', 1073816.0, None]}), (48, 49, {'actor': ['Penn Jillette', 37221.0, '/zmAaXUdx12NRsssgHbk1T31j2x9.jpg']}), (50, 51, {'actor': ['R. Lee Ermey', 8655.0, '/r8GBqFBjypLUP9VVqDqfZ7wYbSs.jpg']}), (52, 53, {'actor': ['Robert Loggia', 1162.0, '/7xtU12KT12xjy4UY1O6VKpw7FLx.jpg']}), (54, 55, {'actor': ['Sarah Freeman', 12903.0, None]}), (56, 57, {'actor': ['Tim Allen', 12898.0, '/uX2xVf6pMmPepxnvFWyBtjexzgY.jpg']}), (58, 59, {'actor': ['Tom Hanks', 31.0, '/pQFoyx7rp09CJTAb932F2g8Nlho.jpg']}), (58, 60, {'actor': ['Tom Hanks', 31.0, '/pQFoyx7rp09CJTAb932F2g8Nlho.jpg']}), (61, 62, {'actor': ['Wallace Shawn', 12900.0, '/oGE6JqPP2xH4tNORKNqxbNPYi7u.jpg']})])"
      ]
     },
     "execution_count": 133,
     "metadata": {},
     "output_type": "execute_result"
    }
   ],
   "source": [
    "master_graph.edges.data()"
   ]
  },
  {
   "cell_type": "code",
   "execution_count": 134,
   "metadata": {},
   "outputs": [
    {
     "name": "stdout",
     "output_type": "stream",
     "text": [
      "NodeDataView({0: {}, 1: {}, 2: {}, 3: {}, 4: {}, 5: {}, 6: {}, 7: {}, 8: {'id_movie': 2280, 'original_title': 'Big', 'profile_path': '/u6xfuaLDoLMkSWHPW5I2njOsWPI.jpg', 'popularity': 9.562292, 'genres': \"[{'id': 14, 'name': 'Fantasy'}, {'id': 18, 'name': 'Drama'}, {'id': 35, 'name': 'Comedy'}, {'id': 10749, 'name': 'Romance'}, {'id': 10751, 'name': 'Family'}]\", 'vote_average': 6.9, 'overview': 'A young boy, Josh Baskin makes a wish at a carnival machine to be big. He wakes up the following morning to find that it has been granted and his body has grown older overnight. But he is still the same 13-year-old boy inside. Now he must learn how to cope with the unfamiliar world of grown-ups including getting a job and having his first romantic encounter with a woman. What will he find out about this strange world?', 'poster_path': '/me6uugsf6zWTkrcLBoNc9EElb5j.jpg', 'release_date': '1988-06-03', 'revenue': 151668774.0, 'runtime': 104.0, 'spoken_languages': \"[{'iso_639_1': 'en', 'name': 'English'}]\", 'tagline': \"You're Only Young Once But For Josh It Might Just Last A Lifetime.\", 'title': 'Big'}, 9: {}, 10: {'id_movie': 862, 'original_title': 'Toy Story', 'profile_path': '/eryXT84RL41jHSJcMy4kS3u9y6w.jpg', 'popularity': 21.946943, 'genres': \"[{'id': 16, 'name': 'Animation'}, {'id': 35, 'name': 'Comedy'}, {'id': 10751, 'name': 'Family'}]\", 'vote_average': 7.7, 'overview': \"Led by Woody, Andy's toys live happily in his room until Andy's birthday brings Buzz Lightyear onto the scene. Afraid of losing his place in Andy's heart, Woody plots against Buzz. But when circumstances separate Buzz and Woody from their owner, the duo eventually learns to put aside their differences.\", 'poster_path': '/rhIRbceoE9lR4veEXuwCC2wARtG.jpg', 'release_date': '1995-10-30', 'revenue': 373554033.0, 'runtime': 81.0, 'spoken_languages': \"[{'iso_639_1': 'en', 'name': 'English'}]\", 'tagline': nan, 'title': 'Toy Story'}, 11: {}, 12: {'id_movie': 2280, 'original_title': 'Big', 'profile_path': '/shlyKoI2kEAcgX0AE5qFEFSrLfv.jpg', 'popularity': 9.562292, 'genres': \"[{'id': 14, 'name': 'Fantasy'}, {'id': 18, 'name': 'Drama'}, {'id': 35, 'name': 'Comedy'}, {'id': 10749, 'name': 'Romance'}, {'id': 10751, 'name': 'Family'}]\", 'vote_average': 6.9, 'overview': 'A young boy, Josh Baskin makes a wish at a carnival machine to be big. He wakes up the following morning to find that it has been granted and his body has grown older overnight. But he is still the same 13-year-old boy inside. Now he must learn how to cope with the unfamiliar world of grown-ups including getting a job and having his first romantic encounter with a woman. What will he find out about this strange world?', 'poster_path': '/me6uugsf6zWTkrcLBoNc9EElb5j.jpg', 'release_date': '1988-06-03', 'revenue': 151668774.0, 'runtime': 104.0, 'spoken_languages': \"[{'iso_639_1': 'en', 'name': 'English'}]\", 'tagline': \"You're Only Young Once But For Josh It Might Just Last A Lifetime.\", 'title': 'Big'}, 13: {}, 14: {'id_movie': 862, 'original_title': 'Toy Story', 'profile_path': '/h5BcaDMPRVLHLDzbQavec4xfSdt.jpg', 'popularity': 21.946943, 'genres': \"[{'id': 16, 'name': 'Animation'}, {'id': 35, 'name': 'Comedy'}, {'id': 10751, 'name': 'Family'}]\", 'vote_average': 7.7, 'overview': \"Led by Woody, Andy's toys live happily in his room until Andy's birthday brings Buzz Lightyear onto the scene. Afraid of losing his place in Andy's heart, Woody plots against Buzz. But when circumstances separate Buzz and Woody from their owner, the duo eventually learns to put aside their differences.\", 'poster_path': '/rhIRbceoE9lR4veEXuwCC2wARtG.jpg', 'release_date': '1995-10-30', 'revenue': 373554033.0, 'runtime': 81.0, 'spoken_languages': \"[{'iso_639_1': 'en', 'name': 'English'}]\", 'tagline': nan, 'title': 'Toy Story'}, 15: {}, 16: {'id_movie': 2280, 'original_title': 'Big', 'profile_path': '/bkdWnnrMADJcFpKAOitMjQH3uEQ.jpg', 'popularity': 9.562292, 'genres': \"[{'id': 14, 'name': 'Fantasy'}, {'id': 18, 'name': 'Drama'}, {'id': 35, 'name': 'Comedy'}, {'id': 10749, 'name': 'Romance'}, {'id': 10751, 'name': 'Family'}]\", 'vote_average': 6.9, 'overview': 'A young boy, Josh Baskin makes a wish at a carnival machine to be big. He wakes up the following morning to find that it has been granted and his body has grown older overnight. But he is still the same 13-year-old boy inside. Now he must learn how to cope with the unfamiliar world of grown-ups including getting a job and having his first romantic encounter with a woman. What will he find out about this strange world?', 'poster_path': '/me6uugsf6zWTkrcLBoNc9EElb5j.jpg', 'release_date': '1988-06-03', 'revenue': 151668774.0, 'runtime': 104.0, 'spoken_languages': \"[{'iso_639_1': 'en', 'name': 'English'}]\", 'tagline': \"You're Only Young Once But For Josh It Might Just Last A Lifetime.\", 'title': 'Big'}, 17: {}, 18: {'id_movie': 862, 'original_title': 'Toy Story', 'profile_path': '/twnF1ZaJ1FUNUuo6xLXwcxjayBE.jpg', 'popularity': 21.946943, 'genres': \"[{'id': 16, 'name': 'Animation'}, {'id': 35, 'name': 'Comedy'}, {'id': 10751, 'name': 'Family'}]\", 'vote_average': 7.7, 'overview': \"Led by Woody, Andy's toys live happily in his room until Andy's birthday brings Buzz Lightyear onto the scene. Afraid of losing his place in Andy's heart, Woody plots against Buzz. But when circumstances separate Buzz and Woody from their owner, the duo eventually learns to put aside their differences.\", 'poster_path': '/rhIRbceoE9lR4veEXuwCC2wARtG.jpg', 'release_date': '1995-10-30', 'revenue': 373554033.0, 'runtime': 81.0, 'spoken_languages': \"[{'iso_639_1': 'en', 'name': 'English'}]\", 'tagline': nan, 'title': 'Toy Story'}, 19: {}, 20: {'id_movie': 2280, 'original_title': 'Big', 'profile_path': None, 'popularity': 9.562292, 'genres': \"[{'id': 14, 'name': 'Fantasy'}, {'id': 18, 'name': 'Drama'}, {'id': 35, 'name': 'Comedy'}, {'id': 10749, 'name': 'Romance'}, {'id': 10751, 'name': 'Family'}]\", 'vote_average': 6.9, 'overview': 'A young boy, Josh Baskin makes a wish at a carnival machine to be big. He wakes up the following morning to find that it has been granted and his body has grown older overnight. But he is still the same 13-year-old boy inside. Now he must learn how to cope with the unfamiliar world of grown-ups including getting a job and having his first romantic encounter with a woman. What will he find out about this strange world?', 'poster_path': '/me6uugsf6zWTkrcLBoNc9EElb5j.jpg', 'release_date': '1988-06-03', 'revenue': 151668774.0, 'runtime': 104.0, 'spoken_languages': \"[{'iso_639_1': 'en', 'name': 'English'}]\", 'tagline': \"You're Only Young Once But For Josh It Might Just Last A Lifetime.\", 'title': 'Big'}, 21: {}, 22: {'id_movie': 2280, 'original_title': 'Big', 'profile_path': '/evmHi96cDCtPSIcQBrDU7OnksTb.jpg', 'popularity': 9.562292, 'genres': \"[{'id': 14, 'name': 'Fantasy'}, {'id': 18, 'name': 'Drama'}, {'id': 35, 'name': 'Comedy'}, {'id': 10749, 'name': 'Romance'}, {'id': 10751, 'name': 'Family'}]\", 'vote_average': 6.9, 'overview': 'A young boy, Josh Baskin makes a wish at a carnival machine to be big. He wakes up the following morning to find that it has been granted and his body has grown older overnight. But he is still the same 13-year-old boy inside. Now he must learn how to cope with the unfamiliar world of grown-ups including getting a job and having his first romantic encounter with a woman. What will he find out about this strange world?', 'poster_path': '/me6uugsf6zWTkrcLBoNc9EElb5j.jpg', 'release_date': '1988-06-03', 'revenue': 151668774.0, 'runtime': 104.0, 'spoken_languages': \"[{'iso_639_1': 'en', 'name': 'English'}]\", 'tagline': \"You're Only Young Once But For Josh It Might Just Last A Lifetime.\", 'title': 'Big'}, 23: {}, 24: {'id_movie': 2280, 'original_title': 'Big', 'profile_path': '/qbyP9UM7xHEFyrop3XKgb26V55q.jpg', 'popularity': 9.562292, 'genres': \"[{'id': 14, 'name': 'Fantasy'}, {'id': 18, 'name': 'Drama'}, {'id': 35, 'name': 'Comedy'}, {'id': 10749, 'name': 'Romance'}, {'id': 10751, 'name': 'Family'}]\", 'vote_average': 6.9, 'overview': 'A young boy, Josh Baskin makes a wish at a carnival machine to be big. He wakes up the following morning to find that it has been granted and his body has grown older overnight. But he is still the same 13-year-old boy inside. Now he must learn how to cope with the unfamiliar world of grown-ups including getting a job and having his first romantic encounter with a woman. What will he find out about this strange world?', 'poster_path': '/me6uugsf6zWTkrcLBoNc9EElb5j.jpg', 'release_date': '1988-06-03', 'revenue': 151668774.0, 'runtime': 104.0, 'spoken_languages': \"[{'iso_639_1': 'en', 'name': 'English'}]\", 'tagline': \"You're Only Young Once But For Josh It Might Just Last A Lifetime.\", 'title': 'Big'}, 25: {}, 26: {'id_movie': 862, 'original_title': 'Toy Story', 'profile_path': '/eIo2jVVXYgjDtaHoF19Ll9vtW7h.jpg', 'popularity': 21.946943, 'genres': \"[{'id': 16, 'name': 'Animation'}, {'id': 35, 'name': 'Comedy'}, {'id': 10751, 'name': 'Family'}]\", 'vote_average': 7.7, 'overview': \"Led by Woody, Andy's toys live happily in his room until Andy's birthday brings Buzz Lightyear onto the scene. Afraid of losing his place in Andy's heart, Woody plots against Buzz. But when circumstances separate Buzz and Woody from their owner, the duo eventually learns to put aside their differences.\", 'poster_path': '/rhIRbceoE9lR4veEXuwCC2wARtG.jpg', 'release_date': '1995-10-30', 'revenue': 373554033.0, 'runtime': 81.0, 'spoken_languages': \"[{'iso_639_1': 'en', 'name': 'English'}]\", 'tagline': nan, 'title': 'Toy Story'}, 27: {}, 28: {'id_movie': 2280, 'original_title': 'Big', 'profile_path': '/rz9E9VyZXeyspfCshXFKHIy5rP0.jpg', 'popularity': 9.562292, 'genres': \"[{'id': 14, 'name': 'Fantasy'}, {'id': 18, 'name': 'Drama'}, {'id': 35, 'name': 'Comedy'}, {'id': 10749, 'name': 'Romance'}, {'id': 10751, 'name': 'Family'}]\", 'vote_average': 6.9, 'overview': 'A young boy, Josh Baskin makes a wish at a carnival machine to be big. He wakes up the following morning to find that it has been granted and his body has grown older overnight. But he is still the same 13-year-old boy inside. Now he must learn how to cope with the unfamiliar world of grown-ups including getting a job and having his first romantic encounter with a woman. What will he find out about this strange world?', 'poster_path': '/me6uugsf6zWTkrcLBoNc9EElb5j.jpg', 'release_date': '1988-06-03', 'revenue': 151668774.0, 'runtime': 104.0, 'spoken_languages': \"[{'iso_639_1': 'en', 'name': 'English'}]\", 'tagline': \"You're Only Young Once But For Josh It Might Just Last A Lifetime.\", 'title': 'Big'}, 29: {}, 30: {'id_movie': 862, 'original_title': 'Toy Story', 'profile_path': '/vYGyvK4LzeaUCoNSHtsuqJUY15M.jpg', 'popularity': 21.946943, 'genres': \"[{'id': 16, 'name': 'Animation'}, {'id': 35, 'name': 'Comedy'}, {'id': 10751, 'name': 'Family'}]\", 'vote_average': 7.7, 'overview': \"Led by Woody, Andy's toys live happily in his room until Andy's birthday brings Buzz Lightyear onto the scene. Afraid of losing his place in Andy's heart, Woody plots against Buzz. But when circumstances separate Buzz and Woody from their owner, the duo eventually learns to put aside their differences.\", 'poster_path': '/rhIRbceoE9lR4veEXuwCC2wARtG.jpg', 'release_date': '1995-10-30', 'revenue': 373554033.0, 'runtime': 81.0, 'spoken_languages': \"[{'iso_639_1': 'en', 'name': 'English'}]\", 'tagline': nan, 'title': 'Toy Story'}, 31: {}, 32: {'id_movie': 862, 'original_title': 'Toy Story', 'profile_path': '/yGechiKWL6TJDfVE2KPSJYqdMsY.jpg', 'popularity': 21.946943, 'genres': \"[{'id': 16, 'name': 'Animation'}, {'id': 35, 'name': 'Comedy'}, {'id': 10751, 'name': 'Family'}]\", 'vote_average': 7.7, 'overview': \"Led by Woody, Andy's toys live happily in his room until Andy's birthday brings Buzz Lightyear onto the scene. Afraid of losing his place in Andy's heart, Woody plots against Buzz. But when circumstances separate Buzz and Woody from their owner, the duo eventually learns to put aside their differences.\", 'poster_path': '/rhIRbceoE9lR4veEXuwCC2wARtG.jpg', 'release_date': '1995-10-30', 'revenue': 373554033.0, 'runtime': 81.0, 'spoken_languages': \"[{'iso_639_1': 'en', 'name': 'English'}]\", 'tagline': nan, 'title': 'Toy Story'}, 33: {}, 34: {'id_movie': 2280, 'original_title': 'Big', 'profile_path': '/3Sw3X69m19FHSiSpv9cs4doBBfI.jpg', 'popularity': 9.562292, 'genres': \"[{'id': 14, 'name': 'Fantasy'}, {'id': 18, 'name': 'Drama'}, {'id': 35, 'name': 'Comedy'}, {'id': 10749, 'name': 'Romance'}, {'id': 10751, 'name': 'Family'}]\", 'vote_average': 6.9, 'overview': 'A young boy, Josh Baskin makes a wish at a carnival machine to be big. He wakes up the following morning to find that it has been granted and his body has grown older overnight. But he is still the same 13-year-old boy inside. Now he must learn how to cope with the unfamiliar world of grown-ups including getting a job and having his first romantic encounter with a woman. What will he find out about this strange world?', 'poster_path': '/me6uugsf6zWTkrcLBoNc9EElb5j.jpg', 'release_date': '1988-06-03', 'revenue': 151668774.0, 'runtime': 104.0, 'spoken_languages': \"[{'iso_639_1': 'en', 'name': 'English'}]\", 'tagline': \"You're Only Young Once But For Josh It Might Just Last A Lifetime.\", 'title': 'Big'}, 35: {}, 36: {'id_movie': 2280, 'original_title': 'Big', 'profile_path': '/2rh3syJUjmtYlTyLj8EMTBhjMQt.jpg', 'popularity': 9.562292, 'genres': \"[{'id': 14, 'name': 'Fantasy'}, {'id': 18, 'name': 'Drama'}, {'id': 35, 'name': 'Comedy'}, {'id': 10749, 'name': 'Romance'}, {'id': 10751, 'name': 'Family'}]\", 'vote_average': 6.9, 'overview': 'A young boy, Josh Baskin makes a wish at a carnival machine to be big. He wakes up the following morning to find that it has been granted and his body has grown older overnight. But he is still the same 13-year-old boy inside. Now he must learn how to cope with the unfamiliar world of grown-ups including getting a job and having his first romantic encounter with a woman. What will he find out about this strange world?', 'poster_path': '/me6uugsf6zWTkrcLBoNc9EElb5j.jpg', 'release_date': '1988-06-03', 'revenue': 151668774.0, 'runtime': 104.0, 'spoken_languages': \"[{'iso_639_1': 'en', 'name': 'English'}]\", 'tagline': \"You're Only Young Once But For Josh It Might Just Last A Lifetime.\", 'title': 'Big'}, 37: {}, 38: {'id_movie': 2280, 'original_title': 'Big', 'profile_path': None, 'popularity': 9.562292, 'genres': \"[{'id': 14, 'name': 'Fantasy'}, {'id': 18, 'name': 'Drama'}, {'id': 35, 'name': 'Comedy'}, {'id': 10749, 'name': 'Romance'}, {'id': 10751, 'name': 'Family'}]\", 'vote_average': 6.9, 'overview': 'A young boy, Josh Baskin makes a wish at a carnival machine to be big. He wakes up the following morning to find that it has been granted and his body has grown older overnight. But he is still the same 13-year-old boy inside. Now he must learn how to cope with the unfamiliar world of grown-ups including getting a job and having his first romantic encounter with a woman. What will he find out about this strange world?', 'poster_path': '/me6uugsf6zWTkrcLBoNc9EElb5j.jpg', 'release_date': '1988-06-03', 'revenue': 151668774.0, 'runtime': 104.0, 'spoken_languages': \"[{'iso_639_1': 'en', 'name': 'English'}]\", 'tagline': \"You're Only Young Once But For Josh It Might Just Last A Lifetime.\", 'title': 'Big'}, 39: {}, 40: {'id_movie': 862, 'original_title': 'Toy Story', 'profile_path': '/unMMIT60eoBM2sN2nyR7EZ2BvvD.jpg', 'popularity': 21.946943, 'genres': \"[{'id': 16, 'name': 'Animation'}, {'id': 35, 'name': 'Comedy'}, {'id': 10751, 'name': 'Family'}]\", 'vote_average': 7.7, 'overview': \"Led by Woody, Andy's toys live happily in his room until Andy's birthday brings Buzz Lightyear onto the scene. Afraid of losing his place in Andy's heart, Woody plots against Buzz. But when circumstances separate Buzz and Woody from their owner, the duo eventually learns to put aside their differences.\", 'poster_path': '/rhIRbceoE9lR4veEXuwCC2wARtG.jpg', 'release_date': '1995-10-30', 'revenue': 373554033.0, 'runtime': 81.0, 'spoken_languages': \"[{'iso_639_1': 'en', 'name': 'English'}]\", 'tagline': nan, 'title': 'Toy Story'}, 41: {}, 42: {'id_movie': 2280, 'original_title': 'Big', 'profile_path': None, 'popularity': 9.562292, 'genres': \"[{'id': 14, 'name': 'Fantasy'}, {'id': 18, 'name': 'Drama'}, {'id': 35, 'name': 'Comedy'}, {'id': 10749, 'name': 'Romance'}, {'id': 10751, 'name': 'Family'}]\", 'vote_average': 6.9, 'overview': 'A young boy, Josh Baskin makes a wish at a carnival machine to be big. He wakes up the following morning to find that it has been granted and his body has grown older overnight. But he is still the same 13-year-old boy inside. Now he must learn how to cope with the unfamiliar world of grown-ups including getting a job and having his first romantic encounter with a woman. What will he find out about this strange world?', 'poster_path': '/me6uugsf6zWTkrcLBoNc9EElb5j.jpg', 'release_date': '1988-06-03', 'revenue': 151668774.0, 'runtime': 104.0, 'spoken_languages': \"[{'iso_639_1': 'en', 'name': 'English'}]\", 'tagline': \"You're Only Young Once But For Josh It Might Just Last A Lifetime.\", 'title': 'Big'}, 43: {}, 44: {'id_movie': 2280, 'original_title': 'Big', 'profile_path': '/dGyZ3s7TdC88JgDMQaQqUOwFul0.jpg', 'popularity': 9.562292, 'genres': \"[{'id': 14, 'name': 'Fantasy'}, {'id': 18, 'name': 'Drama'}, {'id': 35, 'name': 'Comedy'}, {'id': 10749, 'name': 'Romance'}, {'id': 10751, 'name': 'Family'}]\", 'vote_average': 6.9, 'overview': 'A young boy, Josh Baskin makes a wish at a carnival machine to be big. He wakes up the following morning to find that it has been granted and his body has grown older overnight. But he is still the same 13-year-old boy inside. Now he must learn how to cope with the unfamiliar world of grown-ups including getting a job and having his first romantic encounter with a woman. What will he find out about this strange world?', 'poster_path': '/me6uugsf6zWTkrcLBoNc9EElb5j.jpg', 'release_date': '1988-06-03', 'revenue': 151668774.0, 'runtime': 104.0, 'spoken_languages': \"[{'iso_639_1': 'en', 'name': 'English'}]\", 'tagline': \"You're Only Young Once But For Josh It Might Just Last A Lifetime.\", 'title': 'Big'}, 45: {}, 46: {'id_movie': 2280, 'original_title': 'Big', 'profile_path': None, 'popularity': 9.562292, 'genres': \"[{'id': 14, 'name': 'Fantasy'}, {'id': 18, 'name': 'Drama'}, {'id': 35, 'name': 'Comedy'}, {'id': 10749, 'name': 'Romance'}, {'id': 10751, 'name': 'Family'}]\", 'vote_average': 6.9, 'overview': 'A young boy, Josh Baskin makes a wish at a carnival machine to be big. He wakes up the following morning to find that it has been granted and his body has grown older overnight. But he is still the same 13-year-old boy inside. Now he must learn how to cope with the unfamiliar world of grown-ups including getting a job and having his first romantic encounter with a woman. What will he find out about this strange world?', 'poster_path': '/me6uugsf6zWTkrcLBoNc9EElb5j.jpg', 'release_date': '1988-06-03', 'revenue': 151668774.0, 'runtime': 104.0, 'spoken_languages': \"[{'iso_639_1': 'en', 'name': 'English'}]\", 'tagline': \"You're Only Young Once But For Josh It Might Just Last A Lifetime.\", 'title': 'Big'}, 47: {}, 48: {'id_movie': 862, 'original_title': 'Toy Story', 'profile_path': '/zmAaXUdx12NRsssgHbk1T31j2x9.jpg', 'popularity': 21.946943, 'genres': \"[{'id': 16, 'name': 'Animation'}, {'id': 35, 'name': 'Comedy'}, {'id': 10751, 'name': 'Family'}]\", 'vote_average': 7.7, 'overview': \"Led by Woody, Andy's toys live happily in his room until Andy's birthday brings Buzz Lightyear onto the scene. Afraid of losing his place in Andy's heart, Woody plots against Buzz. But when circumstances separate Buzz and Woody from their owner, the duo eventually learns to put aside their differences.\", 'poster_path': '/rhIRbceoE9lR4veEXuwCC2wARtG.jpg', 'release_date': '1995-10-30', 'revenue': 373554033.0, 'runtime': 81.0, 'spoken_languages': \"[{'iso_639_1': 'en', 'name': 'English'}]\", 'tagline': nan, 'title': 'Toy Story'}, 49: {}, 50: {'id_movie': 862, 'original_title': 'Toy Story', 'profile_path': '/r8GBqFBjypLUP9VVqDqfZ7wYbSs.jpg', 'popularity': 21.946943, 'genres': \"[{'id': 16, 'name': 'Animation'}, {'id': 35, 'name': 'Comedy'}, {'id': 10751, 'name': 'Family'}]\", 'vote_average': 7.7, 'overview': \"Led by Woody, Andy's toys live happily in his room until Andy's birthday brings Buzz Lightyear onto the scene. Afraid of losing his place in Andy's heart, Woody plots against Buzz. But when circumstances separate Buzz and Woody from their owner, the duo eventually learns to put aside their differences.\", 'poster_path': '/rhIRbceoE9lR4veEXuwCC2wARtG.jpg', 'release_date': '1995-10-30', 'revenue': 373554033.0, 'runtime': 81.0, 'spoken_languages': \"[{'iso_639_1': 'en', 'name': 'English'}]\", 'tagline': nan, 'title': 'Toy Story'}, 51: {}, 52: {'id_movie': 2280, 'original_title': 'Big', 'profile_path': '/7xtU12KT12xjy4UY1O6VKpw7FLx.jpg', 'popularity': 9.562292, 'genres': \"[{'id': 14, 'name': 'Fantasy'}, {'id': 18, 'name': 'Drama'}, {'id': 35, 'name': 'Comedy'}, {'id': 10749, 'name': 'Romance'}, {'id': 10751, 'name': 'Family'}]\", 'vote_average': 6.9, 'overview': 'A young boy, Josh Baskin makes a wish at a carnival machine to be big. He wakes up the following morning to find that it has been granted and his body has grown older overnight. But he is still the same 13-year-old boy inside. Now he must learn how to cope with the unfamiliar world of grown-ups including getting a job and having his first romantic encounter with a woman. What will he find out about this strange world?', 'poster_path': '/me6uugsf6zWTkrcLBoNc9EElb5j.jpg', 'release_date': '1988-06-03', 'revenue': 151668774.0, 'runtime': 104.0, 'spoken_languages': \"[{'iso_639_1': 'en', 'name': 'English'}]\", 'tagline': \"You're Only Young Once But For Josh It Might Just Last A Lifetime.\", 'title': 'Big'}, 53: {}, 54: {'id_movie': 862, 'original_title': 'Toy Story', 'profile_path': None, 'popularity': 21.946943, 'genres': \"[{'id': 16, 'name': 'Animation'}, {'id': 35, 'name': 'Comedy'}, {'id': 10751, 'name': 'Family'}]\", 'vote_average': 7.7, 'overview': \"Led by Woody, Andy's toys live happily in his room until Andy's birthday brings Buzz Lightyear onto the scene. Afraid of losing his place in Andy's heart, Woody plots against Buzz. But when circumstances separate Buzz and Woody from their owner, the duo eventually learns to put aside their differences.\", 'poster_path': '/rhIRbceoE9lR4veEXuwCC2wARtG.jpg', 'release_date': '1995-10-30', 'revenue': 373554033.0, 'runtime': 81.0, 'spoken_languages': \"[{'iso_639_1': 'en', 'name': 'English'}]\", 'tagline': nan, 'title': 'Toy Story'}, 55: {}, 56: {'id_movie': 862, 'original_title': 'Toy Story', 'profile_path': '/uX2xVf6pMmPepxnvFWyBtjexzgY.jpg', 'popularity': 21.946943, 'genres': \"[{'id': 16, 'name': 'Animation'}, {'id': 35, 'name': 'Comedy'}, {'id': 10751, 'name': 'Family'}]\", 'vote_average': 7.7, 'overview': \"Led by Woody, Andy's toys live happily in his room until Andy's birthday brings Buzz Lightyear onto the scene. Afraid of losing his place in Andy's heart, Woody plots against Buzz. But when circumstances separate Buzz and Woody from their owner, the duo eventually learns to put aside their differences.\", 'poster_path': '/rhIRbceoE9lR4veEXuwCC2wARtG.jpg', 'release_date': '1995-10-30', 'revenue': 373554033.0, 'runtime': 81.0, 'spoken_languages': \"[{'iso_639_1': 'en', 'name': 'English'}]\", 'tagline': nan, 'title': 'Toy Story'}, 57: {}, 58: {'id_movie': 862, 'original_title': 'Toy Story', 'profile_path': '/pQFoyx7rp09CJTAb932F2g8Nlho.jpg', 'popularity': 21.946943, 'genres': \"[{'id': 16, 'name': 'Animation'}, {'id': 35, 'name': 'Comedy'}, {'id': 10751, 'name': 'Family'}]\", 'vote_average': 7.7, 'overview': \"Led by Woody, Andy's toys live happily in his room until Andy's birthday brings Buzz Lightyear onto the scene. Afraid of losing his place in Andy's heart, Woody plots against Buzz. But when circumstances separate Buzz and Woody from their owner, the duo eventually learns to put aside their differences.\", 'poster_path': '/rhIRbceoE9lR4veEXuwCC2wARtG.jpg', 'release_date': '1995-10-30', 'revenue': 373554033.0, 'runtime': 81.0, 'spoken_languages': \"[{'iso_639_1': 'en', 'name': 'English'}]\", 'tagline': nan, 'title': 'Toy Story'}, 59: {'id_movie': 2280, 'original_title': 'Big', 'profile_path': '/pQFoyx7rp09CJTAb932F2g8Nlho.jpg', 'popularity': 9.562292, 'genres': \"[{'id': 14, 'name': 'Fantasy'}, {'id': 18, 'name': 'Drama'}, {'id': 35, 'name': 'Comedy'}, {'id': 10749, 'name': 'Romance'}, {'id': 10751, 'name': 'Family'}]\", 'vote_average': 6.9, 'overview': 'A young boy, Josh Baskin makes a wish at a carnival machine to be big. He wakes up the following morning to find that it has been granted and his body has grown older overnight. But he is still the same 13-year-old boy inside. Now he must learn how to cope with the unfamiliar world of grown-ups including getting a job and having his first romantic encounter with a woman. What will he find out about this strange world?', 'poster_path': '/me6uugsf6zWTkrcLBoNc9EElb5j.jpg', 'release_date': '1988-06-03', 'revenue': 151668774.0, 'runtime': 104.0, 'spoken_languages': \"[{'iso_639_1': 'en', 'name': 'English'}]\", 'tagline': \"You're Only Young Once But For Josh It Might Just Last A Lifetime.\", 'title': 'Big'}, 60: {}, 61: {'id_movie': 862, 'original_title': 'Toy Story', 'profile_path': '/oGE6JqPP2xH4tNORKNqxbNPYi7u.jpg', 'popularity': 21.946943, 'genres': \"[{'id': 16, 'name': 'Animation'}, {'id': 35, 'name': 'Comedy'}, {'id': 10751, 'name': 'Family'}]\", 'vote_average': 7.7, 'overview': \"Led by Woody, Andy's toys live happily in his room until Andy's birthday brings Buzz Lightyear onto the scene. Afraid of losing his place in Andy's heart, Woody plots against Buzz. But when circumstances separate Buzz and Woody from their owner, the duo eventually learns to put aside their differences.\", 'poster_path': '/rhIRbceoE9lR4veEXuwCC2wARtG.jpg', 'release_date': '1995-10-30', 'revenue': 373554033.0, 'runtime': 81.0, 'spoken_languages': \"[{'iso_639_1': 'en', 'name': 'English'}]\", 'tagline': nan, 'title': 'Toy Story'}, 62: {}})\n"
     ]
    }
   ],
   "source": [
    "pprint.pprint(master_graph.nodes.data())"
   ]
  },
  {
   "cell_type": "code",
   "execution_count": 110,
   "metadata": {},
   "outputs": [
    {
     "ename": "NetworkXNoCycle",
     "evalue": "No cycle found.",
     "output_type": "error",
     "traceback": [
      "\u001b[0;31m---------------------------------------------------------------------------\u001b[0m",
      "\u001b[0;31mNetworkXNoCycle\u001b[0m                           Traceback (most recent call last)",
      "\u001b[0;32m<ipython-input-110-f71e19d29692>\u001b[0m in \u001b[0;36m<module>\u001b[0;34m\u001b[0m\n\u001b[0;32m----> 1\u001b[0;31m \u001b[0mnx\u001b[0m\u001b[0;34m.\u001b[0m\u001b[0mfind_cycle\u001b[0m\u001b[0;34m(\u001b[0m\u001b[0mmaster_graph\u001b[0m\u001b[0;34m)\u001b[0m\u001b[0;34m\u001b[0m\u001b[0;34m\u001b[0m\u001b[0m\n\u001b[0m",
      "\u001b[0;32m/anaconda3/lib/python3.7/site-packages/networkx/algorithms/cycles.py\u001b[0m in \u001b[0;36mfind_cycle\u001b[0;34m(G, source, orientation)\u001b[0m\n\u001b[1;32m    469\u001b[0m     \u001b[0;32melse\u001b[0m\u001b[0;34m:\u001b[0m\u001b[0;34m\u001b[0m\u001b[0;34m\u001b[0m\u001b[0m\n\u001b[1;32m    470\u001b[0m         \u001b[0;32massert\u001b[0m\u001b[0;34m(\u001b[0m\u001b[0mlen\u001b[0m\u001b[0;34m(\u001b[0m\u001b[0mcycle\u001b[0m\u001b[0;34m)\u001b[0m \u001b[0;34m==\u001b[0m \u001b[0;36m0\u001b[0m\u001b[0;34m)\u001b[0m\u001b[0;34m\u001b[0m\u001b[0;34m\u001b[0m\u001b[0m\n\u001b[0;32m--> 471\u001b[0;31m         \u001b[0;32mraise\u001b[0m \u001b[0mnx\u001b[0m\u001b[0;34m.\u001b[0m\u001b[0mexception\u001b[0m\u001b[0;34m.\u001b[0m\u001b[0mNetworkXNoCycle\u001b[0m\u001b[0;34m(\u001b[0m\u001b[0;34m'No cycle found.'\u001b[0m\u001b[0;34m)\u001b[0m\u001b[0;34m\u001b[0m\u001b[0;34m\u001b[0m\u001b[0m\n\u001b[0m\u001b[1;32m    472\u001b[0m \u001b[0;34m\u001b[0m\u001b[0m\n\u001b[1;32m    473\u001b[0m     \u001b[0;31m# We now have a list of edges which ends on a cycle.\u001b[0m\u001b[0;34m\u001b[0m\u001b[0;34m\u001b[0m\u001b[0;34m\u001b[0m\u001b[0m\n",
      "\u001b[0;31mNetworkXNoCycle\u001b[0m: No cycle found."
     ]
    }
   ],
   "source": [
    "nx.find_cycle(master_graph)"
   ]
  },
  {
   "cell_type": "markdown",
   "metadata": {},
   "source": [
    "While iterating, I will have one edge, it will be the same, the actor. As well as one graph. Build the actors profile in an edge dictionary. Then, build the set of nodes. Then create all combinations of nodes with the same edge, and place them into the multigraph. "
   ]
  },
  {
   "cell_type": "code",
   "execution_count": 136,
   "metadata": {},
   "outputs": [],
   "source": [
    "A2 = nx.nx_agraph.to_agraph(master_graph) \n",
    "A2.write('/Users/bjg/Desktop/graph.txt')"
   ]
  },
  {
   "cell_type": "code",
   "execution_count": 102,
   "metadata": {},
   "outputs": [
    {
     "data": {
      "text/plain": [
       "{'id_movie': 285135,\n",
       " 'original_title': 'Zodiac',\n",
       " 'profile_path': '/922dX7dP43qvKmqodz6akxdfJ5p.jpg',\n",
       " 'popularity': 3.2997300000000003,\n",
       " 'genres': \"[{'id': 878, 'name': 'Science Fiction'}, {'id': 10770, 'name': 'TV Movie'}]\",\n",
       " 'vote_average': 3.8,\n",
       " 'overview': 'A 2,000-year-old astrology board possesses deadly powers that threaten the fate of humanity.',\n",
       " 'poster_path': '/dafW2jgYi345RLn4cFoyCol4mUk.jpg',\n",
       " 'release_date': '2014-08-16',\n",
       " 'revenue': 0.0,\n",
       " 'runtime': 89.0,\n",
       " 'spoken_languages': \"[{'iso_639_1': 'en', 'name': 'English'}]\",\n",
       " 'tagline': 'The Signs are Everywhere',\n",
       " 'title': 'Zodiac'}"
      ]
     },
     "execution_count": 102,
     "metadata": {},
     "output_type": "execute_result"
    }
   ],
   "source": [
    "master_graph.node['Zodiac']"
   ]
  },
  {
   "cell_type": "code",
   "execution_count": 111,
   "metadata": {},
   "outputs": [
    {
     "data": {
      "text/plain": [
       "4"
      ]
     },
     "execution_count": 111,
     "metadata": {},
     "output_type": "execute_result"
    }
   ],
   "source": [
    "nx.number_of_nodes(master_graph)"
   ]
  },
  {
   "cell_type": "code",
   "execution_count": 122,
   "metadata": {},
   "outputs": [
    {
     "data": {
      "image/png": "[encoded data removed]",
      "text/plain": [
       "<Figure size 432x288 with 1 Axes>"
      ]
     },
     "metadata": {},
     "output_type": "display_data"
    }
   ],
   "source": [
    "nx.draw(master_graph)"
   ]
  },
  {
   "cell_type": "code",
   "execution_count": 135,
   "metadata": {},
   "outputs": [
    {
     "data": {
      "image/png": "[encoded data removed]",
      "text/plain": [
       "<Figure size 432x288 with 1 Axes>"
      ]
     },
     "metadata": {},
     "output_type": "display_data"
    }
   ],
   "source": [
    "nx.draw(master_graph)"
   ]
  },
  {
   "cell_type": "code",
   "execution_count": 140,
   "metadata": {},
   "outputs": [],
   "source": [
    "import pickle\n",
    "with open('../data/neo4j_grpby.pkl', 'wb') as fl:\n",
    "    pickle.dump(actors_filmography_group, fl)"
   ]
  },
  {
   "cell_type": "code",
   "execution_count": 149,
   "metadata": {},
   "outputs": [],
   "source": [
    "stop = 3\n",
    "my_neo_dfs = []\n",
    "for i, film in enumerate(actors_filmography_group):\n",
    "    my_neo_dfs.append(film[1])\n",
    "    if stop == 3:\n",
    "        break\n",
    "    stop += 1"
   ]
  },
  {
   "cell_type": "code",
   "execution_count": 161,
   "metadata": {
    "collapsed": true
   },
   "outputs": [
    {
     "ename": "KeyboardInterrupt",
     "evalue": "",
     "output_type": "error",
     "traceback": [
      "\u001b[0;31m---------------------------------------------------------------------------\u001b[0m",
      "\u001b[0;31mKeyboardInterrupt\u001b[0m                         Traceback (most recent call last)",
      "\u001b[0;32m<ipython-input-161-4abb7db3c460>\u001b[0m in \u001b[0;36m<module>\u001b[0;34m\u001b[0m\n\u001b[1;32m      1\u001b[0m \u001b[0;34m\u001b[0m\u001b[0m\n\u001b[0;32m----> 2\u001b[0;31m \u001b[0;32mfor\u001b[0m \u001b[0mact\u001b[0m \u001b[0;32min\u001b[0m \u001b[0mactors_filmography_group\u001b[0m\u001b[0;34m:\u001b[0m\u001b[0;34m\u001b[0m\u001b[0;34m\u001b[0m\u001b[0m\n\u001b[0m\u001b[1;32m      3\u001b[0m     \u001b[0mr\u001b[0m \u001b[0;34m=\u001b[0m \u001b[0mact\u001b[0m\u001b[0;34m[\u001b[0m\u001b[0;36m1\u001b[0m\u001b[0;34m]\u001b[0m\u001b[0;34m\u001b[0m\u001b[0;34m\u001b[0m\u001b[0m\n\u001b[1;32m      4\u001b[0m \u001b[0;34m\u001b[0m\u001b[0m\n",
      "\u001b[0;32m/anaconda3/lib/python3.7/site-packages/pandas/core/groupby/groupby.py\u001b[0m in \u001b[0;36mget_iterator\u001b[0;34m(self, data, axis)\u001b[0m\n\u001b[1;32m   2226\u001b[0m         \u001b[0msplitter\u001b[0m \u001b[0;34m=\u001b[0m \u001b[0mself\u001b[0m\u001b[0;34m.\u001b[0m\u001b[0m_get_splitter\u001b[0m\u001b[0;34m(\u001b[0m\u001b[0mdata\u001b[0m\u001b[0;34m,\u001b[0m \u001b[0maxis\u001b[0m\u001b[0;34m=\u001b[0m\u001b[0maxis\u001b[0m\u001b[0;34m)\u001b[0m\u001b[0;34m\u001b[0m\u001b[0;34m\u001b[0m\u001b[0m\n\u001b[1;32m   2227\u001b[0m         \u001b[0mkeys\u001b[0m \u001b[0;34m=\u001b[0m \u001b[0mself\u001b[0m\u001b[0;34m.\u001b[0m\u001b[0m_get_group_keys\u001b[0m\u001b[0;34m(\u001b[0m\u001b[0;34m)\u001b[0m\u001b[0;34m\u001b[0m\u001b[0;34m\u001b[0m\u001b[0m\n\u001b[0;32m-> 2228\u001b[0;31m         \u001b[0;32mfor\u001b[0m \u001b[0mkey\u001b[0m\u001b[0;34m,\u001b[0m \u001b[0;34m(\u001b[0m\u001b[0mi\u001b[0m\u001b[0;34m,\u001b[0m \u001b[0mgroup\u001b[0m\u001b[0;34m)\u001b[0m \u001b[0;32min\u001b[0m \u001b[0mzip\u001b[0m\u001b[0;34m(\u001b[0m\u001b[0mkeys\u001b[0m\u001b[0;34m,\u001b[0m \u001b[0msplitter\u001b[0m\u001b[0;34m)\u001b[0m\u001b[0;34m:\u001b[0m\u001b[0;34m\u001b[0m\u001b[0;34m\u001b[0m\u001b[0m\n\u001b[0m\u001b[1;32m   2229\u001b[0m             \u001b[0;32myield\u001b[0m \u001b[0mkey\u001b[0m\u001b[0;34m,\u001b[0m \u001b[0mgroup\u001b[0m\u001b[0;34m\u001b[0m\u001b[0;34m\u001b[0m\u001b[0m\n\u001b[1;32m   2230\u001b[0m \u001b[0;34m\u001b[0m\u001b[0m\n",
      "\u001b[0;32m/anaconda3/lib/python3.7/site-packages/pandas/core/groupby/groupby.py\u001b[0m in \u001b[0;36m__iter__\u001b[0;34m(self)\u001b[0m\n\u001b[1;32m   5053\u001b[0m             \u001b[0;31m#     raise AssertionError('Start %s must be less than end %s'\u001b[0m\u001b[0;34m\u001b[0m\u001b[0;34m\u001b[0m\u001b[0;34m\u001b[0m\u001b[0m\n\u001b[1;32m   5054\u001b[0m             \u001b[0;31m#                          % (str(start), str(end)))\u001b[0m\u001b[0;34m\u001b[0m\u001b[0;34m\u001b[0m\u001b[0;34m\u001b[0m\u001b[0m\n\u001b[0;32m-> 5055\u001b[0;31m             \u001b[0;32myield\u001b[0m \u001b[0mi\u001b[0m\u001b[0;34m,\u001b[0m \u001b[0mself\u001b[0m\u001b[0;34m.\u001b[0m\u001b[0m_chop\u001b[0m\u001b[0;34m(\u001b[0m\u001b[0msdata\u001b[0m\u001b[0;34m,\u001b[0m \u001b[0mslice\u001b[0m\u001b[0;34m(\u001b[0m\u001b[0mstart\u001b[0m\u001b[0;34m,\u001b[0m \u001b[0mend\u001b[0m\u001b[0;34m)\u001b[0m\u001b[0;34m)\u001b[0m\u001b[0;34m\u001b[0m\u001b[0;34m\u001b[0m\u001b[0m\n\u001b[0m\u001b[1;32m   5056\u001b[0m \u001b[0;34m\u001b[0m\u001b[0m\n\u001b[1;32m   5057\u001b[0m     \u001b[0;32mdef\u001b[0m \u001b[0m_get_sorted_data\u001b[0m\u001b[0;34m(\u001b[0m\u001b[0mself\u001b[0m\u001b[0;34m)\u001b[0m\u001b[0;34m:\u001b[0m\u001b[0;34m\u001b[0m\u001b[0;34m\u001b[0m\u001b[0m\n",
      "\u001b[0;32m/anaconda3/lib/python3.7/site-packages/pandas/core/groupby/groupby.py\u001b[0m in \u001b[0;36m_chop\u001b[0;34m(self, sdata, slice_obj)\u001b[0m\n\u001b[1;32m   5092\u001b[0m     \u001b[0;32mdef\u001b[0m \u001b[0m_chop\u001b[0m\u001b[0;34m(\u001b[0m\u001b[0mself\u001b[0m\u001b[0;34m,\u001b[0m \u001b[0msdata\u001b[0m\u001b[0;34m,\u001b[0m \u001b[0mslice_obj\u001b[0m\u001b[0;34m)\u001b[0m\u001b[0;34m:\u001b[0m\u001b[0;34m\u001b[0m\u001b[0;34m\u001b[0m\u001b[0m\n\u001b[1;32m   5093\u001b[0m         \u001b[0;32mif\u001b[0m \u001b[0mself\u001b[0m\u001b[0;34m.\u001b[0m\u001b[0maxis\u001b[0m \u001b[0;34m==\u001b[0m \u001b[0;36m0\u001b[0m\u001b[0;34m:\u001b[0m\u001b[0;34m\u001b[0m\u001b[0;34m\u001b[0m\u001b[0m\n\u001b[0;32m-> 5094\u001b[0;31m             \u001b[0;32mreturn\u001b[0m \u001b[0msdata\u001b[0m\u001b[0;34m.\u001b[0m\u001b[0miloc\u001b[0m\u001b[0;34m[\u001b[0m\u001b[0mslice_obj\u001b[0m\u001b[0;34m]\u001b[0m\u001b[0;34m\u001b[0m\u001b[0;34m\u001b[0m\u001b[0m\n\u001b[0m\u001b[1;32m   5095\u001b[0m         \u001b[0;32melse\u001b[0m\u001b[0;34m:\u001b[0m\u001b[0;34m\u001b[0m\u001b[0;34m\u001b[0m\u001b[0m\n\u001b[1;32m   5096\u001b[0m             \u001b[0;32mreturn\u001b[0m \u001b[0msdata\u001b[0m\u001b[0;34m.\u001b[0m\u001b[0m_slice\u001b[0m\u001b[0;34m(\u001b[0m\u001b[0mslice_obj\u001b[0m\u001b[0;34m,\u001b[0m \u001b[0maxis\u001b[0m\u001b[0;34m=\u001b[0m\u001b[0;36m1\u001b[0m\u001b[0;34m)\u001b[0m  \u001b[0;31m# .loc[:, slice_obj]\u001b[0m\u001b[0;34m\u001b[0m\u001b[0;34m\u001b[0m\u001b[0m\n",
      "\u001b[0;32m/anaconda3/lib/python3.7/site-packages/pandas/core/indexing.py\u001b[0m in \u001b[0;36m__getitem__\u001b[0;34m(self, key)\u001b[0m\n\u001b[1;32m   1476\u001b[0m \u001b[0;34m\u001b[0m\u001b[0m\n\u001b[1;32m   1477\u001b[0m             \u001b[0mmaybe_callable\u001b[0m \u001b[0;34m=\u001b[0m \u001b[0mcom\u001b[0m\u001b[0;34m.\u001b[0m\u001b[0m_apply_if_callable\u001b[0m\u001b[0;34m(\u001b[0m\u001b[0mkey\u001b[0m\u001b[0;34m,\u001b[0m \u001b[0mself\u001b[0m\u001b[0;34m.\u001b[0m\u001b[0mobj\u001b[0m\u001b[0;34m)\u001b[0m\u001b[0;34m\u001b[0m\u001b[0;34m\u001b[0m\u001b[0m\n\u001b[0;32m-> 1478\u001b[0;31m             \u001b[0;32mreturn\u001b[0m \u001b[0mself\u001b[0m\u001b[0;34m.\u001b[0m\u001b[0m_getitem_axis\u001b[0m\u001b[0;34m(\u001b[0m\u001b[0mmaybe_callable\u001b[0m\u001b[0;34m,\u001b[0m \u001b[0maxis\u001b[0m\u001b[0;34m=\u001b[0m\u001b[0maxis\u001b[0m\u001b[0;34m)\u001b[0m\u001b[0;34m\u001b[0m\u001b[0;34m\u001b[0m\u001b[0m\n\u001b[0m\u001b[1;32m   1479\u001b[0m \u001b[0;34m\u001b[0m\u001b[0m\n\u001b[1;32m   1480\u001b[0m     \u001b[0;32mdef\u001b[0m \u001b[0m_is_scalar_access\u001b[0m\u001b[0;34m(\u001b[0m\u001b[0mself\u001b[0m\u001b[0;34m,\u001b[0m \u001b[0mkey\u001b[0m\u001b[0;34m)\u001b[0m\u001b[0;34m:\u001b[0m\u001b[0;34m\u001b[0m\u001b[0;34m\u001b[0m\u001b[0m\n",
      "\u001b[0;32m/anaconda3/lib/python3.7/site-packages/pandas/core/indexing.py\u001b[0m in \u001b[0;36m_getitem_axis\u001b[0;34m(self, key, axis)\u001b[0m\n\u001b[1;32m   2078\u001b[0m \u001b[0;34m\u001b[0m\u001b[0m\n\u001b[1;32m   2079\u001b[0m         \u001b[0;32mif\u001b[0m \u001b[0misinstance\u001b[0m\u001b[0;34m(\u001b[0m\u001b[0mkey\u001b[0m\u001b[0;34m,\u001b[0m \u001b[0mslice\u001b[0m\u001b[0;34m)\u001b[0m\u001b[0;34m:\u001b[0m\u001b[0;34m\u001b[0m\u001b[0;34m\u001b[0m\u001b[0m\n\u001b[0;32m-> 2080\u001b[0;31m             \u001b[0;32mreturn\u001b[0m \u001b[0mself\u001b[0m\u001b[0;34m.\u001b[0m\u001b[0m_get_slice_axis\u001b[0m\u001b[0;34m(\u001b[0m\u001b[0mkey\u001b[0m\u001b[0;34m,\u001b[0m \u001b[0maxis\u001b[0m\u001b[0;34m=\u001b[0m\u001b[0maxis\u001b[0m\u001b[0;34m)\u001b[0m\u001b[0;34m\u001b[0m\u001b[0;34m\u001b[0m\u001b[0m\n\u001b[0m\u001b[1;32m   2081\u001b[0m \u001b[0;34m\u001b[0m\u001b[0m\n\u001b[1;32m   2082\u001b[0m         \u001b[0;32mif\u001b[0m \u001b[0misinstance\u001b[0m\u001b[0;34m(\u001b[0m\u001b[0mkey\u001b[0m\u001b[0;34m,\u001b[0m \u001b[0mlist\u001b[0m\u001b[0;34m)\u001b[0m\u001b[0;34m:\u001b[0m\u001b[0;34m\u001b[0m\u001b[0;34m\u001b[0m\u001b[0m\n",
      "\u001b[0;32m/anaconda3/lib/python3.7/site-packages/pandas/core/indexing.py\u001b[0m in \u001b[0;36m_get_slice_axis\u001b[0;34m(self, slice_obj, axis)\u001b[0m\n\u001b[1;32m   2048\u001b[0m         \u001b[0mslice_obj\u001b[0m \u001b[0;34m=\u001b[0m \u001b[0mself\u001b[0m\u001b[0;34m.\u001b[0m\u001b[0m_convert_slice_indexer\u001b[0m\u001b[0;34m(\u001b[0m\u001b[0mslice_obj\u001b[0m\u001b[0;34m,\u001b[0m \u001b[0maxis\u001b[0m\u001b[0;34m)\u001b[0m\u001b[0;34m\u001b[0m\u001b[0;34m\u001b[0m\u001b[0m\n\u001b[1;32m   2049\u001b[0m         \u001b[0;32mif\u001b[0m \u001b[0misinstance\u001b[0m\u001b[0;34m(\u001b[0m\u001b[0mslice_obj\u001b[0m\u001b[0;34m,\u001b[0m \u001b[0mslice\u001b[0m\u001b[0;34m)\u001b[0m\u001b[0;34m:\u001b[0m\u001b[0;34m\u001b[0m\u001b[0;34m\u001b[0m\u001b[0m\n\u001b[0;32m-> 2050\u001b[0;31m             \u001b[0;32mreturn\u001b[0m \u001b[0mself\u001b[0m\u001b[0;34m.\u001b[0m\u001b[0m_slice\u001b[0m\u001b[0;34m(\u001b[0m\u001b[0mslice_obj\u001b[0m\u001b[0;34m,\u001b[0m \u001b[0maxis\u001b[0m\u001b[0;34m=\u001b[0m\u001b[0maxis\u001b[0m\u001b[0;34m,\u001b[0m \u001b[0mkind\u001b[0m\u001b[0;34m=\u001b[0m\u001b[0;34m'iloc'\u001b[0m\u001b[0;34m)\u001b[0m\u001b[0;34m\u001b[0m\u001b[0;34m\u001b[0m\u001b[0m\n\u001b[0m\u001b[1;32m   2051\u001b[0m         \u001b[0;32melse\u001b[0m\u001b[0;34m:\u001b[0m\u001b[0;34m\u001b[0m\u001b[0;34m\u001b[0m\u001b[0m\n\u001b[1;32m   2052\u001b[0m             \u001b[0;32mreturn\u001b[0m \u001b[0mself\u001b[0m\u001b[0;34m.\u001b[0m\u001b[0mobj\u001b[0m\u001b[0;34m.\u001b[0m\u001b[0m_take\u001b[0m\u001b[0;34m(\u001b[0m\u001b[0mslice_obj\u001b[0m\u001b[0;34m,\u001b[0m \u001b[0maxis\u001b[0m\u001b[0;34m=\u001b[0m\u001b[0maxis\u001b[0m\u001b[0;34m)\u001b[0m\u001b[0;34m\u001b[0m\u001b[0;34m\u001b[0m\u001b[0m\n",
      "\u001b[0;32m/anaconda3/lib/python3.7/site-packages/pandas/core/indexing.py\u001b[0m in \u001b[0;36m_slice\u001b[0;34m(self, obj, axis, kind)\u001b[0m\n\u001b[1;32m    148\u001b[0m         \u001b[0;32mif\u001b[0m \u001b[0maxis\u001b[0m \u001b[0;32mis\u001b[0m \u001b[0;32mNone\u001b[0m\u001b[0;34m:\u001b[0m\u001b[0;34m\u001b[0m\u001b[0;34m\u001b[0m\u001b[0m\n\u001b[1;32m    149\u001b[0m             \u001b[0maxis\u001b[0m \u001b[0;34m=\u001b[0m \u001b[0mself\u001b[0m\u001b[0;34m.\u001b[0m\u001b[0maxis\u001b[0m\u001b[0;34m\u001b[0m\u001b[0;34m\u001b[0m\u001b[0m\n\u001b[0;32m--> 150\u001b[0;31m         \u001b[0;32mreturn\u001b[0m \u001b[0mself\u001b[0m\u001b[0;34m.\u001b[0m\u001b[0mobj\u001b[0m\u001b[0;34m.\u001b[0m\u001b[0m_slice\u001b[0m\u001b[0;34m(\u001b[0m\u001b[0mobj\u001b[0m\u001b[0;34m,\u001b[0m \u001b[0maxis\u001b[0m\u001b[0;34m=\u001b[0m\u001b[0maxis\u001b[0m\u001b[0;34m,\u001b[0m \u001b[0mkind\u001b[0m\u001b[0;34m=\u001b[0m\u001b[0mkind\u001b[0m\u001b[0;34m)\u001b[0m\u001b[0;34m\u001b[0m\u001b[0;34m\u001b[0m\u001b[0m\n\u001b[0m\u001b[1;32m    151\u001b[0m \u001b[0;34m\u001b[0m\u001b[0m\n\u001b[1;32m    152\u001b[0m     \u001b[0;32mdef\u001b[0m \u001b[0m_get_setitem_indexer\u001b[0m\u001b[0;34m(\u001b[0m\u001b[0mself\u001b[0m\u001b[0;34m,\u001b[0m \u001b[0mkey\u001b[0m\u001b[0;34m)\u001b[0m\u001b[0;34m:\u001b[0m\u001b[0;34m\u001b[0m\u001b[0;34m\u001b[0m\u001b[0m\n",
      "\u001b[0;32m/anaconda3/lib/python3.7/site-packages/pandas/core/generic.py\u001b[0m in \u001b[0;36m_slice\u001b[0;34m(self, slobj, axis, kind)\u001b[0m\n\u001b[1;32m   2588\u001b[0m         \"\"\"\n\u001b[1;32m   2589\u001b[0m         \u001b[0maxis\u001b[0m \u001b[0;34m=\u001b[0m \u001b[0mself\u001b[0m\u001b[0;34m.\u001b[0m\u001b[0m_get_block_manager_axis\u001b[0m\u001b[0;34m(\u001b[0m\u001b[0maxis\u001b[0m\u001b[0;34m)\u001b[0m\u001b[0;34m\u001b[0m\u001b[0;34m\u001b[0m\u001b[0m\n\u001b[0;32m-> 2590\u001b[0;31m         \u001b[0mresult\u001b[0m \u001b[0;34m=\u001b[0m \u001b[0mself\u001b[0m\u001b[0;34m.\u001b[0m\u001b[0m_constructor\u001b[0m\u001b[0;34m(\u001b[0m\u001b[0mself\u001b[0m\u001b[0;34m.\u001b[0m\u001b[0m_data\u001b[0m\u001b[0;34m.\u001b[0m\u001b[0mget_slice\u001b[0m\u001b[0;34m(\u001b[0m\u001b[0mslobj\u001b[0m\u001b[0;34m,\u001b[0m \u001b[0maxis\u001b[0m\u001b[0;34m=\u001b[0m\u001b[0maxis\u001b[0m\u001b[0;34m)\u001b[0m\u001b[0;34m)\u001b[0m\u001b[0;34m\u001b[0m\u001b[0;34m\u001b[0m\u001b[0m\n\u001b[0m\u001b[1;32m   2591\u001b[0m         \u001b[0mresult\u001b[0m \u001b[0;34m=\u001b[0m \u001b[0mresult\u001b[0m\u001b[0;34m.\u001b[0m\u001b[0m__finalize__\u001b[0m\u001b[0;34m(\u001b[0m\u001b[0mself\u001b[0m\u001b[0;34m)\u001b[0m\u001b[0;34m\u001b[0m\u001b[0;34m\u001b[0m\u001b[0m\n\u001b[1;32m   2592\u001b[0m \u001b[0;34m\u001b[0m\u001b[0m\n",
      "\u001b[0;32m/anaconda3/lib/python3.7/site-packages/pandas/core/internals.py\u001b[0m in \u001b[0;36mget_slice\u001b[0;34m(self, slobj, axis)\u001b[0m\n\u001b[1;32m   3880\u001b[0m \u001b[0;34m\u001b[0m\u001b[0m\n\u001b[1;32m   3881\u001b[0m         \u001b[0mnew_axes\u001b[0m \u001b[0;34m=\u001b[0m \u001b[0mlist\u001b[0m\u001b[0;34m(\u001b[0m\u001b[0mself\u001b[0m\u001b[0;34m.\u001b[0m\u001b[0maxes\u001b[0m\u001b[0;34m)\u001b[0m\u001b[0;34m\u001b[0m\u001b[0;34m\u001b[0m\u001b[0m\n\u001b[0;32m-> 3882\u001b[0;31m         \u001b[0mnew_axes\u001b[0m\u001b[0;34m[\u001b[0m\u001b[0maxis\u001b[0m\u001b[0;34m]\u001b[0m \u001b[0;34m=\u001b[0m \u001b[0mnew_axes\u001b[0m\u001b[0;34m[\u001b[0m\u001b[0maxis\u001b[0m\u001b[0;34m]\u001b[0m\u001b[0;34m[\u001b[0m\u001b[0mslobj\u001b[0m\u001b[0;34m]\u001b[0m\u001b[0;34m\u001b[0m\u001b[0;34m\u001b[0m\u001b[0m\n\u001b[0m\u001b[1;32m   3883\u001b[0m \u001b[0;34m\u001b[0m\u001b[0m\n\u001b[1;32m   3884\u001b[0m         \u001b[0mbm\u001b[0m \u001b[0;34m=\u001b[0m \u001b[0mself\u001b[0m\u001b[0;34m.\u001b[0m\u001b[0m__class__\u001b[0m\u001b[0;34m(\u001b[0m\u001b[0mnew_blocks\u001b[0m\u001b[0;34m,\u001b[0m \u001b[0mnew_axes\u001b[0m\u001b[0;34m,\u001b[0m \u001b[0mdo_integrity_check\u001b[0m\u001b[0;34m=\u001b[0m\u001b[0;32mFalse\u001b[0m\u001b[0;34m)\u001b[0m\u001b[0;34m\u001b[0m\u001b[0;34m\u001b[0m\u001b[0m\n",
      "\u001b[0;32m/anaconda3/lib/python3.7/site-packages/pandas/core/indexes/base.py\u001b[0m in \u001b[0;36m__getitem__\u001b[0;34m(self, key)\u001b[0m\n\u001b[1;32m   2087\u001b[0m             \u001b[0;31m# This case is separated from the conditional above to avoid\u001b[0m\u001b[0;34m\u001b[0m\u001b[0;34m\u001b[0m\u001b[0;34m\u001b[0m\u001b[0m\n\u001b[1;32m   2088\u001b[0m             \u001b[0;31m# pessimization of basic indexing.\u001b[0m\u001b[0;34m\u001b[0m\u001b[0;34m\u001b[0m\u001b[0;34m\u001b[0m\u001b[0m\n\u001b[0;32m-> 2089\u001b[0;31m             \u001b[0;32mreturn\u001b[0m \u001b[0mpromote\u001b[0m\u001b[0;34m(\u001b[0m\u001b[0mgetitem\u001b[0m\u001b[0;34m(\u001b[0m\u001b[0mkey\u001b[0m\u001b[0;34m)\u001b[0m\u001b[0;34m)\u001b[0m\u001b[0;34m\u001b[0m\u001b[0;34m\u001b[0m\u001b[0m\n\u001b[0m\u001b[1;32m   2090\u001b[0m \u001b[0;34m\u001b[0m\u001b[0m\n\u001b[1;32m   2091\u001b[0m         \u001b[0;32mif\u001b[0m \u001b[0mcom\u001b[0m\u001b[0;34m.\u001b[0m\u001b[0mis_bool_indexer\u001b[0m\u001b[0;34m(\u001b[0m\u001b[0mkey\u001b[0m\u001b[0;34m)\u001b[0m\u001b[0;34m:\u001b[0m\u001b[0;34m\u001b[0m\u001b[0;34m\u001b[0m\u001b[0m\n",
      "\u001b[0;32m/anaconda3/lib/python3.7/site-packages/pandas/core/indexes/numeric.py\u001b[0m in \u001b[0;36m_shallow_copy\u001b[0;34m(self, values, **kwargs)\u001b[0m\n\u001b[1;32m     66\u001b[0m         \u001b[0;32mif\u001b[0m \u001b[0mvalues\u001b[0m \u001b[0;32mis\u001b[0m \u001b[0;32mnot\u001b[0m \u001b[0;32mNone\u001b[0m \u001b[0;32mand\u001b[0m \u001b[0;32mnot\u001b[0m \u001b[0mself\u001b[0m\u001b[0;34m.\u001b[0m\u001b[0m_can_hold_na\u001b[0m\u001b[0;34m:\u001b[0m\u001b[0;34m\u001b[0m\u001b[0;34m\u001b[0m\u001b[0m\n\u001b[1;32m     67\u001b[0m             \u001b[0;31m# Ensure we are not returning an Int64Index with float data:\u001b[0m\u001b[0;34m\u001b[0m\u001b[0;34m\u001b[0m\u001b[0;34m\u001b[0m\u001b[0m\n\u001b[0;32m---> 68\u001b[0;31m             \u001b[0;32mreturn\u001b[0m \u001b[0mself\u001b[0m\u001b[0;34m.\u001b[0m\u001b[0m_shallow_copy_with_infer\u001b[0m\u001b[0;34m(\u001b[0m\u001b[0mvalues\u001b[0m\u001b[0;34m=\u001b[0m\u001b[0mvalues\u001b[0m\u001b[0;34m,\u001b[0m \u001b[0;34m**\u001b[0m\u001b[0mkwargs\u001b[0m\u001b[0;34m)\u001b[0m\u001b[0;34m\u001b[0m\u001b[0;34m\u001b[0m\u001b[0m\n\u001b[0m\u001b[1;32m     69\u001b[0m         return (super(NumericIndex, self)._shallow_copy(values=values,\n\u001b[1;32m     70\u001b[0m                                                         **kwargs))\n",
      "\u001b[0;32m/anaconda3/lib/python3.7/site-packages/pandas/core/indexes/base.py\u001b[0m in \u001b[0;36m_shallow_copy_with_infer\u001b[0;34m(self, values, **kwargs)\u001b[0m\n\u001b[1;32m    543\u001b[0m             \u001b[0;32mexcept\u001b[0m \u001b[0;34m(\u001b[0m\u001b[0mTypeError\u001b[0m\u001b[0;34m,\u001b[0m \u001b[0mValueError\u001b[0m\u001b[0;34m)\u001b[0m\u001b[0;34m:\u001b[0m\u001b[0;34m\u001b[0m\u001b[0;34m\u001b[0m\u001b[0m\n\u001b[1;32m    544\u001b[0m                 \u001b[0;32mpass\u001b[0m\u001b[0;34m\u001b[0m\u001b[0;34m\u001b[0m\u001b[0m\n\u001b[0;32m--> 545\u001b[0;31m         \u001b[0;32mreturn\u001b[0m \u001b[0mIndex\u001b[0m\u001b[0;34m(\u001b[0m\u001b[0mvalues\u001b[0m\u001b[0;34m,\u001b[0m \u001b[0;34m**\u001b[0m\u001b[0mattributes\u001b[0m\u001b[0;34m)\u001b[0m\u001b[0;34m\u001b[0m\u001b[0;34m\u001b[0m\u001b[0m\n\u001b[0m\u001b[1;32m    546\u001b[0m \u001b[0;34m\u001b[0m\u001b[0m\n\u001b[1;32m    547\u001b[0m     \u001b[0;32mdef\u001b[0m \u001b[0m_deepcopy_if_needed\u001b[0m\u001b[0;34m(\u001b[0m\u001b[0mself\u001b[0m\u001b[0;34m,\u001b[0m \u001b[0morig\u001b[0m\u001b[0;34m,\u001b[0m \u001b[0mcopy\u001b[0m\u001b[0;34m=\u001b[0m\u001b[0;32mFalse\u001b[0m\u001b[0;34m)\u001b[0m\u001b[0;34m:\u001b[0m\u001b[0;34m\u001b[0m\u001b[0;34m\u001b[0m\u001b[0m\n",
      "\u001b[0;32m/anaconda3/lib/python3.7/site-packages/pandas/core/indexes/base.py\u001b[0m in \u001b[0;36m__new__\u001b[0;34m(cls, data, dtype, copy, name, fastpath, tupleize_cols, **kwargs)\u001b[0m\n\u001b[1;32m    262\u001b[0m             \u001b[0;32mreturn\u001b[0m \u001b[0mcls\u001b[0m\u001b[0;34m.\u001b[0m\u001b[0m_simple_new\u001b[0m\u001b[0;34m(\u001b[0m\u001b[0mdata\u001b[0m\u001b[0;34m,\u001b[0m \u001b[0mname\u001b[0m\u001b[0;34m)\u001b[0m\u001b[0;34m\u001b[0m\u001b[0;34m\u001b[0m\u001b[0m\n\u001b[1;32m    263\u001b[0m \u001b[0;34m\u001b[0m\u001b[0m\n\u001b[0;32m--> 264\u001b[0;31m         \u001b[0;32mfrom\u001b[0m \u001b[0;34m.\u001b[0m\u001b[0mrange\u001b[0m \u001b[0;32mimport\u001b[0m \u001b[0mRangeIndex\u001b[0m\u001b[0;34m\u001b[0m\u001b[0;34m\u001b[0m\u001b[0m\n\u001b[0m\u001b[1;32m    265\u001b[0m \u001b[0;34m\u001b[0m\u001b[0m\n\u001b[1;32m    266\u001b[0m         \u001b[0;31m# range\u001b[0m\u001b[0;34m\u001b[0m\u001b[0;34m\u001b[0m\u001b[0;34m\u001b[0m\u001b[0m\n",
      "\u001b[0;32m/anaconda3/lib/python3.7/importlib/_bootstrap.py\u001b[0m in \u001b[0;36mparent\u001b[0;34m(self)\u001b[0m\n",
      "\u001b[0;31mKeyboardInterrupt\u001b[0m: "
     ]
    }
   ],
   "source": [
    "\n",
    "for act in actors_filmography_group:\n",
    "    r = act[1]\n",
    "    "
   ]
  },
  {
   "cell_type": "code",
   "execution_count": 162,
   "metadata": {},
   "outputs": [
    {
     "data": {
      "text/html": [
       "<div>\n",
       "<style scoped>\n",
       "    .dataframe tbody tr th:only-of-type {\n",
       "        vertical-align: middle;\n",
       "    }\n",
       "\n",
       "    .dataframe tbody tr th {\n",
       "        vertical-align: top;\n",
       "    }\n",
       "\n",
       "    .dataframe thead th {\n",
       "        text-align: right;\n",
       "    }\n",
       "</style>\n",
       "<table border=\"1\" class=\"dataframe\">\n",
       "  <thead>\n",
       "    <tr style=\"text-align: right;\">\n",
       "      <th></th>\n",
       "      <th>cast_id</th>\n",
       "      <th>character</th>\n",
       "      <th>credit_id</th>\n",
       "      <th>gender</th>\n",
       "      <th>id_actor</th>\n",
       "      <th>movie</th>\n",
       "      <th>name</th>\n",
       "      <th>order</th>\n",
       "      <th>profile_path</th>\n",
       "      <th>genres</th>\n",
       "      <th>...</th>\n",
       "      <th>overview</th>\n",
       "      <th>popularity</th>\n",
       "      <th>poster_path</th>\n",
       "      <th>release_date</th>\n",
       "      <th>revenue</th>\n",
       "      <th>runtime</th>\n",
       "      <th>spoken_languages</th>\n",
       "      <th>tagline</th>\n",
       "      <th>title</th>\n",
       "      <th>vote_average</th>\n",
       "    </tr>\n",
       "  </thead>\n",
       "  <tbody>\n",
       "    <tr>\n",
       "      <th>491017</th>\n",
       "      <td>46.0</td>\n",
       "      <td>Male Raver</td>\n",
       "      <td>57ce5c3f92514160ce0010df</td>\n",
       "      <td>0.0</td>\n",
       "      <td>1469243.0</td>\n",
       "      <td>303858</td>\n",
       "      <td>Daniel K. Isaac</td>\n",
       "      <td>37.0</td>\n",
       "      <td>None</td>\n",
       "      <td>[{'id': 53, 'name': 'Thriller'}]</td>\n",
       "      <td>...</td>\n",
       "      <td>Financial TV host Lee Gates and his producer P...</td>\n",
       "      <td>11.953822</td>\n",
       "      <td>/4BKptydRqLY9dQoAghJJJmrJuwR.jpg</td>\n",
       "      <td>2016-05-12</td>\n",
       "      <td>93282604.0</td>\n",
       "      <td>98.0</td>\n",
       "      <td>[{'iso_639_1': 'en', 'name': 'English'}]</td>\n",
       "      <td>Not every conspiracy is a theory.</td>\n",
       "      <td>Money Monster</td>\n",
       "      <td>6.5</td>\n",
       "    </tr>\n",
       "  </tbody>\n",
       "</table>\n",
       "<p>1 rows × 23 columns</p>\n",
       "</div>"
      ],
      "text/plain": [
       "        cast_id   character                 credit_id  gender   id_actor  \\\n",
       "491017     46.0  Male Raver  57ce5c3f92514160ce0010df     0.0  1469243.0   \n",
       "\n",
       "         movie             name  order profile_path  \\\n",
       "491017  303858  Daniel K. Isaac   37.0         None   \n",
       "\n",
       "                                  genres     ...       \\\n",
       "491017  [{'id': 53, 'name': 'Thriller'}]     ...        \n",
       "\n",
       "                                                 overview  popularity  \\\n",
       "491017  Financial TV host Lee Gates and his producer P...   11.953822   \n",
       "\n",
       "                             poster_path release_date     revenue runtime  \\\n",
       "491017  /4BKptydRqLY9dQoAghJJJmrJuwR.jpg   2016-05-12  93282604.0    98.0   \n",
       "\n",
       "                                spoken_languages  \\\n",
       "491017  [{'iso_639_1': 'en', 'name': 'English'}]   \n",
       "\n",
       "                                  tagline          title vote_average  \n",
       "491017  Not every conspiracy is a theory.  Money Monster          6.5  \n",
       "\n",
       "[1 rows x 23 columns]"
      ]
     },
     "execution_count": 162,
     "metadata": {},
     "output_type": "execute_result"
    }
   ],
   "source": [
    "r"
   ]
  },
  {
   "cell_type": "code",
   "execution_count": 152,
   "metadata": {},
   "outputs": [
    {
     "data": {
      "text/html": [
       "<div>\n",
       "<style scoped>\n",
       "    .dataframe tbody tr th:only-of-type {\n",
       "        vertical-align: middle;\n",
       "    }\n",
       "\n",
       "    .dataframe tbody tr th {\n",
       "        vertical-align: top;\n",
       "    }\n",
       "\n",
       "    .dataframe thead th {\n",
       "        text-align: right;\n",
       "    }\n",
       "</style>\n",
       "<table border=\"1\" class=\"dataframe\">\n",
       "  <thead>\n",
       "    <tr style=\"text-align: right;\">\n",
       "      <th></th>\n",
       "      <th>cast_id</th>\n",
       "      <th>character</th>\n",
       "      <th>credit_id</th>\n",
       "      <th>gender</th>\n",
       "      <th>id_actor</th>\n",
       "      <th>movie</th>\n",
       "      <th>name</th>\n",
       "      <th>order</th>\n",
       "      <th>profile_path</th>\n",
       "      <th>genres</th>\n",
       "      <th>...</th>\n",
       "      <th>overview</th>\n",
       "      <th>popularity</th>\n",
       "      <th>poster_path</th>\n",
       "      <th>release_date</th>\n",
       "      <th>revenue</th>\n",
       "      <th>runtime</th>\n",
       "      <th>spoken_languages</th>\n",
       "      <th>tagline</th>\n",
       "      <th>title</th>\n",
       "      <th>vote_average</th>\n",
       "    </tr>\n",
       "  </thead>\n",
       "  <tbody>\n",
       "    <tr>\n",
       "      <th>0</th>\n",
       "      <td>17.0</td>\n",
       "      <td>Superintendent</td>\n",
       "      <td>52fe47039251416c7508b233</td>\n",
       "      <td>0.0</td>\n",
       "      <td>66773.0</td>\n",
       "      <td>17082</td>\n",
       "      <td>\\tCheung Chi-Sing</td>\n",
       "      <td>12.0</td>\n",
       "      <td>None</td>\n",
       "      <td>[{'id': 28, 'name': 'Action'}, {'id': 53, 'nam...</td>\n",
       "      <td>...</td>\n",
       "      <td>A police sniper teams up with a hot-headed roo...</td>\n",
       "      <td>3.04845</td>\n",
       "      <td>/wzzaD9L3kCCJEN97z4T3qnl7xdm.jpg</td>\n",
       "      <td>2009-03-24</td>\n",
       "      <td>0.0</td>\n",
       "      <td>90.0</td>\n",
       "      <td>[{'iso_639_1': 'cn', 'name': '广州话 / 廣州話'}, {'i...</td>\n",
       "      <td>NaN</td>\n",
       "      <td>The Sniper</td>\n",
       "      <td>5.9</td>\n",
       "    </tr>\n",
       "  </tbody>\n",
       "</table>\n",
       "<p>1 rows × 23 columns</p>\n",
       "</div>"
      ],
      "text/plain": [
       "   cast_id       character                 credit_id  gender  id_actor  movie  \\\n",
       "0     17.0  Superintendent  52fe47039251416c7508b233     0.0   66773.0  17082   \n",
       "\n",
       "                name  order profile_path  \\\n",
       "0  \\tCheung Chi-Sing   12.0         None   \n",
       "\n",
       "                                              genres     ...       \\\n",
       "0  [{'id': 28, 'name': 'Action'}, {'id': 53, 'nam...     ...        \n",
       "\n",
       "                                            overview  popularity  \\\n",
       "0  A police sniper teams up with a hot-headed roo...     3.04845   \n",
       "\n",
       "                        poster_path release_date revenue runtime  \\\n",
       "0  /wzzaD9L3kCCJEN97z4T3qnl7xdm.jpg   2009-03-24     0.0    90.0   \n",
       "\n",
       "                                    spoken_languages  tagline       title  \\\n",
       "0  [{'iso_639_1': 'cn', 'name': '广州话 / 廣州話'}, {'i...      NaN  The Sniper   \n",
       "\n",
       "  vote_average  \n",
       "0          5.9  \n",
       "\n",
       "[1 rows x 23 columns]"
      ]
     },
     "execution_count": 152,
     "metadata": {},
     "output_type": "execute_result"
    }
   ],
   "source": [
    "neo_concat"
   ]
  },
  {
   "cell_type": "code",
   "execution_count": 163,
   "metadata": {},
   "outputs": [
    {
     "data": {
      "text/html": [
       "<div>\n",
       "<style scoped>\n",
       "    .dataframe tbody tr th:only-of-type {\n",
       "        vertical-align: middle;\n",
       "    }\n",
       "\n",
       "    .dataframe tbody tr th {\n",
       "        vertical-align: top;\n",
       "    }\n",
       "\n",
       "    .dataframe thead th {\n",
       "        text-align: right;\n",
       "    }\n",
       "</style>\n",
       "<table border=\"1\" class=\"dataframe\">\n",
       "  <thead>\n",
       "    <tr style=\"text-align: right;\">\n",
       "      <th></th>\n",
       "      <th>cast_id</th>\n",
       "      <th>character</th>\n",
       "      <th>credit_id</th>\n",
       "      <th>gender</th>\n",
       "      <th>id_actor</th>\n",
       "      <th>movie</th>\n",
       "      <th>name</th>\n",
       "      <th>order</th>\n",
       "      <th>profile_path</th>\n",
       "      <th>genres</th>\n",
       "      <th>...</th>\n",
       "      <th>overview</th>\n",
       "      <th>popularity</th>\n",
       "      <th>poster_path</th>\n",
       "      <th>release_date</th>\n",
       "      <th>revenue</th>\n",
       "      <th>runtime</th>\n",
       "      <th>spoken_languages</th>\n",
       "      <th>tagline</th>\n",
       "      <th>title</th>\n",
       "      <th>vote_average</th>\n",
       "    </tr>\n",
       "  </thead>\n",
       "  <tbody>\n",
       "    <tr>\n",
       "      <th>0</th>\n",
       "      <td>14.0</td>\n",
       "      <td>Woody (voice)</td>\n",
       "      <td>52fe4284c3a36847f8024f95</td>\n",
       "      <td>2.0</td>\n",
       "      <td>31.0</td>\n",
       "      <td>862</td>\n",
       "      <td>Tom Hanks</td>\n",
       "      <td>0.0</td>\n",
       "      <td>/pQFoyx7rp09CJTAb932F2g8Nlho.jpg</td>\n",
       "      <td>[{'id': 16, 'name': 'Animation'}, {'id': 35, '...</td>\n",
       "      <td>...</td>\n",
       "      <td>Led by Woody, Andy's toys live happily in his ...</td>\n",
       "      <td>21.9469</td>\n",
       "      <td>/rhIRbceoE9lR4veEXuwCC2wARtG.jpg</td>\n",
       "      <td>1995-10-30</td>\n",
       "      <td>373554033.0</td>\n",
       "      <td>81.0</td>\n",
       "      <td>[{'iso_639_1': 'en', 'name': 'English'}]</td>\n",
       "      <td>NaN</td>\n",
       "      <td>Toy Story</td>\n",
       "      <td>7.7</td>\n",
       "    </tr>\n",
       "    <tr>\n",
       "      <th>1</th>\n",
       "      <td>15.0</td>\n",
       "      <td>Buzz Lightyear (voice)</td>\n",
       "      <td>52fe4284c3a36847f8024f99</td>\n",
       "      <td>2.0</td>\n",
       "      <td>12898.0</td>\n",
       "      <td>862</td>\n",
       "      <td>Tim Allen</td>\n",
       "      <td>1.0</td>\n",
       "      <td>/uX2xVf6pMmPepxnvFWyBtjexzgY.jpg</td>\n",
       "      <td>[{'id': 16, 'name': 'Animation'}, {'id': 35, '...</td>\n",
       "      <td>...</td>\n",
       "      <td>Led by Woody, Andy's toys live happily in his ...</td>\n",
       "      <td>21.9469</td>\n",
       "      <td>/rhIRbceoE9lR4veEXuwCC2wARtG.jpg</td>\n",
       "      <td>1995-10-30</td>\n",
       "      <td>373554033.0</td>\n",
       "      <td>81.0</td>\n",
       "      <td>[{'iso_639_1': 'en', 'name': 'English'}]</td>\n",
       "      <td>NaN</td>\n",
       "      <td>Toy Story</td>\n",
       "      <td>7.7</td>\n",
       "    </tr>\n",
       "    <tr>\n",
       "      <th>2</th>\n",
       "      <td>16.0</td>\n",
       "      <td>Mr. Potato Head (voice)</td>\n",
       "      <td>52fe4284c3a36847f8024f9d</td>\n",
       "      <td>2.0</td>\n",
       "      <td>7167.0</td>\n",
       "      <td>862</td>\n",
       "      <td>Don Rickles</td>\n",
       "      <td>2.0</td>\n",
       "      <td>/h5BcaDMPRVLHLDzbQavec4xfSdt.jpg</td>\n",
       "      <td>[{'id': 16, 'name': 'Animation'}, {'id': 35, '...</td>\n",
       "      <td>...</td>\n",
       "      <td>Led by Woody, Andy's toys live happily in his ...</td>\n",
       "      <td>21.9469</td>\n",
       "      <td>/rhIRbceoE9lR4veEXuwCC2wARtG.jpg</td>\n",
       "      <td>1995-10-30</td>\n",
       "      <td>373554033.0</td>\n",
       "      <td>81.0</td>\n",
       "      <td>[{'iso_639_1': 'en', 'name': 'English'}]</td>\n",
       "      <td>NaN</td>\n",
       "      <td>Toy Story</td>\n",
       "      <td>7.7</td>\n",
       "    </tr>\n",
       "    <tr>\n",
       "      <th>3</th>\n",
       "      <td>17.0</td>\n",
       "      <td>Slinky Dog (voice)</td>\n",
       "      <td>52fe4284c3a36847f8024fa1</td>\n",
       "      <td>2.0</td>\n",
       "      <td>12899.0</td>\n",
       "      <td>862</td>\n",
       "      <td>Jim Varney</td>\n",
       "      <td>3.0</td>\n",
       "      <td>/eIo2jVVXYgjDtaHoF19Ll9vtW7h.jpg</td>\n",
       "      <td>[{'id': 16, 'name': 'Animation'}, {'id': 35, '...</td>\n",
       "      <td>...</td>\n",
       "      <td>Led by Woody, Andy's toys live happily in his ...</td>\n",
       "      <td>21.9469</td>\n",
       "      <td>/rhIRbceoE9lR4veEXuwCC2wARtG.jpg</td>\n",
       "      <td>1995-10-30</td>\n",
       "      <td>373554033.0</td>\n",
       "      <td>81.0</td>\n",
       "      <td>[{'iso_639_1': 'en', 'name': 'English'}]</td>\n",
       "      <td>NaN</td>\n",
       "      <td>Toy Story</td>\n",
       "      <td>7.7</td>\n",
       "    </tr>\n",
       "    <tr>\n",
       "      <th>4</th>\n",
       "      <td>18.0</td>\n",
       "      <td>Rex (voice)</td>\n",
       "      <td>52fe4284c3a36847f8024fa5</td>\n",
       "      <td>2.0</td>\n",
       "      <td>12900.0</td>\n",
       "      <td>862</td>\n",
       "      <td>Wallace Shawn</td>\n",
       "      <td>4.0</td>\n",
       "      <td>/oGE6JqPP2xH4tNORKNqxbNPYi7u.jpg</td>\n",
       "      <td>[{'id': 16, 'name': 'Animation'}, {'id': 35, '...</td>\n",
       "      <td>...</td>\n",
       "      <td>Led by Woody, Andy's toys live happily in his ...</td>\n",
       "      <td>21.9469</td>\n",
       "      <td>/rhIRbceoE9lR4veEXuwCC2wARtG.jpg</td>\n",
       "      <td>1995-10-30</td>\n",
       "      <td>373554033.0</td>\n",
       "      <td>81.0</td>\n",
       "      <td>[{'iso_639_1': 'en', 'name': 'English'}]</td>\n",
       "      <td>NaN</td>\n",
       "      <td>Toy Story</td>\n",
       "      <td>7.7</td>\n",
       "    </tr>\n",
       "  </tbody>\n",
       "</table>\n",
       "<p>5 rows × 23 columns</p>\n",
       "</div>"
      ],
      "text/plain": [
       "   cast_id                character                 credit_id  gender  \\\n",
       "0     14.0            Woody (voice)  52fe4284c3a36847f8024f95     2.0   \n",
       "1     15.0   Buzz Lightyear (voice)  52fe4284c3a36847f8024f99     2.0   \n",
       "2     16.0  Mr. Potato Head (voice)  52fe4284c3a36847f8024f9d     2.0   \n",
       "3     17.0       Slinky Dog (voice)  52fe4284c3a36847f8024fa1     2.0   \n",
       "4     18.0              Rex (voice)  52fe4284c3a36847f8024fa5     2.0   \n",
       "\n",
       "   id_actor  movie           name  order                      profile_path  \\\n",
       "0      31.0    862      Tom Hanks    0.0  /pQFoyx7rp09CJTAb932F2g8Nlho.jpg   \n",
       "1   12898.0    862      Tim Allen    1.0  /uX2xVf6pMmPepxnvFWyBtjexzgY.jpg   \n",
       "2    7167.0    862    Don Rickles    2.0  /h5BcaDMPRVLHLDzbQavec4xfSdt.jpg   \n",
       "3   12899.0    862     Jim Varney    3.0  /eIo2jVVXYgjDtaHoF19Ll9vtW7h.jpg   \n",
       "4   12900.0    862  Wallace Shawn    4.0  /oGE6JqPP2xH4tNORKNqxbNPYi7u.jpg   \n",
       "\n",
       "                                              genres     ...       \\\n",
       "0  [{'id': 16, 'name': 'Animation'}, {'id': 35, '...     ...        \n",
       "1  [{'id': 16, 'name': 'Animation'}, {'id': 35, '...     ...        \n",
       "2  [{'id': 16, 'name': 'Animation'}, {'id': 35, '...     ...        \n",
       "3  [{'id': 16, 'name': 'Animation'}, {'id': 35, '...     ...        \n",
       "4  [{'id': 16, 'name': 'Animation'}, {'id': 35, '...     ...        \n",
       "\n",
       "                                            overview  popularity  \\\n",
       "0  Led by Woody, Andy's toys live happily in his ...     21.9469   \n",
       "1  Led by Woody, Andy's toys live happily in his ...     21.9469   \n",
       "2  Led by Woody, Andy's toys live happily in his ...     21.9469   \n",
       "3  Led by Woody, Andy's toys live happily in his ...     21.9469   \n",
       "4  Led by Woody, Andy's toys live happily in his ...     21.9469   \n",
       "\n",
       "                        poster_path release_date      revenue runtime  \\\n",
       "0  /rhIRbceoE9lR4veEXuwCC2wARtG.jpg   1995-10-30  373554033.0    81.0   \n",
       "1  /rhIRbceoE9lR4veEXuwCC2wARtG.jpg   1995-10-30  373554033.0    81.0   \n",
       "2  /rhIRbceoE9lR4veEXuwCC2wARtG.jpg   1995-10-30  373554033.0    81.0   \n",
       "3  /rhIRbceoE9lR4veEXuwCC2wARtG.jpg   1995-10-30  373554033.0    81.0   \n",
       "4  /rhIRbceoE9lR4veEXuwCC2wARtG.jpg   1995-10-30  373554033.0    81.0   \n",
       "\n",
       "                           spoken_languages  tagline      title vote_average  \n",
       "0  [{'iso_639_1': 'en', 'name': 'English'}]      NaN  Toy Story          7.7  \n",
       "1  [{'iso_639_1': 'en', 'name': 'English'}]      NaN  Toy Story          7.7  \n",
       "2  [{'iso_639_1': 'en', 'name': 'English'}]      NaN  Toy Story          7.7  \n",
       "3  [{'iso_639_1': 'en', 'name': 'English'}]      NaN  Toy Story          7.7  \n",
       "4  [{'iso_639_1': 'en', 'name': 'English'}]      NaN  Toy Story          7.7  \n",
       "\n",
       "[5 rows x 23 columns]"
      ]
     },
     "execution_count": 163,
     "metadata": {},
     "output_type": "execute_result"
    }
   ],
   "source": [
    "actors_and_movie_info_df.head()"
   ]
  },
  {
   "cell_type": "code",
   "execution_count": 173,
   "metadata": {},
   "outputs": [],
   "source": [
    "actors_and_movie_info_df.head(100).to_csv('../data/actors_and_movies.neo4j_sm.csv', na_rep='N/A', index=False,\n",
    "                               columns=['name', 'id_actor', 'profile_path', 'character', 'movie',  'id_movie',\n",
    "                                        'genres', 'homepage', 'original_title', 'popularity', 'poster_path',\n",
    "                                        'title', 'vote_average'])"
   ]
  },
  {
   "cell_type": "code",
   "execution_count": 171,
   "metadata": {},
   "outputs": [
    {
     "data": {
      "text/plain": [
       "Index(['cast_id', 'character', 'credit_id', 'gender', 'id_actor', 'movie',\n",
       "       'name', 'order', 'profile_path', 'genres', 'homepage', 'id_movie',\n",
       "       'original_title', 'overview', 'popularity', 'poster_path',\n",
       "       'release_date', 'revenue', 'runtime', 'spoken_languages', 'tagline',\n",
       "       'title', 'vote_average'],\n",
       "      dtype='object')"
      ]
     },
     "execution_count": 171,
     "metadata": {},
     "output_type": "execute_result"
    }
   ],
   "source": [
    "actors_and_movie_info_df.columns"
   ]
  },
  {
   "cell_type": "code",
   "execution_count": 170,
   "metadata": {},
   "outputs": [
    {
     "data": {
      "text/plain": [
       "array([' ', \"'\", ',', '0', '1', '2', '3', '4', '5', '6', '7', '8', '9',\n",
       "       ':', 'A', 'C', 'D', 'F', 'H', 'M', 'R', 'S', 'T', 'V', 'W', '[',\n",
       "       ']', 'a', 'c', 'd', 'e', 'g', 'h', 'i', 'l', 'm', 'n', 'o', 'r',\n",
       "       's', 't', 'u', 'v', 'y', '{', '}'], dtype=object)"
      ]
     },
     "execution_count": 170,
     "metadata": {},
     "output_type": "execute_result"
    }
   ],
   "source": []
  },
  {
   "cell_type": "code",
   "execution_count": null,
   "metadata": {},
   "outputs": [],
   "source": []
  }
 ],
 "metadata": {
  "kernelspec": {
   "display_name": "Python3 OSX",
   "language": "python",
   "name": "base"
  },
  "language_info": {
   "codemirror_mode": {
    "name": "ipython",
    "version": 3
   },
   "file_extension": ".py",
   "mimetype": "text/x-python",
   "name": "python",
   "nbconvert_exporter": "python",
   "pygments_lexer": "ipython3",
   "version": "3.7.1"
  },
  "toc": {
   "base_numbering": 1,
   "nav_menu": {},
   "number_sections": true,
   "sideBar": true,
   "skip_h1_title": false,
   "title_cell": "Table of Contents",
   "title_sidebar": "Contents",
   "toc_cell": false,
   "toc_position": {},
   "toc_section_display": true,
   "toc_window_display": false
  },
  "varInspector": {
   "cols": {
    "lenName": 16,
    "lenType": 16,
    "lenVar": 40
   },
   "kernels_config": {
    "python": {
     "delete_cmd_postfix": "",
     "delete_cmd_prefix": "del ",
     "library": "var_list.py",
     "varRefreshCmd": "print(var_dic_list())"
    },
    "r": {
     "delete_cmd_postfix": ") ",
     "delete_cmd_prefix": "rm(",
     "library": "var_list.r",
     "varRefreshCmd": "cat(var_dic_list()) "
    }
   },
   "types_to_exclude": [
    "module",
    "function",
    "builtin_function_or_method",
    "instance",
    "_Feature"
   ],
   "window_display": false
  }
 },
 "nbformat": 4,
 "nbformat_minor": 2
}
