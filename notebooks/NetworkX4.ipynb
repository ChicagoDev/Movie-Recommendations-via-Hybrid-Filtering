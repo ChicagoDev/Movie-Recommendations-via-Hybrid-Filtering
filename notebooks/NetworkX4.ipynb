{
 "cells": [
  {
   "cell_type": "code",
   "execution_count": 2,
   "metadata": {},
   "outputs": [],
   "source": [
    "import numpy as np\n",
    "import pandas as pd\n",
    "import networkx as nx\n",
    "import pickle\n",
    "import matplotlib.pyplot as plt"
   ]
  },
  {
   "cell_type": "code",
   "execution_count": 3,
   "metadata": {},
   "outputs": [],
   "source": [
    "cast_df = None\n",
    "\n",
    "with open('../data/the-movies-dataset/cast_for_network.pkl', 'rb') as fl:\n",
    "    cast_df = pickle.load(fl)"
   ]
  },
  {
   "cell_type": "code",
   "execution_count": 4,
   "metadata": {},
   "outputs": [
    {
     "name": "stderr",
     "output_type": "stream",
     "text": [
      "/anaconda3/lib/python3.7/site-packages/IPython/core/interactiveshell.py:3020: DtypeWarning: Columns (10) have mixed types. Specify dtype option on import or set low_memory=False.\n",
      "  interactivity=interactivity, compiler=compiler, result=result)\n"
     ]
    }
   ],
   "source": [
    "def convert_ids(ids_in_csv):\n",
    "    return pd.to_numeric(ids_in_csv, errors='coerce').astype('int64')\n",
    "names_for_movies_df = pd.read_csv('../data/the-movies-dataset/movies_metadata.csv'\n",
    "                        , converters={'id': lambda x: convert_ids(x), 'imdb_id': lambda x: convert_ids(x)}\n",
    "                       ,usecols=['id', 'original_title'\n",
    "                                 , 'popularity', 'overview', 'genres'\n",
    "                                 , 'revenue', 'vote_average' \n",
    "                                 ,'runtime', 'tagline'\n",
    "                                 ,'homepage','poster_path'\n",
    "                                 , 'release_date'\n",
    "                                 ,'title', 'spoken_languages'\n",
    "                                 ])"
   ]
  },
  {
   "cell_type": "code",
   "execution_count": null,
   "metadata": {},
   "outputs": [],
   "source": []
  },
  {
   "cell_type": "code",
   "execution_count": 5,
   "metadata": {},
   "outputs": [],
   "source": [
    "cast_df = cast_df.drop_duplicates()"
   ]
  },
  {
   "cell_type": "code",
   "execution_count": 6,
   "metadata": {},
   "outputs": [],
   "source": [
    "names_for_movies_df = names_for_movies_df.drop_duplicates()"
   ]
  },
  {
   "cell_type": "code",
   "execution_count": 7,
   "metadata": {},
   "outputs": [],
   "source": [
    "actors_and_movie_info_df = cast_df.merge(names_for_movies_df\n",
    "                                        , how='inner'\n",
    "                                        , left_on='movie'\n",
    "                                        , right_on='id')"
   ]
  },
  {
   "cell_type": "code",
   "execution_count": 9,
   "metadata": {},
   "outputs": [],
   "source": [
    "#actors_and_movie_info_df.rename(columns={'id_x': 'id_actor', 'id_y': 'id_movie'})"
   ]
  },
  {
   "cell_type": "code",
   "execution_count": 10,
   "metadata": {},
   "outputs": [],
   "source": [
    "actors_and_movie_info_df = actors_and_movie_info_df.rename(columns={'id_x': 'id_actor', 'id_y': 'id_movie'})"
   ]
  },
  {
   "cell_type": "markdown",
   "metadata": {},
   "source": [
    "What data do I actually want in the graph? Any Rules for building the graph? \n",
    "* Nodes\n",
    "    * Movie Names (Orginal_Title)\n",
    "        * Movie IDs\n",
    "        * Genres\n",
    "        * Overview\n",
    "        * Popularity\n",
    "        * Poster_Path\n",
    "        * Release_Date\n",
    "        * Revenue\n",
    "        * Runtime\n",
    "        * Tagline\n",
    "        * Title\n",
    "        * Vote Average\n",
    "        \n",
    "* Edges\n",
    "    * Actor Names\n",
    "        * Role in Film (character)\n",
    "    * Actor IDs\n",
    "        * id\n",
    "        * credit_id\n",
    "    * Order (Billing)\n",
    "    * Profile_Path"
   ]
  },
  {
   "cell_type": "markdown",
   "metadata": {},
   "source": [
    "## Grouping and Iterating"
   ]
  },
  {
   "cell_type": "code",
   "execution_count": null,
   "metadata": {},
   "outputs": [],
   "source": [
    "actors_filmography_group = actors_and_movie_info_df.groupby('name')"
   ]
  },
  {
   "cell_type": "code",
   "execution_count": 93,
   "metadata": {},
   "outputs": [],
   "source": [
    "test_df = actors_and_movie_info_df[(actors_and_movie_info_df.original_title == 'Toy Story') | (actors_and_movie_info_df.original_title == 'Big')]\n",
    "test_group = test_df.groupby('name')"
   ]
  },
  {
   "cell_type": "code",
   "execution_count": 98,
   "metadata": {},
   "outputs": [
    {
     "ename": "KeyboardInterrupt",
     "evalue": "",
     "output_type": "error",
     "traceback": [
      "\u001b[0;31m---------------------------------------------------------------------------\u001b[0m",
      "\u001b[0;31mKeyboardInterrupt\u001b[0m                         Traceback (most recent call last)",
      "\u001b[0;32m<ipython-input-98-77a21ad0a1a0>\u001b[0m in \u001b[0;36m<module>\u001b[0;34m\u001b[0m\n\u001b[1;32m     35\u001b[0m \u001b[0;34m\u001b[0m\u001b[0m\n\u001b[1;32m     36\u001b[0m \u001b[0;34m\u001b[0m\u001b[0m\n\u001b[0;32m---> 37\u001b[0;31m     \u001b[0mmaster_graph\u001b[0m \u001b[0;34m=\u001b[0m \u001b[0mnx\u001b[0m\u001b[0;34m.\u001b[0m\u001b[0mcompose\u001b[0m\u001b[0;34m(\u001b[0m\u001b[0mmaster_graph\u001b[0m\u001b[0;34m,\u001b[0m \u001b[0mactor_stargraph\u001b[0m\u001b[0;34m)\u001b[0m\u001b[0;34m\u001b[0m\u001b[0;34m\u001b[0m\u001b[0m\n\u001b[0m\u001b[1;32m     38\u001b[0m \u001b[0;34m\u001b[0m\u001b[0m\n\u001b[1;32m     39\u001b[0m     \u001b[0;31m#print('\\n!!!!!!!!!!!!!!!!!!ACTOR-GRAPH ANALYSIS !!!!!!!!!!!!!!!!!!!!!!!!!!!!!!!!!\\n')\u001b[0m\u001b[0;34m\u001b[0m\u001b[0;34m\u001b[0m\u001b[0;34m\u001b[0m\u001b[0m\n",
      "\u001b[0;32m/anaconda3/lib/python3.7/site-packages/networkx/algorithms/operators/binary.py\u001b[0m in \u001b[0;36mcompose\u001b[0;34m(G, H)\u001b[0m\n\u001b[1;32m    322\u001b[0m \u001b[0;34m\u001b[0m\u001b[0m\n\u001b[1;32m    323\u001b[0m     \u001b[0;32mif\u001b[0m \u001b[0mG\u001b[0m\u001b[0;34m.\u001b[0m\u001b[0mis_multigraph\u001b[0m\u001b[0;34m(\u001b[0m\u001b[0;34m)\u001b[0m\u001b[0;34m:\u001b[0m\u001b[0;34m\u001b[0m\u001b[0;34m\u001b[0m\u001b[0m\n\u001b[0;32m--> 324\u001b[0;31m         \u001b[0mR\u001b[0m\u001b[0;34m.\u001b[0m\u001b[0madd_edges_from\u001b[0m\u001b[0;34m(\u001b[0m\u001b[0mG\u001b[0m\u001b[0;34m.\u001b[0m\u001b[0medges\u001b[0m\u001b[0;34m(\u001b[0m\u001b[0mkeys\u001b[0m\u001b[0;34m=\u001b[0m\u001b[0;32mTrue\u001b[0m\u001b[0;34m,\u001b[0m \u001b[0mdata\u001b[0m\u001b[0;34m=\u001b[0m\u001b[0;32mTrue\u001b[0m\u001b[0;34m)\u001b[0m\u001b[0;34m)\u001b[0m\u001b[0;34m\u001b[0m\u001b[0;34m\u001b[0m\u001b[0m\n\u001b[0m\u001b[1;32m    325\u001b[0m     \u001b[0;32melse\u001b[0m\u001b[0;34m:\u001b[0m\u001b[0;34m\u001b[0m\u001b[0;34m\u001b[0m\u001b[0m\n\u001b[1;32m    326\u001b[0m         \u001b[0mR\u001b[0m\u001b[0;34m.\u001b[0m\u001b[0madd_edges_from\u001b[0m\u001b[0;34m(\u001b[0m\u001b[0mG\u001b[0m\u001b[0;34m.\u001b[0m\u001b[0medges\u001b[0m\u001b[0;34m(\u001b[0m\u001b[0mdata\u001b[0m\u001b[0;34m=\u001b[0m\u001b[0;32mTrue\u001b[0m\u001b[0;34m)\u001b[0m\u001b[0;34m)\u001b[0m\u001b[0;34m\u001b[0m\u001b[0;34m\u001b[0m\u001b[0m\n",
      "\u001b[0;32m/anaconda3/lib/python3.7/site-packages/networkx/classes/multigraph.py\u001b[0m in \u001b[0;36madd_edges_from\u001b[0;34m(self, ebunch_to_add, **attr)\u001b[0m\n\u001b[1;32m    516\u001b[0m                 \u001b[0mmsg\u001b[0m \u001b[0;34m=\u001b[0m \u001b[0;34m\"Edge tuple {} must be a 2-tuple, 3-tuple or 4-tuple.\"\u001b[0m\u001b[0;34m\u001b[0m\u001b[0;34m\u001b[0m\u001b[0m\n\u001b[1;32m    517\u001b[0m                 \u001b[0;32mraise\u001b[0m \u001b[0mNetworkXError\u001b[0m\u001b[0;34m(\u001b[0m\u001b[0mmsg\u001b[0m\u001b[0;34m.\u001b[0m\u001b[0mformat\u001b[0m\u001b[0;34m(\u001b[0m\u001b[0me\u001b[0m\u001b[0;34m)\u001b[0m\u001b[0;34m)\u001b[0m\u001b[0;34m\u001b[0m\u001b[0;34m\u001b[0m\u001b[0m\n\u001b[0;32m--> 518\u001b[0;31m             \u001b[0mddd\u001b[0m \u001b[0;34m=\u001b[0m \u001b[0;34m{\u001b[0m\u001b[0;34m}\u001b[0m\u001b[0;34m\u001b[0m\u001b[0;34m\u001b[0m\u001b[0m\n\u001b[0m\u001b[1;32m    519\u001b[0m             \u001b[0mddd\u001b[0m\u001b[0;34m.\u001b[0m\u001b[0mupdate\u001b[0m\u001b[0;34m(\u001b[0m\u001b[0mattr\u001b[0m\u001b[0;34m)\u001b[0m\u001b[0;34m\u001b[0m\u001b[0;34m\u001b[0m\u001b[0m\n\u001b[1;32m    520\u001b[0m             \u001b[0;32mtry\u001b[0m\u001b[0;34m:\u001b[0m\u001b[0;34m\u001b[0m\u001b[0;34m\u001b[0m\u001b[0m\n",
      "\u001b[0;31mKeyboardInterrupt\u001b[0m: "
     ]
    }
   ],
   "source": [
    "import time\n",
    "import pprint\n",
    "import itertools\n",
    "\n",
    "master_graph = nx.MultiGraph()\n",
    "\n",
    "for filmography in actors_filmography_group:\n",
    "#for filmography in test_group:\n",
    "#     print('@@@@@@@@@@@@@@@@@@@@@@@BEGIN@@@@@@@@@@@@@@@@@@@@@@@@@@@@@@@@@@@')\n",
    "#     print('This is the Graph creation for %s :' % (actor_edge['name']))\n",
    "    \n",
    "    name = filmography[0]\n",
    "    films_df = filmography[1]\n",
    "    \n",
    "    ## Need to store attribuetes of actors in a list, not dictionary based on constraints of NetworkX\n",
    "    ## When accessing an edge, index 0 is Name, 1 is Actor_id, 2 is profile_path\n",
    "    actor_edge_attrs = [name,  films_df['id_actor'].iloc[0], films_df['profile_path'].iloc[0]]   \n",
    "    \n",
    "    films = films_df[['id_movie', 'original_title', 'profile_path', 'popularity', 'genres', 'vote_average' \n",
    "                       ,'overview', 'poster_path', 'release_date', 'revenue'\n",
    "                       ,'runtime', 'spoken_languages', 'tagline', 'title']].to_dict(orient='records')\n",
    "    \n",
    "    \n",
    "    \n",
    "    nodes_for_stargraph = [film['title'] for film in films]\n",
    "    node_attributes = {film['title']: film for film in films}\n",
    "    \n",
    "    #pprint.pprint(node_attributes)\n",
    "    \n",
    "    actor_stargraph = nx.star_graph(nodes_for_stargraph, nx.MultiGraph)\n",
    "    \n",
    "    nx.set_node_attributes(actor_stargraph, node_attributes)\n",
    "    nx.set_edge_attributes(actor_stargraph, actor_edge_attrs, 'actor')\n",
    "    \n",
    " \n",
    "    \n",
    "    master_graph = nx.compose(master_graph, actor_stargraph)\n",
    "        \n",
    "    #print('\\n!!!!!!!!!!!!!!!!!!ACTOR-GRAPH ANALYSIS !!!!!!!!!!!!!!!!!!!!!!!!!!!!!!!!!\\n')\n",
    "    #print(\"The Actor's Graph is composed of:\")\n",
    "    #pprint.pprint(actor_stargraph.nodes())\n",
    "    #pprint.pprint(actor_stargraph.edges())\n",
    "    \n",
    "    #print('\\n\\n\\n********************MASTER-GRAPH************************************')\n",
    "    #pprint.pprint(master_graph.nodes())\n",
    "    #print()\n",
    "    #pprint.pprint(master_graph.edges())\n",
    "    #pprint.pprint(list(nx.connected_components(master_graph)))\n",
    "    #time.sleep(.25)\n",
    "    \n",
    "#     print(\"\\nThe Master Graph is composed of:\")\n",
    "#     shortest_paths = dict(nx.all_pairs_shortest_path(master_graph))\n",
    "#     for paths in shortest_paths:\n",
    "#         print('PATH::::::::::::::::')\n",
    "#         pprint.pprint(paths)\n",
    "#         print('____________________')\n",
    "\n",
    "    #print('^^^^^^^^^^^^^^^^^^^^END^^^^^^^^^^^^^^^^^^^^^^^^^^^^^^\\n')"
   ]
  },
  {
   "cell_type": "code",
   "execution_count": 97,
   "metadata": {},
   "outputs": [
    {
     "data": {
      "text/plain": [
       "MultiEdgeDataView([('Big', 'Toy Story', {'actor': ['Tom Hanks', 31.0, '/pQFoyx7rp09CJTAb932F2g8Nlho.jpg']})])"
      ]
     },
     "execution_count": 97,
     "metadata": {},
     "output_type": "execute_result"
    }
   ],
   "source": [
    "master_graph.edges.data()"
   ]
  },
  {
   "cell_type": "code",
   "execution_count": 100,
   "metadata": {},
   "outputs": [
    {
     "data": {
      "text/plain": [
       "[(\"Get Rich or Die Tryin'\", 'How to Make Money Selling Drugs', 0),\n",
       " ('How to Make Money Selling Drugs', 'Edtv', 0),\n",
       " ('Edtv', 'The Prophecy', 0),\n",
       " ('The Prophecy', 'Zodiac', 0),\n",
       " ('Zodiac', 'Final Destination 2', 0),\n",
       " ('Final Destination 2', 'The Virgin Suicides', 0),\n",
       " ('The Virgin Suicides', 'Out Cold', 0),\n",
       " ('Out Cold', 'Friday the 13th Part VI: Jason Lives', 0),\n",
       " ('Friday the 13th Part VI: Jason Lives', 'Righteous Kill', 0),\n",
       " ('Righteous Kill', \"Get Rich or Die Tryin'\", 0)]"
      ]
     },
     "execution_count": 100,
     "metadata": {},
     "output_type": "execute_result"
    }
   ],
   "source": [
    "nx.find_cycle(master_graph)"
   ]
  },
  {
   "cell_type": "markdown",
   "metadata": {},
   "source": [
    "While iterating, I will have one edge, it will be the same, the actor. As well as one graph. Build the actors profile in an edge dictionary. Then, build the set of nodes. Then create all combinations of nodes with the same edge, and place them into the multigraph. "
   ]
  },
  {
   "cell_type": "code",
   "execution_count": 76,
   "metadata": {},
   "outputs": [],
   "source": [
    "A2 = nx.nx_agraph.to_agraph(master_graph) \n",
    "A2.write('/Users/bjg/Desktop/graph.out')"
   ]
  },
  {
   "cell_type": "code",
   "execution_count": 102,
   "metadata": {},
   "outputs": [
    {
     "data": {
      "text/plain": [
       "{'id_movie': 285135,\n",
       " 'original_title': 'Zodiac',\n",
       " 'profile_path': '/922dX7dP43qvKmqodz6akxdfJ5p.jpg',\n",
       " 'popularity': 3.2997300000000003,\n",
       " 'genres': \"[{'id': 878, 'name': 'Science Fiction'}, {'id': 10770, 'name': 'TV Movie'}]\",\n",
       " 'vote_average': 3.8,\n",
       " 'overview': 'A 2,000-year-old astrology board possesses deadly powers that threaten the fate of humanity.',\n",
       " 'poster_path': '/dafW2jgYi345RLn4cFoyCol4mUk.jpg',\n",
       " 'release_date': '2014-08-16',\n",
       " 'revenue': 0.0,\n",
       " 'runtime': 89.0,\n",
       " 'spoken_languages': \"[{'iso_639_1': 'en', 'name': 'English'}]\",\n",
       " 'tagline': 'The Signs are Everywhere',\n",
       " 'title': 'Zodiac'}"
      ]
     },
     "execution_count": 102,
     "metadata": {},
     "output_type": "execute_result"
    }
   ],
   "source": [
    "master_graph.node['Zodiac']"
   ]
  },
  {
   "cell_type": "code",
   "execution_count": 103,
   "metadata": {},
   "outputs": [
    {
     "data": {
      "text/plain": [
       "25899"
      ]
     },
     "execution_count": 103,
     "metadata": {},
     "output_type": "execute_result"
    }
   ],
   "source": [
    "nx.number_of_nodes(master_graph)"
   ]
  },
  {
   "cell_type": "code",
   "execution_count": null,
   "metadata": {},
   "outputs": [],
   "source": []
  }
 ],
 "metadata": {
  "kernelspec": {
   "display_name": "Python3 OSX",
   "language": "python",
   "name": "base"
  },
  "language_info": {
   "codemirror_mode": {
    "name": "ipython",
    "version": 3
   },
   "file_extension": ".py",
   "mimetype": "text/x-python",
   "name": "python",
   "nbconvert_exporter": "python",
   "pygments_lexer": "ipython3",
   "version": "3.7.1"
  },
  "toc": {
   "base_numbering": 1,
   "nav_menu": {},
   "number_sections": true,
   "sideBar": true,
   "skip_h1_title": false,
   "title_cell": "Table of Contents",
   "title_sidebar": "Contents",
   "toc_cell": false,
   "toc_position": {},
   "toc_section_display": true,
   "toc_window_display": false
  },
  "varInspector": {
   "cols": {
    "lenName": 16,
    "lenType": 16,
    "lenVar": 40
   },
   "kernels_config": {
    "python": {
     "delete_cmd_postfix": "",
     "delete_cmd_prefix": "del ",
     "library": "var_list.py",
     "varRefreshCmd": "print(var_dic_list())"
    },
    "r": {
     "delete_cmd_postfix": ") ",
     "delete_cmd_prefix": "rm(",
     "library": "var_list.r",
     "varRefreshCmd": "cat(var_dic_list()) "
    }
   },
   "types_to_exclude": [
    "module",
    "function",
    "builtin_function_or_method",
    "instance",
    "_Feature"
   ],
   "window_display": false
  }
 },
 "nbformat": 4,
 "nbformat_minor": 2
}
